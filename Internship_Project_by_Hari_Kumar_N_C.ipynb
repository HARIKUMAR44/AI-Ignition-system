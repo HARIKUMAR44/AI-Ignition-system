{
  "nbformat": 4,
  "nbformat_minor": 0,
  "metadata": {
    "kernelspec": {
      "display_name": "Python 3",
      "language": "python",
      "name": "python3"
    },
    "language_info": {
      "codemirror_mode": {
        "name": "ipython",
        "version": 3
      },
      "file_extension": ".py",
      "mimetype": "text/x-python",
      "name": "python",
      "nbconvert_exporter": "python",
      "pygments_lexer": "ipython3",
      "version": "3.7.1"
    },
    "colab": {
      "name": "Internship_Project_by_Hari_Kumar_N_C.ipynb",
      "provenance": [],
      "toc_visible": true,
      "include_colab_link": true
    }
  },
  "cells": [
    {
      "cell_type": "markdown",
      "metadata": {
        "id": "view-in-github",
        "colab_type": "text"
      },
      "source": [
        "<a href=\"https://colab.research.google.com/github/HARIKUMAR44/AI-Ignition-system/blob/master/Internship_Project_by_Hari_Kumar_N_C.ipynb\" target=\"_parent\"><img src=\"https://colab.research.google.com/assets/colab-badge.svg\" alt=\"Open In Colab\"/></a>"
      ]
    },
    {
      "cell_type": "markdown",
      "metadata": {
        "id": "IZkgStM-rSOA",
        "colab_type": "text"
      },
      "source": [
        "## Data Understanding"
      ]
    },
    {
      "cell_type": "markdown",
      "metadata": {
        "id": "QX7pWl50rSOB",
        "colab_type": "text"
      },
      "source": [
        "### Import Data"
      ]
    },
    {
      "cell_type": "code",
      "metadata": {
        "id": "8tHDTnYIrSOC",
        "colab_type": "code",
        "colab": {}
      },
      "source": [
        "from __future__ import division, print_function, unicode_literals\n",
        "\n",
        "import numpy as np\n",
        "import pandas as pd\n",
        "import matplotlib.pyplot as plt\n",
        "import os\n",
        "import seaborn as sns\n",
        "\n",
        "%matplotlib inline\n",
        "\n",
        "import warnings\n",
        "warnings.filterwarnings('ignore')"
      ],
      "execution_count": 8,
      "outputs": []
    },
    {
      "cell_type": "code",
      "metadata": {
        "id": "kN7exXytrSOF",
        "colab_type": "code",
        "colab": {}
      },
      "source": [
        "#Import packages and read data\n",
        "bank = pd.read_csv('Bank_Personal_Loan_Modelling.csv')"
      ],
      "execution_count": 9,
      "outputs": []
    },
    {
      "cell_type": "markdown",
      "metadata": {
        "id": "A7Db3vx3rSOI",
        "colab_type": "text"
      },
      "source": [
        "### Missing Values"
      ]
    },
    {
      "cell_type": "code",
      "metadata": {
        "id": "PzOHxaclrSOJ",
        "colab_type": "code",
        "colab": {
          "base_uri": "https://localhost:8080/",
          "height": 408
        },
        "outputId": "9c2e1aa3-b943-4e23-d7b9-ce0f29875c3a"
      },
      "source": [
        "# No missing data\n",
        "print(bank.info())\n",
        "\n",
        "# No duplicated data\n",
        "print(sum(bank.duplicated()))"
      ],
      "execution_count": 10,
      "outputs": [
        {
          "output_type": "stream",
          "text": [
            "<class 'pandas.core.frame.DataFrame'>\n",
            "RangeIndex: 5000 entries, 0 to 4999\n",
            "Data columns (total 14 columns):\n",
            " #   Column              Non-Null Count  Dtype  \n",
            "---  ------              --------------  -----  \n",
            " 0   ID                  5000 non-null   int64  \n",
            " 1   Age                 5000 non-null   int64  \n",
            " 2   Experience          5000 non-null   int64  \n",
            " 3   Income              5000 non-null   int64  \n",
            " 4   ZIP Code            5000 non-null   int64  \n",
            " 5   Family              5000 non-null   int64  \n",
            " 6   CCAvg               5000 non-null   float64\n",
            " 7   Education           5000 non-null   int64  \n",
            " 8   Mortgage            5000 non-null   int64  \n",
            " 9   Personal Loan       5000 non-null   int64  \n",
            " 10  Securities Account  5000 non-null   int64  \n",
            " 11  CD Account          5000 non-null   int64  \n",
            " 12  Online              5000 non-null   int64  \n",
            " 13  CreditCard          5000 non-null   int64  \n",
            "dtypes: float64(1), int64(13)\n",
            "memory usage: 547.0 KB\n",
            "None\n",
            "0\n"
          ],
          "name": "stdout"
        }
      ]
    },
    {
      "cell_type": "markdown",
      "metadata": {
        "id": "_PV1CfkerSOM",
        "colab_type": "text"
      },
      "source": [
        "### Data Description & Distribution"
      ]
    },
    {
      "cell_type": "code",
      "metadata": {
        "id": "aWdnzacjrSOM",
        "colab_type": "code",
        "colab": {
          "base_uri": "https://localhost:8080/",
          "height": 241
        },
        "outputId": "acc3153d-8ca8-4992-b18e-a54a246932c5"
      },
      "source": [
        "#First few rows of data\n",
        "bank.head()"
      ],
      "execution_count": 11,
      "outputs": [
        {
          "output_type": "execute_result",
          "data": {
            "text/html": [
              "<div>\n",
              "<style scoped>\n",
              "    .dataframe tbody tr th:only-of-type {\n",
              "        vertical-align: middle;\n",
              "    }\n",
              "\n",
              "    .dataframe tbody tr th {\n",
              "        vertical-align: top;\n",
              "    }\n",
              "\n",
              "    .dataframe thead th {\n",
              "        text-align: right;\n",
              "    }\n",
              "</style>\n",
              "<table border=\"1\" class=\"dataframe\">\n",
              "  <thead>\n",
              "    <tr style=\"text-align: right;\">\n",
              "      <th></th>\n",
              "      <th>ID</th>\n",
              "      <th>Age</th>\n",
              "      <th>Experience</th>\n",
              "      <th>Income</th>\n",
              "      <th>ZIP Code</th>\n",
              "      <th>Family</th>\n",
              "      <th>CCAvg</th>\n",
              "      <th>Education</th>\n",
              "      <th>Mortgage</th>\n",
              "      <th>Personal Loan</th>\n",
              "      <th>Securities Account</th>\n",
              "      <th>CD Account</th>\n",
              "      <th>Online</th>\n",
              "      <th>CreditCard</th>\n",
              "    </tr>\n",
              "  </thead>\n",
              "  <tbody>\n",
              "    <tr>\n",
              "      <th>0</th>\n",
              "      <td>1</td>\n",
              "      <td>25</td>\n",
              "      <td>1</td>\n",
              "      <td>49</td>\n",
              "      <td>91107</td>\n",
              "      <td>4</td>\n",
              "      <td>1.6</td>\n",
              "      <td>1</td>\n",
              "      <td>0</td>\n",
              "      <td>0</td>\n",
              "      <td>1</td>\n",
              "      <td>0</td>\n",
              "      <td>0</td>\n",
              "      <td>0</td>\n",
              "    </tr>\n",
              "    <tr>\n",
              "      <th>1</th>\n",
              "      <td>2</td>\n",
              "      <td>45</td>\n",
              "      <td>19</td>\n",
              "      <td>34</td>\n",
              "      <td>90089</td>\n",
              "      <td>3</td>\n",
              "      <td>1.5</td>\n",
              "      <td>1</td>\n",
              "      <td>0</td>\n",
              "      <td>0</td>\n",
              "      <td>1</td>\n",
              "      <td>0</td>\n",
              "      <td>0</td>\n",
              "      <td>0</td>\n",
              "    </tr>\n",
              "    <tr>\n",
              "      <th>2</th>\n",
              "      <td>3</td>\n",
              "      <td>39</td>\n",
              "      <td>15</td>\n",
              "      <td>11</td>\n",
              "      <td>94720</td>\n",
              "      <td>1</td>\n",
              "      <td>1.0</td>\n",
              "      <td>1</td>\n",
              "      <td>0</td>\n",
              "      <td>0</td>\n",
              "      <td>0</td>\n",
              "      <td>0</td>\n",
              "      <td>0</td>\n",
              "      <td>0</td>\n",
              "    </tr>\n",
              "    <tr>\n",
              "      <th>3</th>\n",
              "      <td>4</td>\n",
              "      <td>35</td>\n",
              "      <td>9</td>\n",
              "      <td>100</td>\n",
              "      <td>94112</td>\n",
              "      <td>1</td>\n",
              "      <td>2.7</td>\n",
              "      <td>2</td>\n",
              "      <td>0</td>\n",
              "      <td>0</td>\n",
              "      <td>0</td>\n",
              "      <td>0</td>\n",
              "      <td>0</td>\n",
              "      <td>0</td>\n",
              "    </tr>\n",
              "    <tr>\n",
              "      <th>4</th>\n",
              "      <td>5</td>\n",
              "      <td>35</td>\n",
              "      <td>8</td>\n",
              "      <td>45</td>\n",
              "      <td>91330</td>\n",
              "      <td>4</td>\n",
              "      <td>1.0</td>\n",
              "      <td>2</td>\n",
              "      <td>0</td>\n",
              "      <td>0</td>\n",
              "      <td>0</td>\n",
              "      <td>0</td>\n",
              "      <td>0</td>\n",
              "      <td>1</td>\n",
              "    </tr>\n",
              "  </tbody>\n",
              "</table>\n",
              "</div>"
            ],
            "text/plain": [
              "   ID  Age  Experience  ...  CD Account  Online  CreditCard\n",
              "0   1   25           1  ...           0       0           0\n",
              "1   2   45          19  ...           0       0           0\n",
              "2   3   39          15  ...           0       0           0\n",
              "3   4   35           9  ...           0       0           0\n",
              "4   5   35           8  ...           0       0           1\n",
              "\n",
              "[5 rows x 14 columns]"
            ]
          },
          "metadata": {
            "tags": []
          },
          "execution_count": 11
        }
      ]
    },
    {
      "cell_type": "code",
      "metadata": {
        "id": "WIXJ191prSOP",
        "colab_type": "code",
        "colab": {
          "base_uri": "https://localhost:8080/",
          "height": 34
        },
        "outputId": "e57517f9-80e3-4d8d-d68a-fdf6ff434647"
      },
      "source": [
        "#number of columns and rows\n",
        "bank.shape"
      ],
      "execution_count": 12,
      "outputs": [
        {
          "output_type": "execute_result",
          "data": {
            "text/plain": [
              "(5000, 14)"
            ]
          },
          "metadata": {
            "tags": []
          },
          "execution_count": 12
        }
      ]
    },
    {
      "cell_type": "code",
      "metadata": {
        "id": "uzlO8QsyrSOS",
        "colab_type": "code",
        "colab": {
          "base_uri": "https://localhost:8080/",
          "height": 85
        },
        "outputId": "66b54ec4-1d5c-418a-9a99-6396a2d0b643"
      },
      "source": [
        "#List all the column names\n",
        "bank.columns"
      ],
      "execution_count": 13,
      "outputs": [
        {
          "output_type": "execute_result",
          "data": {
            "text/plain": [
              "Index(['ID', 'Age', 'Experience', 'Income', 'ZIP Code', 'Family', 'CCAvg',\n",
              "       'Education', 'Mortgage', 'Personal Loan', 'Securities Account',\n",
              "       'CD Account', 'Online', 'CreditCard'],\n",
              "      dtype='object')"
            ]
          },
          "metadata": {
            "tags": []
          },
          "execution_count": 13
        }
      ]
    },
    {
      "cell_type": "code",
      "metadata": {
        "id": "RGcaUhx0rSOV",
        "colab_type": "code",
        "colab": {
          "base_uri": "https://localhost:8080/",
          "height": 334
        },
        "outputId": "764ea883-2771-4823-9ca1-c846d0cb963c"
      },
      "source": [
        "#Descriptive statistics for numeric attributes\n",
        "bank.describe()"
      ],
      "execution_count": 14,
      "outputs": [
        {
          "output_type": "execute_result",
          "data": {
            "text/html": [
              "<div>\n",
              "<style scoped>\n",
              "    .dataframe tbody tr th:only-of-type {\n",
              "        vertical-align: middle;\n",
              "    }\n",
              "\n",
              "    .dataframe tbody tr th {\n",
              "        vertical-align: top;\n",
              "    }\n",
              "\n",
              "    .dataframe thead th {\n",
              "        text-align: right;\n",
              "    }\n",
              "</style>\n",
              "<table border=\"1\" class=\"dataframe\">\n",
              "  <thead>\n",
              "    <tr style=\"text-align: right;\">\n",
              "      <th></th>\n",
              "      <th>ID</th>\n",
              "      <th>Age</th>\n",
              "      <th>Experience</th>\n",
              "      <th>Income</th>\n",
              "      <th>ZIP Code</th>\n",
              "      <th>Family</th>\n",
              "      <th>CCAvg</th>\n",
              "      <th>Education</th>\n",
              "      <th>Mortgage</th>\n",
              "      <th>Personal Loan</th>\n",
              "      <th>Securities Account</th>\n",
              "      <th>CD Account</th>\n",
              "      <th>Online</th>\n",
              "      <th>CreditCard</th>\n",
              "    </tr>\n",
              "  </thead>\n",
              "  <tbody>\n",
              "    <tr>\n",
              "      <th>count</th>\n",
              "      <td>5000.000000</td>\n",
              "      <td>5000.000000</td>\n",
              "      <td>5000.000000</td>\n",
              "      <td>5000.000000</td>\n",
              "      <td>5000.000000</td>\n",
              "      <td>5000.000000</td>\n",
              "      <td>5000.000000</td>\n",
              "      <td>5000.000000</td>\n",
              "      <td>5000.000000</td>\n",
              "      <td>5000.000000</td>\n",
              "      <td>5000.000000</td>\n",
              "      <td>5000.00000</td>\n",
              "      <td>5000.000000</td>\n",
              "      <td>5000.000000</td>\n",
              "    </tr>\n",
              "    <tr>\n",
              "      <th>mean</th>\n",
              "      <td>2500.500000</td>\n",
              "      <td>45.338400</td>\n",
              "      <td>20.104600</td>\n",
              "      <td>73.774200</td>\n",
              "      <td>93152.503000</td>\n",
              "      <td>2.396400</td>\n",
              "      <td>1.937938</td>\n",
              "      <td>1.881000</td>\n",
              "      <td>56.498800</td>\n",
              "      <td>0.096000</td>\n",
              "      <td>0.104400</td>\n",
              "      <td>0.06040</td>\n",
              "      <td>0.596800</td>\n",
              "      <td>0.294000</td>\n",
              "    </tr>\n",
              "    <tr>\n",
              "      <th>std</th>\n",
              "      <td>1443.520003</td>\n",
              "      <td>11.463166</td>\n",
              "      <td>11.467954</td>\n",
              "      <td>46.033729</td>\n",
              "      <td>2121.852197</td>\n",
              "      <td>1.147663</td>\n",
              "      <td>1.747659</td>\n",
              "      <td>0.839869</td>\n",
              "      <td>101.713802</td>\n",
              "      <td>0.294621</td>\n",
              "      <td>0.305809</td>\n",
              "      <td>0.23825</td>\n",
              "      <td>0.490589</td>\n",
              "      <td>0.455637</td>\n",
              "    </tr>\n",
              "    <tr>\n",
              "      <th>min</th>\n",
              "      <td>1.000000</td>\n",
              "      <td>23.000000</td>\n",
              "      <td>-3.000000</td>\n",
              "      <td>8.000000</td>\n",
              "      <td>9307.000000</td>\n",
              "      <td>1.000000</td>\n",
              "      <td>0.000000</td>\n",
              "      <td>1.000000</td>\n",
              "      <td>0.000000</td>\n",
              "      <td>0.000000</td>\n",
              "      <td>0.000000</td>\n",
              "      <td>0.00000</td>\n",
              "      <td>0.000000</td>\n",
              "      <td>0.000000</td>\n",
              "    </tr>\n",
              "    <tr>\n",
              "      <th>25%</th>\n",
              "      <td>1250.750000</td>\n",
              "      <td>35.000000</td>\n",
              "      <td>10.000000</td>\n",
              "      <td>39.000000</td>\n",
              "      <td>91911.000000</td>\n",
              "      <td>1.000000</td>\n",
              "      <td>0.700000</td>\n",
              "      <td>1.000000</td>\n",
              "      <td>0.000000</td>\n",
              "      <td>0.000000</td>\n",
              "      <td>0.000000</td>\n",
              "      <td>0.00000</td>\n",
              "      <td>0.000000</td>\n",
              "      <td>0.000000</td>\n",
              "    </tr>\n",
              "    <tr>\n",
              "      <th>50%</th>\n",
              "      <td>2500.500000</td>\n",
              "      <td>45.000000</td>\n",
              "      <td>20.000000</td>\n",
              "      <td>64.000000</td>\n",
              "      <td>93437.000000</td>\n",
              "      <td>2.000000</td>\n",
              "      <td>1.500000</td>\n",
              "      <td>2.000000</td>\n",
              "      <td>0.000000</td>\n",
              "      <td>0.000000</td>\n",
              "      <td>0.000000</td>\n",
              "      <td>0.00000</td>\n",
              "      <td>1.000000</td>\n",
              "      <td>0.000000</td>\n",
              "    </tr>\n",
              "    <tr>\n",
              "      <th>75%</th>\n",
              "      <td>3750.250000</td>\n",
              "      <td>55.000000</td>\n",
              "      <td>30.000000</td>\n",
              "      <td>98.000000</td>\n",
              "      <td>94608.000000</td>\n",
              "      <td>3.000000</td>\n",
              "      <td>2.500000</td>\n",
              "      <td>3.000000</td>\n",
              "      <td>101.000000</td>\n",
              "      <td>0.000000</td>\n",
              "      <td>0.000000</td>\n",
              "      <td>0.00000</td>\n",
              "      <td>1.000000</td>\n",
              "      <td>1.000000</td>\n",
              "    </tr>\n",
              "    <tr>\n",
              "      <th>max</th>\n",
              "      <td>5000.000000</td>\n",
              "      <td>67.000000</td>\n",
              "      <td>43.000000</td>\n",
              "      <td>224.000000</td>\n",
              "      <td>96651.000000</td>\n",
              "      <td>4.000000</td>\n",
              "      <td>10.000000</td>\n",
              "      <td>3.000000</td>\n",
              "      <td>635.000000</td>\n",
              "      <td>1.000000</td>\n",
              "      <td>1.000000</td>\n",
              "      <td>1.00000</td>\n",
              "      <td>1.000000</td>\n",
              "      <td>1.000000</td>\n",
              "    </tr>\n",
              "  </tbody>\n",
              "</table>\n",
              "</div>"
            ],
            "text/plain": [
              "                ID          Age  ...       Online   CreditCard\n",
              "count  5000.000000  5000.000000  ...  5000.000000  5000.000000\n",
              "mean   2500.500000    45.338400  ...     0.596800     0.294000\n",
              "std    1443.520003    11.463166  ...     0.490589     0.455637\n",
              "min       1.000000    23.000000  ...     0.000000     0.000000\n",
              "25%    1250.750000    35.000000  ...     0.000000     0.000000\n",
              "50%    2500.500000    45.000000  ...     1.000000     0.000000\n",
              "75%    3750.250000    55.000000  ...     1.000000     1.000000\n",
              "max    5000.000000    67.000000  ...     1.000000     1.000000\n",
              "\n",
              "[8 rows x 14 columns]"
            ]
          },
          "metadata": {
            "tags": []
          },
          "execution_count": 14
        }
      ]
    },
    {
      "cell_type": "code",
      "metadata": {
        "id": "CciTZPkUrSOY",
        "colab_type": "code",
        "colab": {
          "base_uri": "https://localhost:8080/",
          "height": 272
        },
        "outputId": "92563c09-a0ab-4e6a-8ec1-273d4f8a2e7c"
      },
      "source": [
        "# Binary categories: target variable personal loan, also securities account, CD account, online banking and credit card. \n",
        "# Counts of both classes in binary variables\n",
        "\n",
        "## Personal loan - Did this customer accept the personal loan offered in the last campaign? This is our target variable\n",
        "print(bank['Personal Loan'].value_counts(dropna = False))\n",
        "\n",
        "## Securities Account - Does the customer have a securities account with the bank?\n",
        "print(bank['Securities Account'].value_counts(dropna = False))\n",
        "\n",
        "## CD Account - Does the customer have a certificate of deposit (CD) account with the bank?\n",
        "print(bank['CD Account'].value_counts(dropna = False))\n",
        "\n",
        "## Online - Does the customer use internet banking facilities?\n",
        "print(bank['Online'].value_counts(dropna = False))\n",
        "\n",
        "## Credit Card - Does the customer use a credit card issued by UniversalBank?\n",
        "print(bank['CreditCard'].value_counts(dropna = False))"
      ],
      "execution_count": 15,
      "outputs": [
        {
          "output_type": "stream",
          "text": [
            "0    4520\n",
            "1     480\n",
            "Name: Personal Loan, dtype: int64\n",
            "0    4478\n",
            "1     522\n",
            "Name: Securities Account, dtype: int64\n",
            "0    4698\n",
            "1     302\n",
            "Name: CD Account, dtype: int64\n",
            "1    2984\n",
            "0    2016\n",
            "Name: Online, dtype: int64\n",
            "0    3530\n",
            "1    1470\n",
            "Name: CreditCard, dtype: int64\n"
          ],
          "name": "stdout"
        }
      ]
    },
    {
      "cell_type": "code",
      "metadata": {
        "scrolled": true,
        "id": "j6orm6u7rSOb",
        "colab_type": "code",
        "colab": {
          "base_uri": "https://localhost:8080/",
          "height": 105
        },
        "outputId": "4cd12ce3-2ffa-44d7-8a40-0ac4abf8d7d8"
      },
      "source": [
        "# Interval categories: experience, age, income, CC avg and mortgage.\n",
        "\n",
        "## Experience - Year of experience (negative values!!!)\n",
        "print(bank.loc[bank.Experience < 0].head())\n",
        "print(len(bank[bank.Experience < 0]))    # 52 negative\n",
        "\n",
        "## Age - \n",
        "#bank.Age.plot('hist')\n",
        "#plt.title(\"Age\")\n",
        "#plt.show()\n",
        "\n",
        "## Income - Annual income in dollars (which income, what the scale is?)\n",
        "#bank.Income.plot('hist')\n",
        "#plt.title(\"Income\")\n",
        "#plt.show()\n",
        "\n",
        "## CCAvg - Average credit card spending\n",
        "#bank['CCAvg'].plot('hist')\n",
        "#plt.title(\"CCAvg\")\n",
        "#plt.show()\n",
        "\n",
        "## Mortgage - Value of House Mortgage\n",
        "#bank['Mortgage'].plot('hist')\n",
        "#plt.title(\"Mortgage\")\n",
        "#plt.show()"
      ],
      "execution_count": 83,
      "outputs": [
        {
          "output_type": "stream",
          "text": [
            "Empty DataFrame\n",
            "Columns: [Age, Experience, Income, Family, CCAvg, Education, Mortgage, Personal Loan, Securities Account, CD Account, Online, CreditCard, Area]\n",
            "Index: []\n",
            "0\n"
          ],
          "name": "stdout"
        }
      ]
    },
    {
      "cell_type": "code",
      "metadata": {
        "id": "JOnPSAS8rSOd",
        "colab_type": "code",
        "colab": {
          "base_uri": "https://localhost:8080/",
          "height": 170
        },
        "outputId": "749a3285-c4a6-42a3-e15b-b0faafd2a95c"
      },
      "source": [
        "# Ordinal categories: family and education\n",
        "\n",
        "# Family (mostly 1)\n",
        "print(bank['Family'].value_counts())\n",
        "\n",
        "# Education - Education level of the customer (mostly 1)\n",
        "print(bank['Education'].value_counts())"
      ],
      "execution_count": 21,
      "outputs": [
        {
          "output_type": "stream",
          "text": [
            "1    1472\n",
            "2    1296\n",
            "4    1222\n",
            "3    1010\n",
            "Name: Family, dtype: int64\n",
            "1    2096\n",
            "3    1501\n",
            "2    1403\n",
            "Name: Education, dtype: int64\n"
          ],
          "name": "stdout"
        }
      ]
    },
    {
      "cell_type": "code",
      "metadata": {
        "id": "rjr3yptKrSOi",
        "colab_type": "code",
        "colab": {
          "base_uri": "https://localhost:8080/",
          "height": 68
        },
        "outputId": "8484229b-254e-4829-9a80-9fcd9a7f8669"
      },
      "source": [
        "# Counts for target variable\n",
        "## Personal loan - Did this customer accept the personal loan offered in the last campaign? This is our target variable\n",
        "print(bank['Personal Loan'].value_counts(dropna = False))"
      ],
      "execution_count": 22,
      "outputs": [
        {
          "output_type": "stream",
          "text": [
            "0    4520\n",
            "1     480\n",
            "Name: Personal Loan, dtype: int64\n"
          ],
          "name": "stdout"
        }
      ]
    },
    {
      "cell_type": "code",
      "metadata": {
        "id": "fjDbMU-irSOk",
        "colab_type": "code",
        "colab": {
          "base_uri": "https://localhost:8080/",
          "height": 295
        },
        "outputId": "bf51bc0b-a1fb-43c8-ab7f-026ef2cec829"
      },
      "source": [
        "# Bar plot visualizing two classes in the target variable\n",
        "count = bank[\"Personal Loan\"].value_counts()\n",
        "count.plot(kind = \"bar\", title = \"count\")"
      ],
      "execution_count": 23,
      "outputs": [
        {
          "output_type": "execute_result",
          "data": {
            "text/plain": [
              "<matplotlib.axes._subplots.AxesSubplot at 0x7fa6b524b2b0>"
            ]
          },
          "metadata": {
            "tags": []
          },
          "execution_count": 23
        },
        {
          "output_type": "display_data",
          "data": {
            "image/png": "[encoded data removed]",
            "text/plain": [
              "<Figure size 432x288 with 1 Axes>"
            ]
          },
          "metadata": {
            "tags": [],
            "needs_background": "light"
          }
        }
      ]
    },
    {
      "cell_type": "markdown",
      "metadata": {
        "id": "dtQw4fawrSOm",
        "colab_type": "text"
      },
      "source": [
        "## Data Preparation"
      ]
    },
    {
      "cell_type": "markdown",
      "metadata": {
        "id": "Gg_NH6xarSOn",
        "colab_type": "text"
      },
      "source": [
        "### Deal with Negative Values"
      ]
    },
    {
      "cell_type": "code",
      "metadata": {
        "id": "AqoFlnCfrSOo",
        "colab_type": "code",
        "colab": {}
      },
      "source": [
        "# Deal with negative values in Experience\n",
        "## Replace with the median experience from people having the same age\n",
        "bank_Age = bank[bank.Experience >= 0].groupby('Age').Experience.median().to_frame('Experience Median').reindex()\n",
        "bank = pd.merge(bank, bank_Age, on = \"Age\", how = \"left\")\n",
        "\n",
        "# Round up the value to an integer\n",
        "bank.loc[bank.Experience < 0, 'Experience'] = np.round(bank['Experience Median'])\n",
        "\n",
        "# 23 years old == null\n",
        "## Since no one in the dataset aged 23 had reported accurate experience, and based on that of 22 and 24, we replace negative values with 0.\n",
        "bank.loc[bank.Experience.isnull(), 'Experience'] = 0"
      ],
      "execution_count": 24,
      "outputs": []
    },
    {
      "cell_type": "markdown",
      "metadata": {
        "id": "NNi3mfE6rSOq",
        "colab_type": "text"
      },
      "source": [
        "### Categorized Categorical Values"
      ]
    },
    {
      "cell_type": "code",
      "metadata": {
        "id": "zkB-jc1srSOr",
        "colab_type": "code",
        "colab": {}
      },
      "source": [
        "# ZIP Code\n",
        "bank['ZIP Code'] = bank['ZIP Code'].astype(str)\n",
        "bank['Area'] = bank['ZIP Code'].str.slice(0, 3)\n",
        "bank['Area'] = bank['Area'].astype('category')\n",
        "bank['ZIP Code'] = bank['ZIP Code'].astype('category')"
      ],
      "execution_count": 25,
      "outputs": []
    },
    {
      "cell_type": "code",
      "metadata": {
        "id": "fxqmoov9rSOt",
        "colab_type": "code",
        "colab": {}
      },
      "source": [
        "# Education, Family\n",
        "bank['Education'] = bank['Education'].astype('category')\n",
        "bank['Family'] = bank['Family'].astype('category')"
      ],
      "execution_count": 26,
      "outputs": []
    },
    {
      "cell_type": "code",
      "metadata": {
        "id": "q-JCVOzBrSOw",
        "colab_type": "code",
        "colab": {
          "base_uri": "https://localhost:8080/",
          "height": 306
        },
        "outputId": "df1694cd-313a-46a9-eade-c7b38780c249"
      },
      "source": [
        "# Show all the data types\n",
        "bank.dtypes"
      ],
      "execution_count": 27,
      "outputs": [
        {
          "output_type": "execute_result",
          "data": {
            "text/plain": [
              "ID                       int64\n",
              "Age                      int64\n",
              "Experience             float64\n",
              "Income                   int64\n",
              "ZIP Code              category\n",
              "Family                category\n",
              "CCAvg                  float64\n",
              "Education             category\n",
              "Mortgage                 int64\n",
              "Personal Loan            int64\n",
              "Securities Account       int64\n",
              "CD Account               int64\n",
              "Online                   int64\n",
              "CreditCard               int64\n",
              "Experience Median      float64\n",
              "Area                  category\n",
              "dtype: object"
            ]
          },
          "metadata": {
            "tags": []
          },
          "execution_count": 27
        }
      ]
    },
    {
      "cell_type": "markdown",
      "metadata": {
        "id": "dBIjLNzjrSOz",
        "colab_type": "text"
      },
      "source": [
        "### Correlation"
      ]
    },
    {
      "cell_type": "code",
      "metadata": {
        "id": "HFiP0nLPrSO0",
        "colab_type": "code",
        "colab": {}
      },
      "source": [
        "# Drop unnecessary columns in order to plot the correlation plot.\n",
        "bank.drop(['ID', 'Experience Median', 'ZIP Code'],  inplace=True, axis=1)"
      ],
      "execution_count": 28,
      "outputs": []
    },
    {
      "cell_type": "code",
      "metadata": {
        "scrolled": true,
        "id": "2qqy30vrrSO3",
        "colab_type": "code",
        "colab": {
          "base_uri": "https://localhost:8080/",
          "height": 1000
        },
        "outputId": "6e97362b-4f72-4a68-fbec-fe27f99c6c04"
      },
      "source": [
        "corr = bank.corr()\n",
        "\n",
        "# Generate a mask for the upper triangle\n",
        "mask = np.zeros_like(corr, dtype=np.bool)\n",
        "mask[np.triu_indices_from(mask)] = True\n",
        "\n",
        "# Set up the matplotlib figure\n",
        "f, ax = plt.subplots(figsize=(11, 9))\n",
        "\n",
        "# Generate a custom diverging colormap\n",
        "cmap = sns.diverging_palette(220, 10, as_cmap=True)\n",
        "\n",
        "# Draw the heatmap with the mask and correct aspect ratio\n",
        "sns.heatmap(corr, mask=mask, cmap=cmap, vmax=1, vmin=-1, center=0,\n",
        "            square=True, linewidths=.5, cbar_kws={\"shrink\": .5})\n",
        "\n",
        "corr"
      ],
      "execution_count": 29,
      "outputs": [
        {
          "output_type": "execute_result",
          "data": {
            "text/html": [
              "<div>\n",
              "<style scoped>\n",
              "    .dataframe tbody tr th:only-of-type {\n",
              "        vertical-align: middle;\n",
              "    }\n",
              "\n",
              "    .dataframe tbody tr th {\n",
              "        vertical-align: top;\n",
              "    }\n",
              "\n",
              "    .dataframe thead th {\n",
              "        text-align: right;\n",
              "    }\n",
              "</style>\n",
              "<table border=\"1\" class=\"dataframe\">\n",
              "  <thead>\n",
              "    <tr style=\"text-align: right;\">\n",
              "      <th></th>\n",
              "      <th>Age</th>\n",
              "      <th>Experience</th>\n",
              "      <th>Income</th>\n",
              "      <th>CCAvg</th>\n",
              "      <th>Mortgage</th>\n",
              "      <th>Personal Loan</th>\n",
              "      <th>Securities Account</th>\n",
              "      <th>CD Account</th>\n",
              "      <th>Online</th>\n",
              "      <th>CreditCard</th>\n",
              "    </tr>\n",
              "  </thead>\n",
              "  <tbody>\n",
              "    <tr>\n",
              "      <th>Age</th>\n",
              "      <td>1.000000</td>\n",
              "      <td>0.994214</td>\n",
              "      <td>-0.055269</td>\n",
              "      <td>-0.052012</td>\n",
              "      <td>-0.012539</td>\n",
              "      <td>-0.007726</td>\n",
              "      <td>-0.000436</td>\n",
              "      <td>0.008043</td>\n",
              "      <td>0.013702</td>\n",
              "      <td>0.007681</td>\n",
              "    </tr>\n",
              "    <tr>\n",
              "      <th>Experience</th>\n",
              "      <td>0.994214</td>\n",
              "      <td>1.000000</td>\n",
              "      <td>-0.046880</td>\n",
              "      <td>-0.050030</td>\n",
              "      <td>-0.010950</td>\n",
              "      <td>-0.008060</td>\n",
              "      <td>-0.001258</td>\n",
              "      <td>0.009905</td>\n",
              "      <td>0.013765</td>\n",
              "      <td>0.009073</td>\n",
              "    </tr>\n",
              "    <tr>\n",
              "      <th>Income</th>\n",
              "      <td>-0.055269</td>\n",
              "      <td>-0.046880</td>\n",
              "      <td>1.000000</td>\n",
              "      <td>0.645984</td>\n",
              "      <td>0.206806</td>\n",
              "      <td>0.502462</td>\n",
              "      <td>-0.002616</td>\n",
              "      <td>0.169738</td>\n",
              "      <td>0.014206</td>\n",
              "      <td>-0.002385</td>\n",
              "    </tr>\n",
              "    <tr>\n",
              "      <th>CCAvg</th>\n",
              "      <td>-0.052012</td>\n",
              "      <td>-0.050030</td>\n",
              "      <td>0.645984</td>\n",
              "      <td>1.000000</td>\n",
              "      <td>0.109905</td>\n",
              "      <td>0.366889</td>\n",
              "      <td>0.015086</td>\n",
              "      <td>0.136534</td>\n",
              "      <td>-0.003611</td>\n",
              "      <td>-0.006689</td>\n",
              "    </tr>\n",
              "    <tr>\n",
              "      <th>Mortgage</th>\n",
              "      <td>-0.012539</td>\n",
              "      <td>-0.010950</td>\n",
              "      <td>0.206806</td>\n",
              "      <td>0.109905</td>\n",
              "      <td>1.000000</td>\n",
              "      <td>0.142095</td>\n",
              "      <td>-0.005411</td>\n",
              "      <td>0.089311</td>\n",
              "      <td>-0.005995</td>\n",
              "      <td>-0.007231</td>\n",
              "    </tr>\n",
              "    <tr>\n",
              "      <th>Personal Loan</th>\n",
              "      <td>-0.007726</td>\n",
              "      <td>-0.008060</td>\n",
              "      <td>0.502462</td>\n",
              "      <td>0.366889</td>\n",
              "      <td>0.142095</td>\n",
              "      <td>1.000000</td>\n",
              "      <td>0.021954</td>\n",
              "      <td>0.316355</td>\n",
              "      <td>0.006278</td>\n",
              "      <td>0.002802</td>\n",
              "    </tr>\n",
              "    <tr>\n",
              "      <th>Securities Account</th>\n",
              "      <td>-0.000436</td>\n",
              "      <td>-0.001258</td>\n",
              "      <td>-0.002616</td>\n",
              "      <td>0.015086</td>\n",
              "      <td>-0.005411</td>\n",
              "      <td>0.021954</td>\n",
              "      <td>1.000000</td>\n",
              "      <td>0.317034</td>\n",
              "      <td>0.012627</td>\n",
              "      <td>-0.015028</td>\n",
              "    </tr>\n",
              "    <tr>\n",
              "      <th>CD Account</th>\n",
              "      <td>0.008043</td>\n",
              "      <td>0.009905</td>\n",
              "      <td>0.169738</td>\n",
              "      <td>0.136534</td>\n",
              "      <td>0.089311</td>\n",
              "      <td>0.316355</td>\n",
              "      <td>0.317034</td>\n",
              "      <td>1.000000</td>\n",
              "      <td>0.175880</td>\n",
              "      <td>0.278644</td>\n",
              "    </tr>\n",
              "    <tr>\n",
              "      <th>Online</th>\n",
              "      <td>0.013702</td>\n",
              "      <td>0.013765</td>\n",
              "      <td>0.014206</td>\n",
              "      <td>-0.003611</td>\n",
              "      <td>-0.005995</td>\n",
              "      <td>0.006278</td>\n",
              "      <td>0.012627</td>\n",
              "      <td>0.175880</td>\n",
              "      <td>1.000000</td>\n",
              "      <td>0.004210</td>\n",
              "    </tr>\n",
              "    <tr>\n",
              "      <th>CreditCard</th>\n",
              "      <td>0.007681</td>\n",
              "      <td>0.009073</td>\n",
              "      <td>-0.002385</td>\n",
              "      <td>-0.006689</td>\n",
              "      <td>-0.007231</td>\n",
              "      <td>0.002802</td>\n",
              "      <td>-0.015028</td>\n",
              "      <td>0.278644</td>\n",
              "      <td>0.004210</td>\n",
              "      <td>1.000000</td>\n",
              "    </tr>\n",
              "  </tbody>\n",
              "</table>\n",
              "</div>"
            ],
            "text/plain": [
              "                         Age  Experience  ...    Online  CreditCard\n",
              "Age                 1.000000    0.994214  ...  0.013702    0.007681\n",
              "Experience          0.994214    1.000000  ...  0.013765    0.009073\n",
              "Income             -0.055269   -0.046880  ...  0.014206   -0.002385\n",
              "CCAvg              -0.052012   -0.050030  ... -0.003611   -0.006689\n",
              "Mortgage           -0.012539   -0.010950  ... -0.005995   -0.007231\n",
              "Personal Loan      -0.007726   -0.008060  ...  0.006278    0.002802\n",
              "Securities Account -0.000436   -0.001258  ...  0.012627   -0.015028\n",
              "CD Account          0.008043    0.009905  ...  0.175880    0.278644\n",
              "Online              0.013702    0.013765  ...  1.000000    0.004210\n",
              "CreditCard          0.007681    0.009073  ...  0.004210    1.000000\n",
              "\n",
              "[10 rows x 10 columns]"
            ]
          },
          "metadata": {
            "tags": []
          },
          "execution_count": 29
        },
        {
          "output_type": "display_data",
          "data": {
            "image/png": "[encoded data removed]",
            "text/plain": [
              "<Figure size 792x648 with 2 Axes>"
            ]
          },
          "metadata": {
            "tags": [],
            "needs_background": "light"
          }
        }
      ]
    },
    {
      "cell_type": "markdown",
      "metadata": {
        "id": "B4A5NNqprSO6",
        "colab_type": "text"
      },
      "source": [
        "### Dummy Variables"
      ]
    },
    {
      "cell_type": "code",
      "metadata": {
        "id": "Du4W2FfTrSO6",
        "colab_type": "code",
        "colab": {}
      },
      "source": [
        "# Family\n",
        "## Family has 4 levels, and we create 3 dummy variables\n",
        "\n",
        "familydummy = pd.get_dummies(bank['Family'], prefix='Family')\n",
        "bank_family = pd.concat([bank, familydummy], axis=1)      \n",
        "bank_family.drop(['Family_4'], inplace=True, axis=1)"
      ],
      "execution_count": 30,
      "outputs": []
    },
    {
      "cell_type": "code",
      "metadata": {
        "id": "THz9_s8ZrSO8",
        "colab_type": "code",
        "colab": {}
      },
      "source": [
        "# Education\n",
        "## Education has 3 levels, and we create 2 dummy variables\n",
        "\n",
        "edudummy =  pd.get_dummies(bank_family['Education'], prefix='Education')\n",
        "bank_edu = pd.concat([bank_family, edudummy], axis=1)      \n",
        "bank_edu.drop(['Education_3'], inplace=True, axis=1)"
      ],
      "execution_count": 31,
      "outputs": []
    },
    {
      "cell_type": "markdown",
      "metadata": {
        "id": "R5SX3oo1rSO_",
        "colab_type": "text"
      },
      "source": [
        "### Describe Cleaned Dataset"
      ]
    },
    {
      "cell_type": "code",
      "metadata": {
        "id": "qcAL2JCdrSO_",
        "colab_type": "code",
        "colab": {
          "base_uri": "https://localhost:8080/",
          "height": 34
        },
        "outputId": "db9a8d6d-cf29-44c2-dac0-6f806501a98b"
      },
      "source": [
        "# Total numbers of rows and columns\n",
        "bank_edu.shape"
      ],
      "execution_count": 32,
      "outputs": [
        {
          "output_type": "execute_result",
          "data": {
            "text/plain": [
              "(5000, 18)"
            ]
          },
          "metadata": {
            "tags": []
          },
          "execution_count": 32
        }
      ]
    },
    {
      "cell_type": "code",
      "metadata": {
        "id": "5OyS6wbKrSPB",
        "colab_type": "code",
        "colab": {
          "base_uri": "https://localhost:8080/",
          "height": 334
        },
        "outputId": "59563985-5938-4688-f9ec-249abce8352d"
      },
      "source": [
        "# Descriptive statistics of the cleaned dataset\n",
        "bank_edu.describe()"
      ],
      "execution_count": 33,
      "outputs": [
        {
          "output_type": "execute_result",
          "data": {
            "text/html": [
              "<div>\n",
              "<style scoped>\n",
              "    .dataframe tbody tr th:only-of-type {\n",
              "        vertical-align: middle;\n",
              "    }\n",
              "\n",
              "    .dataframe tbody tr th {\n",
              "        vertical-align: top;\n",
              "    }\n",
              "\n",
              "    .dataframe thead th {\n",
              "        text-align: right;\n",
              "    }\n",
              "</style>\n",
              "<table border=\"1\" class=\"dataframe\">\n",
              "  <thead>\n",
              "    <tr style=\"text-align: right;\">\n",
              "      <th></th>\n",
              "      <th>Age</th>\n",
              "      <th>Experience</th>\n",
              "      <th>Income</th>\n",
              "      <th>CCAvg</th>\n",
              "      <th>Mortgage</th>\n",
              "      <th>Personal Loan</th>\n",
              "      <th>Securities Account</th>\n",
              "      <th>CD Account</th>\n",
              "      <th>Online</th>\n",
              "      <th>CreditCard</th>\n",
              "      <th>Family_1</th>\n",
              "      <th>Family_2</th>\n",
              "      <th>Family_3</th>\n",
              "      <th>Education_1</th>\n",
              "      <th>Education_2</th>\n",
              "    </tr>\n",
              "  </thead>\n",
              "  <tbody>\n",
              "    <tr>\n",
              "      <th>count</th>\n",
              "      <td>5000.000000</td>\n",
              "      <td>5000.00000</td>\n",
              "      <td>5000.000000</td>\n",
              "      <td>5000.000000</td>\n",
              "      <td>5000.000000</td>\n",
              "      <td>5000.000000</td>\n",
              "      <td>5000.000000</td>\n",
              "      <td>5000.00000</td>\n",
              "      <td>5000.000000</td>\n",
              "      <td>5000.000000</td>\n",
              "      <td>5000.000000</td>\n",
              "      <td>5000.000000</td>\n",
              "      <td>5000.000000</td>\n",
              "      <td>5000.000000</td>\n",
              "      <td>5000.000000</td>\n",
              "    </tr>\n",
              "    <tr>\n",
              "      <th>mean</th>\n",
              "      <td>45.338400</td>\n",
              "      <td>20.12640</td>\n",
              "      <td>73.774200</td>\n",
              "      <td>1.937938</td>\n",
              "      <td>56.498800</td>\n",
              "      <td>0.096000</td>\n",
              "      <td>0.104400</td>\n",
              "      <td>0.06040</td>\n",
              "      <td>0.596800</td>\n",
              "      <td>0.294000</td>\n",
              "      <td>0.294400</td>\n",
              "      <td>0.259200</td>\n",
              "      <td>0.202000</td>\n",
              "      <td>0.419200</td>\n",
              "      <td>0.280600</td>\n",
              "    </tr>\n",
              "    <tr>\n",
              "      <th>std</th>\n",
              "      <td>11.463166</td>\n",
              "      <td>11.42918</td>\n",
              "      <td>46.033729</td>\n",
              "      <td>1.747659</td>\n",
              "      <td>101.713802</td>\n",
              "      <td>0.294621</td>\n",
              "      <td>0.305809</td>\n",
              "      <td>0.23825</td>\n",
              "      <td>0.490589</td>\n",
              "      <td>0.455637</td>\n",
              "      <td>0.455818</td>\n",
              "      <td>0.438239</td>\n",
              "      <td>0.401532</td>\n",
              "      <td>0.493478</td>\n",
              "      <td>0.449337</td>\n",
              "    </tr>\n",
              "    <tr>\n",
              "      <th>min</th>\n",
              "      <td>23.000000</td>\n",
              "      <td>0.00000</td>\n",
              "      <td>8.000000</td>\n",
              "      <td>0.000000</td>\n",
              "      <td>0.000000</td>\n",
              "      <td>0.000000</td>\n",
              "      <td>0.000000</td>\n",
              "      <td>0.00000</td>\n",
              "      <td>0.000000</td>\n",
              "      <td>0.000000</td>\n",
              "      <td>0.000000</td>\n",
              "      <td>0.000000</td>\n",
              "      <td>0.000000</td>\n",
              "      <td>0.000000</td>\n",
              "      <td>0.000000</td>\n",
              "    </tr>\n",
              "    <tr>\n",
              "      <th>25%</th>\n",
              "      <td>35.000000</td>\n",
              "      <td>10.00000</td>\n",
              "      <td>39.000000</td>\n",
              "      <td>0.700000</td>\n",
              "      <td>0.000000</td>\n",
              "      <td>0.000000</td>\n",
              "      <td>0.000000</td>\n",
              "      <td>0.00000</td>\n",
              "      <td>0.000000</td>\n",
              "      <td>0.000000</td>\n",
              "      <td>0.000000</td>\n",
              "      <td>0.000000</td>\n",
              "      <td>0.000000</td>\n",
              "      <td>0.000000</td>\n",
              "      <td>0.000000</td>\n",
              "    </tr>\n",
              "    <tr>\n",
              "      <th>50%</th>\n",
              "      <td>45.000000</td>\n",
              "      <td>20.00000</td>\n",
              "      <td>64.000000</td>\n",
              "      <td>1.500000</td>\n",
              "      <td>0.000000</td>\n",
              "      <td>0.000000</td>\n",
              "      <td>0.000000</td>\n",
              "      <td>0.00000</td>\n",
              "      <td>1.000000</td>\n",
              "      <td>0.000000</td>\n",
              "      <td>0.000000</td>\n",
              "      <td>0.000000</td>\n",
              "      <td>0.000000</td>\n",
              "      <td>0.000000</td>\n",
              "      <td>0.000000</td>\n",
              "    </tr>\n",
              "    <tr>\n",
              "      <th>75%</th>\n",
              "      <td>55.000000</td>\n",
              "      <td>30.00000</td>\n",
              "      <td>98.000000</td>\n",
              "      <td>2.500000</td>\n",
              "      <td>101.000000</td>\n",
              "      <td>0.000000</td>\n",
              "      <td>0.000000</td>\n",
              "      <td>0.00000</td>\n",
              "      <td>1.000000</td>\n",
              "      <td>1.000000</td>\n",
              "      <td>1.000000</td>\n",
              "      <td>1.000000</td>\n",
              "      <td>0.000000</td>\n",
              "      <td>1.000000</td>\n",
              "      <td>1.000000</td>\n",
              "    </tr>\n",
              "    <tr>\n",
              "      <th>max</th>\n",
              "      <td>67.000000</td>\n",
              "      <td>43.00000</td>\n",
              "      <td>224.000000</td>\n",
              "      <td>10.000000</td>\n",
              "      <td>635.000000</td>\n",
              "      <td>1.000000</td>\n",
              "      <td>1.000000</td>\n",
              "      <td>1.00000</td>\n",
              "      <td>1.000000</td>\n",
              "      <td>1.000000</td>\n",
              "      <td>1.000000</td>\n",
              "      <td>1.000000</td>\n",
              "      <td>1.000000</td>\n",
              "      <td>1.000000</td>\n",
              "      <td>1.000000</td>\n",
              "    </tr>\n",
              "  </tbody>\n",
              "</table>\n",
              "</div>"
            ],
            "text/plain": [
              "               Age  Experience  ...  Education_1  Education_2\n",
              "count  5000.000000  5000.00000  ...  5000.000000  5000.000000\n",
              "mean     45.338400    20.12640  ...     0.419200     0.280600\n",
              "std      11.463166    11.42918  ...     0.493478     0.449337\n",
              "min      23.000000     0.00000  ...     0.000000     0.000000\n",
              "25%      35.000000    10.00000  ...     0.000000     0.000000\n",
              "50%      45.000000    20.00000  ...     0.000000     0.000000\n",
              "75%      55.000000    30.00000  ...     1.000000     1.000000\n",
              "max      67.000000    43.00000  ...     1.000000     1.000000\n",
              "\n",
              "[8 rows x 15 columns]"
            ]
          },
          "metadata": {
            "tags": []
          },
          "execution_count": 33
        }
      ]
    },
    {
      "cell_type": "code",
      "metadata": {
        "id": "4sRhUyTOrSPE",
        "colab_type": "code",
        "colab": {
          "base_uri": "https://localhost:8080/",
          "height": 323
        },
        "outputId": "2f853f81-365e-4ab3-faf0-85cbfe00b20a"
      },
      "source": [
        "# List all the column names\n",
        "list(bank_edu.columns.values)"
      ],
      "execution_count": 34,
      "outputs": [
        {
          "output_type": "execute_result",
          "data": {
            "text/plain": [
              "['Age',\n",
              " 'Experience',\n",
              " 'Income',\n",
              " 'Family',\n",
              " 'CCAvg',\n",
              " 'Education',\n",
              " 'Mortgage',\n",
              " 'Personal Loan',\n",
              " 'Securities Account',\n",
              " 'CD Account',\n",
              " 'Online',\n",
              " 'CreditCard',\n",
              " 'Area',\n",
              " 'Family_1',\n",
              " 'Family_2',\n",
              " 'Family_3',\n",
              " 'Education_1',\n",
              " 'Education_2']"
            ]
          },
          "metadata": {
            "tags": []
          },
          "execution_count": 34
        }
      ]
    },
    {
      "cell_type": "markdown",
      "metadata": {
        "id": "HA5rrAIcrSPH",
        "colab_type": "text"
      },
      "source": [
        "### Define Variables"
      ]
    },
    {
      "cell_type": "code",
      "metadata": {
        "id": "TuohubFGrSPI",
        "colab_type": "code",
        "colab": {}
      },
      "source": [
        "# We define two x here\n",
        "## x is used for KNN and Logistic Regression. This model contains dummy variables.\n",
        "## xtree is used for decision tree. This model treated Family and Education as categorical variables. \n",
        "##  Targe variable is 'Personal Loan'\n",
        "\n",
        "x = bank_edu[['Age',\n",
        " 'Income',\n",
        " 'CCAvg',\n",
        " 'Mortgage',\n",
        " 'Securities Account',\n",
        " 'CD Account',\n",
        " 'Online',\n",
        " 'CreditCard',\n",
        " 'Family_1',\n",
        " 'Family_2',\n",
        " 'Family_3',\n",
        " 'Education_1',\n",
        " 'Education_2']]\n",
        "\n",
        "xtree = bank_edu[[ 'Age',\n",
        " 'Income',\n",
        " 'Family',\n",
        " 'CCAvg',\n",
        " 'Education',\n",
        " 'Mortgage',\n",
        " 'Securities Account',\n",
        " 'CD Account',\n",
        " 'Online',\n",
        " 'CreditCard',\n",
        " 'Area']]\n",
        "\n",
        "y = bank_edu[\"Personal Loan\"]"
      ],
      "execution_count": 35,
      "outputs": []
    },
    {
      "cell_type": "markdown",
      "metadata": {
        "id": "lYvfb7exrSPL",
        "colab_type": "text"
      },
      "source": [
        "### Train/Test Data Split"
      ]
    },
    {
      "cell_type": "code",
      "metadata": {
        "id": "w-wtuBplrSPL",
        "colab_type": "code",
        "colab": {
          "base_uri": "https://localhost:8080/",
          "height": 334
        },
        "outputId": "84a92df0-af77-4181-d617-03fa6e50ff83"
      },
      "source": [
        "# Split Data for KNN and Logistic Regression\n",
        "\n",
        "from sklearn.model_selection import train_test_split\n",
        "\n",
        "x_train, x_test, y_train, y_test = train_test_split(x, y, test_size=0.30, random_state=0, stratify = y)\n",
        "x_train.describe()"
      ],
      "execution_count": 36,
      "outputs": [
        {
          "output_type": "execute_result",
          "data": {
            "text/html": [
              "<div>\n",
              "<style scoped>\n",
              "    .dataframe tbody tr th:only-of-type {\n",
              "        vertical-align: middle;\n",
              "    }\n",
              "\n",
              "    .dataframe tbody tr th {\n",
              "        vertical-align: top;\n",
              "    }\n",
              "\n",
              "    .dataframe thead th {\n",
              "        text-align: right;\n",
              "    }\n",
              "</style>\n",
              "<table border=\"1\" class=\"dataframe\">\n",
              "  <thead>\n",
              "    <tr style=\"text-align: right;\">\n",
              "      <th></th>\n",
              "      <th>Age</th>\n",
              "      <th>Income</th>\n",
              "      <th>CCAvg</th>\n",
              "      <th>Mortgage</th>\n",
              "      <th>Securities Account</th>\n",
              "      <th>CD Account</th>\n",
              "      <th>Online</th>\n",
              "      <th>CreditCard</th>\n",
              "      <th>Family_1</th>\n",
              "      <th>Family_2</th>\n",
              "      <th>Family_3</th>\n",
              "      <th>Education_1</th>\n",
              "      <th>Education_2</th>\n",
              "    </tr>\n",
              "  </thead>\n",
              "  <tbody>\n",
              "    <tr>\n",
              "      <th>count</th>\n",
              "      <td>3500.000000</td>\n",
              "      <td>3500.000000</td>\n",
              "      <td>3500.000000</td>\n",
              "      <td>3500.000000</td>\n",
              "      <td>3500.000000</td>\n",
              "      <td>3500.000000</td>\n",
              "      <td>3500.000000</td>\n",
              "      <td>3500.000000</td>\n",
              "      <td>3500.000000</td>\n",
              "      <td>3500.000000</td>\n",
              "      <td>3500.000000</td>\n",
              "      <td>3500.00000</td>\n",
              "      <td>3500.000000</td>\n",
              "    </tr>\n",
              "    <tr>\n",
              "      <th>mean</th>\n",
              "      <td>45.153143</td>\n",
              "      <td>73.515143</td>\n",
              "      <td>1.944043</td>\n",
              "      <td>55.966000</td>\n",
              "      <td>0.101714</td>\n",
              "      <td>0.058286</td>\n",
              "      <td>0.587143</td>\n",
              "      <td>0.299429</td>\n",
              "      <td>0.295143</td>\n",
              "      <td>0.256857</td>\n",
              "      <td>0.207143</td>\n",
              "      <td>0.42800</td>\n",
              "      <td>0.272286</td>\n",
              "    </tr>\n",
              "    <tr>\n",
              "      <th>std</th>\n",
              "      <td>11.468384</td>\n",
              "      <td>45.934519</td>\n",
              "      <td>1.756195</td>\n",
              "      <td>101.737513</td>\n",
              "      <td>0.302315</td>\n",
              "      <td>0.234316</td>\n",
              "      <td>0.492418</td>\n",
              "      <td>0.458073</td>\n",
              "      <td>0.456172</td>\n",
              "      <td>0.436962</td>\n",
              "      <td>0.405317</td>\n",
              "      <td>0.49486</td>\n",
              "      <td>0.445200</td>\n",
              "    </tr>\n",
              "    <tr>\n",
              "      <th>min</th>\n",
              "      <td>23.000000</td>\n",
              "      <td>8.000000</td>\n",
              "      <td>0.000000</td>\n",
              "      <td>0.000000</td>\n",
              "      <td>0.000000</td>\n",
              "      <td>0.000000</td>\n",
              "      <td>0.000000</td>\n",
              "      <td>0.000000</td>\n",
              "      <td>0.000000</td>\n",
              "      <td>0.000000</td>\n",
              "      <td>0.000000</td>\n",
              "      <td>0.00000</td>\n",
              "      <td>0.000000</td>\n",
              "    </tr>\n",
              "    <tr>\n",
              "      <th>25%</th>\n",
              "      <td>35.000000</td>\n",
              "      <td>39.000000</td>\n",
              "      <td>0.700000</td>\n",
              "      <td>0.000000</td>\n",
              "      <td>0.000000</td>\n",
              "      <td>0.000000</td>\n",
              "      <td>0.000000</td>\n",
              "      <td>0.000000</td>\n",
              "      <td>0.000000</td>\n",
              "      <td>0.000000</td>\n",
              "      <td>0.000000</td>\n",
              "      <td>0.00000</td>\n",
              "      <td>0.000000</td>\n",
              "    </tr>\n",
              "    <tr>\n",
              "      <th>50%</th>\n",
              "      <td>45.000000</td>\n",
              "      <td>64.000000</td>\n",
              "      <td>1.550000</td>\n",
              "      <td>0.000000</td>\n",
              "      <td>0.000000</td>\n",
              "      <td>0.000000</td>\n",
              "      <td>1.000000</td>\n",
              "      <td>0.000000</td>\n",
              "      <td>0.000000</td>\n",
              "      <td>0.000000</td>\n",
              "      <td>0.000000</td>\n",
              "      <td>0.00000</td>\n",
              "      <td>0.000000</td>\n",
              "    </tr>\n",
              "    <tr>\n",
              "      <th>75%</th>\n",
              "      <td>55.000000</td>\n",
              "      <td>98.000000</td>\n",
              "      <td>2.600000</td>\n",
              "      <td>100.000000</td>\n",
              "      <td>0.000000</td>\n",
              "      <td>0.000000</td>\n",
              "      <td>1.000000</td>\n",
              "      <td>1.000000</td>\n",
              "      <td>1.000000</td>\n",
              "      <td>1.000000</td>\n",
              "      <td>0.000000</td>\n",
              "      <td>1.00000</td>\n",
              "      <td>1.000000</td>\n",
              "    </tr>\n",
              "    <tr>\n",
              "      <th>max</th>\n",
              "      <td>67.000000</td>\n",
              "      <td>224.000000</td>\n",
              "      <td>10.000000</td>\n",
              "      <td>635.000000</td>\n",
              "      <td>1.000000</td>\n",
              "      <td>1.000000</td>\n",
              "      <td>1.000000</td>\n",
              "      <td>1.000000</td>\n",
              "      <td>1.000000</td>\n",
              "      <td>1.000000</td>\n",
              "      <td>1.000000</td>\n",
              "      <td>1.00000</td>\n",
              "      <td>1.000000</td>\n",
              "    </tr>\n",
              "  </tbody>\n",
              "</table>\n",
              "</div>"
            ],
            "text/plain": [
              "               Age       Income  ...  Education_1  Education_2\n",
              "count  3500.000000  3500.000000  ...   3500.00000  3500.000000\n",
              "mean     45.153143    73.515143  ...      0.42800     0.272286\n",
              "std      11.468384    45.934519  ...      0.49486     0.445200\n",
              "min      23.000000     8.000000  ...      0.00000     0.000000\n",
              "25%      35.000000    39.000000  ...      0.00000     0.000000\n",
              "50%      45.000000    64.000000  ...      0.00000     0.000000\n",
              "75%      55.000000    98.000000  ...      1.00000     1.000000\n",
              "max      67.000000   224.000000  ...      1.00000     1.000000\n",
              "\n",
              "[8 rows x 13 columns]"
            ]
          },
          "metadata": {
            "tags": []
          },
          "execution_count": 36
        }
      ]
    },
    {
      "cell_type": "code",
      "metadata": {
        "id": "QZcV4hW7rSPN",
        "colab_type": "code",
        "colab": {
          "base_uri": "https://localhost:8080/",
          "height": 297
        },
        "outputId": "ea3dc1a4-0ff4-4f93-b000-526394a61da0"
      },
      "source": [
        "# Split data for decision tree\n",
        "\n",
        "xtree_train, xtree_test, y_train, y_test = train_test_split(xtree, y, test_size=0.30, random_state=0, stratify = y)\n",
        "xtree_train.describe()"
      ],
      "execution_count": 37,
      "outputs": [
        {
          "output_type": "execute_result",
          "data": {
            "text/html": [
              "<div>\n",
              "<style scoped>\n",
              "    .dataframe tbody tr th:only-of-type {\n",
              "        vertical-align: middle;\n",
              "    }\n",
              "\n",
              "    .dataframe tbody tr th {\n",
              "        vertical-align: top;\n",
              "    }\n",
              "\n",
              "    .dataframe thead th {\n",
              "        text-align: right;\n",
              "    }\n",
              "</style>\n",
              "<table border=\"1\" class=\"dataframe\">\n",
              "  <thead>\n",
              "    <tr style=\"text-align: right;\">\n",
              "      <th></th>\n",
              "      <th>Age</th>\n",
              "      <th>Income</th>\n",
              "      <th>CCAvg</th>\n",
              "      <th>Mortgage</th>\n",
              "      <th>Securities Account</th>\n",
              "      <th>CD Account</th>\n",
              "      <th>Online</th>\n",
              "      <th>CreditCard</th>\n",
              "    </tr>\n",
              "  </thead>\n",
              "  <tbody>\n",
              "    <tr>\n",
              "      <th>count</th>\n",
              "      <td>3500.000000</td>\n",
              "      <td>3500.000000</td>\n",
              "      <td>3500.000000</td>\n",
              "      <td>3500.000000</td>\n",
              "      <td>3500.000000</td>\n",
              "      <td>3500.000000</td>\n",
              "      <td>3500.000000</td>\n",
              "      <td>3500.000000</td>\n",
              "    </tr>\n",
              "    <tr>\n",
              "      <th>mean</th>\n",
              "      <td>45.153143</td>\n",
              "      <td>73.515143</td>\n",
              "      <td>1.944043</td>\n",
              "      <td>55.966000</td>\n",
              "      <td>0.101714</td>\n",
              "      <td>0.058286</td>\n",
              "      <td>0.587143</td>\n",
              "      <td>0.299429</td>\n",
              "    </tr>\n",
              "    <tr>\n",
              "      <th>std</th>\n",
              "      <td>11.468384</td>\n",
              "      <td>45.934519</td>\n",
              "      <td>1.756195</td>\n",
              "      <td>101.737513</td>\n",
              "      <td>0.302315</td>\n",
              "      <td>0.234316</td>\n",
              "      <td>0.492418</td>\n",
              "      <td>0.458073</td>\n",
              "    </tr>\n",
              "    <tr>\n",
              "      <th>min</th>\n",
              "      <td>23.000000</td>\n",
              "      <td>8.000000</td>\n",
              "      <td>0.000000</td>\n",
              "      <td>0.000000</td>\n",
              "      <td>0.000000</td>\n",
              "      <td>0.000000</td>\n",
              "      <td>0.000000</td>\n",
              "      <td>0.000000</td>\n",
              "    </tr>\n",
              "    <tr>\n",
              "      <th>25%</th>\n",
              "      <td>35.000000</td>\n",
              "      <td>39.000000</td>\n",
              "      <td>0.700000</td>\n",
              "      <td>0.000000</td>\n",
              "      <td>0.000000</td>\n",
              "      <td>0.000000</td>\n",
              "      <td>0.000000</td>\n",
              "      <td>0.000000</td>\n",
              "    </tr>\n",
              "    <tr>\n",
              "      <th>50%</th>\n",
              "      <td>45.000000</td>\n",
              "      <td>64.000000</td>\n",
              "      <td>1.550000</td>\n",
              "      <td>0.000000</td>\n",
              "      <td>0.000000</td>\n",
              "      <td>0.000000</td>\n",
              "      <td>1.000000</td>\n",
              "      <td>0.000000</td>\n",
              "    </tr>\n",
              "    <tr>\n",
              "      <th>75%</th>\n",
              "      <td>55.000000</td>\n",
              "      <td>98.000000</td>\n",
              "      <td>2.600000</td>\n",
              "      <td>100.000000</td>\n",
              "      <td>0.000000</td>\n",
              "      <td>0.000000</td>\n",
              "      <td>1.000000</td>\n",
              "      <td>1.000000</td>\n",
              "    </tr>\n",
              "    <tr>\n",
              "      <th>max</th>\n",
              "      <td>67.000000</td>\n",
              "      <td>224.000000</td>\n",
              "      <td>10.000000</td>\n",
              "      <td>635.000000</td>\n",
              "      <td>1.000000</td>\n",
              "      <td>1.000000</td>\n",
              "      <td>1.000000</td>\n",
              "      <td>1.000000</td>\n",
              "    </tr>\n",
              "  </tbody>\n",
              "</table>\n",
              "</div>"
            ],
            "text/plain": [
              "               Age       Income  ...       Online   CreditCard\n",
              "count  3500.000000  3500.000000  ...  3500.000000  3500.000000\n",
              "mean     45.153143    73.515143  ...     0.587143     0.299429\n",
              "std      11.468384    45.934519  ...     0.492418     0.458073\n",
              "min      23.000000     8.000000  ...     0.000000     0.000000\n",
              "25%      35.000000    39.000000  ...     0.000000     0.000000\n",
              "50%      45.000000    64.000000  ...     1.000000     0.000000\n",
              "75%      55.000000    98.000000  ...     1.000000     1.000000\n",
              "max      67.000000   224.000000  ...     1.000000     1.000000\n",
              "\n",
              "[8 rows x 8 columns]"
            ]
          },
          "metadata": {
            "tags": []
          },
          "execution_count": 37
        }
      ]
    },
    {
      "cell_type": "markdown",
      "metadata": {
        "id": "3PTiHq8YrSPQ",
        "colab_type": "text"
      },
      "source": [
        "## Modeling & Evaluation (Pre-Resample)"
      ]
    },
    {
      "cell_type": "markdown",
      "metadata": {
        "id": "CD04dhaYrSPQ",
        "colab_type": "text"
      },
      "source": [
        "### Decision Tree"
      ]
    },
    {
      "cell_type": "code",
      "metadata": {
        "id": "0EXSmBsgrSPQ",
        "colab_type": "code",
        "colab": {
          "base_uri": "https://localhost:8080/",
          "height": 408
        },
        "outputId": "30d836fa-1f76-4de4-ceee-c9c7e66fa2ea"
      },
      "source": [
        "# Use GridSearch to find the best decision tree parameters, and fit the training data to apply to test data\n",
        "\n",
        "from sklearn import tree\n",
        "from sklearn.model_selection import GridSearchCV \n",
        "from sklearn.tree import DecisionTreeClassifier \n",
        "\n",
        "gstree = GridSearchCV(estimator=DecisionTreeClassifier(random_state=0),param_grid= [{\"criterion\": [\"gini\", \"entropy\"],'max_depth': [1, 2, 3, 4, 5, 6, 7, 8, 9, 10, 20, 30, 40, 50],\"max_features\": list(range(1, 11)),'min_samples_leaf':[1,2,3,4,5],'min_samples_split':[2,3,4,5]}],cv = 10,n_jobs = 4,scoring='accuracy')\n",
        "gstree_fit = gstree.fit(xtree_train, y_train)\n",
        "y_pred_tree = gstree_fit.predict(xtree_test)\n",
        "\n",
        "\n",
        "## best parameter\n",
        "print(gstree.best_params_)\n",
        "\n",
        "## best estimator\n",
        "print(\"Tree parameters: \\n\", gstree_fit.best_estimator_)\n",
        "\n",
        "## best score\n",
        "print(\"Best score: \", gstree.best_score_)\n",
        "\n",
        "## The overall accuracy on the training set:\n",
        "print(\"Training score: \", gstree.score(xtree_train, y_train))\n",
        "\n",
        "## The overall accuracy on the test set:\n",
        "print(\"Test accuracy: \", gstree.score(xtree_test, y_test))"
      ],
      "execution_count": 84,
      "outputs": [
        {
          "output_type": "error",
          "ename": "KeyboardInterrupt",
          "evalue": "ignored",
          "traceback": [
            "\u001b[0;31m---------------------------------------------------------------------------\u001b[0m",
            "\u001b[0;31mKeyboardInterrupt\u001b[0m                         Traceback (most recent call last)",
            "\u001b[0;32m<ipython-input-84-cccdbf81d077>\u001b[0m in \u001b[0;36m<module>\u001b[0;34m()\u001b[0m\n\u001b[1;32m      7\u001b[0m \u001b[0;34m\u001b[0m\u001b[0m\n\u001b[1;32m      8\u001b[0m \u001b[0mgstree\u001b[0m \u001b[0;34m=\u001b[0m \u001b[0mGridSearchCV\u001b[0m\u001b[0;34m(\u001b[0m\u001b[0mestimator\u001b[0m\u001b[0;34m=\u001b[0m\u001b[0mDecisionTreeClassifier\u001b[0m\u001b[0;34m(\u001b[0m\u001b[0mrandom_state\u001b[0m\u001b[0;34m=\u001b[0m\u001b[0;36m0\u001b[0m\u001b[0;34m)\u001b[0m\u001b[0;34m,\u001b[0m\u001b[0mparam_grid\u001b[0m\u001b[0;34m=\u001b[0m \u001b[0;34m[\u001b[0m\u001b[0;34m{\u001b[0m\u001b[0;34m\"criterion\"\u001b[0m\u001b[0;34m:\u001b[0m \u001b[0;34m[\u001b[0m\u001b[0;34m\"gini\"\u001b[0m\u001b[0;34m,\u001b[0m \u001b[0;34m\"entropy\"\u001b[0m\u001b[0;34m]\u001b[0m\u001b[0;34m,\u001b[0m\u001b[0;34m'max_depth'\u001b[0m\u001b[0;34m:\u001b[0m \u001b[0;34m[\u001b[0m\u001b[0;36m1\u001b[0m\u001b[0;34m,\u001b[0m \u001b[0;36m2\u001b[0m\u001b[0;34m,\u001b[0m \u001b[0;36m3\u001b[0m\u001b[0;34m,\u001b[0m \u001b[0;36m4\u001b[0m\u001b[0;34m,\u001b[0m \u001b[0;36m5\u001b[0m\u001b[0;34m,\u001b[0m \u001b[0;36m6\u001b[0m\u001b[0;34m,\u001b[0m \u001b[0;36m7\u001b[0m\u001b[0;34m,\u001b[0m \u001b[0;36m8\u001b[0m\u001b[0;34m,\u001b[0m \u001b[0;36m9\u001b[0m\u001b[0;34m,\u001b[0m \u001b[0;36m10\u001b[0m\u001b[0;34m,\u001b[0m \u001b[0;36m20\u001b[0m\u001b[0;34m,\u001b[0m \u001b[0;36m30\u001b[0m\u001b[0;34m,\u001b[0m \u001b[0;36m40\u001b[0m\u001b[0;34m,\u001b[0m \u001b[0;36m50\u001b[0m\u001b[0;34m]\u001b[0m\u001b[0;34m,\u001b[0m\u001b[0;34m\"max_features\"\u001b[0m\u001b[0;34m:\u001b[0m \u001b[0mlist\u001b[0m\u001b[0;34m(\u001b[0m\u001b[0mrange\u001b[0m\u001b[0;34m(\u001b[0m\u001b[0;36m1\u001b[0m\u001b[0;34m,\u001b[0m \u001b[0;36m11\u001b[0m\u001b[0;34m)\u001b[0m\u001b[0;34m)\u001b[0m\u001b[0;34m,\u001b[0m\u001b[0;34m'min_samples_leaf'\u001b[0m\u001b[0;34m:\u001b[0m\u001b[0;34m[\u001b[0m\u001b[0;36m1\u001b[0m\u001b[0;34m,\u001b[0m\u001b[0;36m2\u001b[0m\u001b[0;34m,\u001b[0m\u001b[0;36m3\u001b[0m\u001b[0;34m,\u001b[0m\u001b[0;36m4\u001b[0m\u001b[0;34m,\u001b[0m\u001b[0;36m5\u001b[0m\u001b[0;34m]\u001b[0m\u001b[0;34m,\u001b[0m\u001b[0;34m'min_samples_split'\u001b[0m\u001b[0;34m:\u001b[0m\u001b[0;34m[\u001b[0m\u001b[0;36m2\u001b[0m\u001b[0;34m,\u001b[0m\u001b[0;36m3\u001b[0m\u001b[0;34m,\u001b[0m\u001b[0;36m4\u001b[0m\u001b[0;34m,\u001b[0m\u001b[0;36m5\u001b[0m\u001b[0;34m]\u001b[0m\u001b[0;34m}\u001b[0m\u001b[0;34m]\u001b[0m\u001b[0;34m,\u001b[0m\u001b[0mcv\u001b[0m \u001b[0;34m=\u001b[0m \u001b[0;36m10\u001b[0m\u001b[0;34m,\u001b[0m\u001b[0mn_jobs\u001b[0m \u001b[0;34m=\u001b[0m \u001b[0;36m4\u001b[0m\u001b[0;34m,\u001b[0m\u001b[0mscoring\u001b[0m\u001b[0;34m=\u001b[0m\u001b[0;34m'accuracy'\u001b[0m\u001b[0;34m)\u001b...\n\u001b[0;32m----> 9\u001b[0;31m \u001b[0mgstree_fit\u001b[0m \u001b[0;34m=\u001b[0m \u001b[0mgstree\u001b[0m\u001b[0;34m.\u001b[0m\u001b[0mfit\u001b[0m\u001b[0;34m(\u001b[0m\u001b[0mxtree_train\u001b[0m\u001b[0;34m,\u001b[0m \u001b[0my_train\u001b[0m\u001b[0;34m)\u001b[0m\u001b[0;34m\u001b[0m\u001b[0;34m\u001b[0m\u001b[0m\n\u001b[0m\u001b[1;32m     10\u001b[0m \u001b[0my_pred_tree\u001b[0m \u001b[0;34m=\u001b[0m \u001b[0mgstree_fit\u001b[0m\u001b[0;34m.\u001b[0m\u001b[0mpredict\u001b[0m\u001b[0;34m(\u001b[0m\u001b[0mxtree_test\u001b[0m\u001b[0;34m)\u001b[0m\u001b[0;34m\u001b[0m\u001b[0;34m\u001b[0m\u001b[0m\n\u001b[1;32m     11\u001b[0m \u001b[0;34m\u001b[0m\u001b[0m\n",
            "\u001b[0;32m/usr/local/lib/python3.6/dist-packages/sklearn/model_selection/_search.py\u001b[0m in \u001b[0;36mfit\u001b[0;34m(self, X, y, groups, **fit_params)\u001b[0m\n\u001b[1;32m    708\u001b[0m                 \u001b[0;32mreturn\u001b[0m \u001b[0mresults\u001b[0m\u001b[0;34m\u001b[0m\u001b[0;34m\u001b[0m\u001b[0m\n\u001b[1;32m    709\u001b[0m \u001b[0;34m\u001b[0m\u001b[0m\n\u001b[0;32m--> 710\u001b[0;31m             \u001b[0mself\u001b[0m\u001b[0;34m.\u001b[0m\u001b[0m_run_search\u001b[0m\u001b[0;34m(\u001b[0m\u001b[0mevaluate_candidates\u001b[0m\u001b[0;34m)\u001b[0m\u001b[0;34m\u001b[0m\u001b[0;34m\u001b[0m\u001b[0m\n\u001b[0m\u001b[1;32m    711\u001b[0m \u001b[0;34m\u001b[0m\u001b[0m\n\u001b[1;32m    712\u001b[0m         \u001b[0;31m# For multi-metric evaluation, store the best_index_, best_params_ and\u001b[0m\u001b[0;34m\u001b[0m\u001b[0;34m\u001b[0m\u001b[0;34m\u001b[0m\u001b[0m\n",
            "\u001b[0;32m/usr/local/lib/python3.6/dist-packages/sklearn/model_selection/_search.py\u001b[0m in \u001b[0;36m_run_search\u001b[0;34m(self, evaluate_candidates)\u001b[0m\n\u001b[1;32m   1149\u001b[0m     \u001b[0;32mdef\u001b[0m \u001b[0m_run_search\u001b[0m\u001b[0;34m(\u001b[0m\u001b[0mself\u001b[0m\u001b[0;34m,\u001b[0m \u001b[0mevaluate_candidates\u001b[0m\u001b[0;34m)\u001b[0m\u001b[0;34m:\u001b[0m\u001b[0;34m\u001b[0m\u001b[0;34m\u001b[0m\u001b[0m\n\u001b[1;32m   1150\u001b[0m         \u001b[0;34m\"\"\"Search all candidates in param_grid\"\"\"\u001b[0m\u001b[0;34m\u001b[0m\u001b[0;34m\u001b[0m\u001b[0m\n\u001b[0;32m-> 1151\u001b[0;31m         \u001b[0mevaluate_candidates\u001b[0m\u001b[0;34m(\u001b[0m\u001b[0mParameterGrid\u001b[0m\u001b[0;34m(\u001b[0m\u001b[0mself\u001b[0m\u001b[0;34m.\u001b[0m\u001b[0mparam_grid\u001b[0m\u001b[0;34m)\u001b[0m\u001b[0;34m)\u001b[0m\u001b[0;34m\u001b[0m\u001b[0;34m\u001b[0m\u001b[0m\n\u001b[0m\u001b[1;32m   1152\u001b[0m \u001b[0;34m\u001b[0m\u001b[0m\n\u001b[1;32m   1153\u001b[0m \u001b[0;34m\u001b[0m\u001b[0m\n",
            "\u001b[0;32m/usr/local/lib/python3.6/dist-packages/sklearn/model_selection/_search.py\u001b[0m in \u001b[0;36mevaluate_candidates\u001b[0;34m(candidate_params)\u001b[0m\n\u001b[1;32m    687\u001b[0m                                \u001b[0;32mfor\u001b[0m \u001b[0mparameters\u001b[0m\u001b[0;34m,\u001b[0m \u001b[0;34m(\u001b[0m\u001b[0mtrain\u001b[0m\u001b[0;34m,\u001b[0m \u001b[0mtest\u001b[0m\u001b[0;34m)\u001b[0m\u001b[0;34m\u001b[0m\u001b[0;34m\u001b[0m\u001b[0m\n\u001b[1;32m    688\u001b[0m                                in product(candidate_params,\n\u001b[0;32m--> 689\u001b[0;31m                                           cv.split(X, y, groups)))\n\u001b[0m\u001b[1;32m    690\u001b[0m \u001b[0;34m\u001b[0m\u001b[0m\n\u001b[1;32m    691\u001b[0m                 \u001b[0;32mif\u001b[0m \u001b[0mlen\u001b[0m\u001b[0;34m(\u001b[0m\u001b[0mout\u001b[0m\u001b[0;34m)\u001b[0m \u001b[0;34m<\u001b[0m \u001b[0;36m1\u001b[0m\u001b[0;34m:\u001b[0m\u001b[0;34m\u001b[0m\u001b[0;34m\u001b[0m\u001b[0m\n",
            "\u001b[0;32m/usr/local/lib/python3.6/dist-packages/joblib/parallel.py\u001b[0m in \u001b[0;36m__call__\u001b[0;34m(self, iterable)\u001b[0m\n\u001b[1;32m   1040\u001b[0m \u001b[0;34m\u001b[0m\u001b[0m\n\u001b[1;32m   1041\u001b[0m             \u001b[0;32mwith\u001b[0m \u001b[0mself\u001b[0m\u001b[0;34m.\u001b[0m\u001b[0m_backend\u001b[0m\u001b[0;34m.\u001b[0m\u001b[0mretrieval_context\u001b[0m\u001b[0;34m(\u001b[0m\u001b[0;34m)\u001b[0m\u001b[0;34m:\u001b[0m\u001b[0;34m\u001b[0m\u001b[0;34m\u001b[0m\u001b[0m\n\u001b[0;32m-> 1042\u001b[0;31m                 \u001b[0mself\u001b[0m\u001b[0;34m.\u001b[0m\u001b[0mretrieve\u001b[0m\u001b[0;34m(\u001b[0m\u001b[0;34m)\u001b[0m\u001b[0;34m\u001b[0m\u001b[0;34m\u001b[0m\u001b[0m\n\u001b[0m\u001b[1;32m   1043\u001b[0m             \u001b[0;31m# Make sure that we get a last message telling us we are done\u001b[0m\u001b[0;34m\u001b[0m\u001b[0;34m\u001b[0m\u001b[0;34m\u001b[0m\u001b[0m\n\u001b[1;32m   1044\u001b[0m             \u001b[0melapsed_time\u001b[0m \u001b[0;34m=\u001b[0m \u001b[0mtime\u001b[0m\u001b[0;34m.\u001b[0m\u001b[0mtime\u001b[0m\u001b[0;34m(\u001b[0m\u001b[0;34m)\u001b[0m \u001b[0;34m-\u001b[0m \u001b[0mself\u001b[0m\u001b[0;34m.\u001b[0m\u001b[0m_start_time\u001b[0m\u001b[0;34m\u001b[0m\u001b[0;34m\u001b[0m\u001b[0m\n",
            "\u001b[0;32m/usr/local/lib/python3.6/dist-packages/joblib/parallel.py\u001b[0m in \u001b[0;36mretrieve\u001b[0;34m(self)\u001b[0m\n\u001b[1;32m    919\u001b[0m             \u001b[0;32mtry\u001b[0m\u001b[0;34m:\u001b[0m\u001b[0;34m\u001b[0m\u001b[0;34m\u001b[0m\u001b[0m\n\u001b[1;32m    920\u001b[0m                 \u001b[0;32mif\u001b[0m \u001b[0mgetattr\u001b[0m\u001b[0;34m(\u001b[0m\u001b[0mself\u001b[0m\u001b[0;34m.\u001b[0m\u001b[0m_backend\u001b[0m\u001b[0;34m,\u001b[0m \u001b[0;34m'supports_timeout'\u001b[0m\u001b[0;34m,\u001b[0m \u001b[0;32mFalse\u001b[0m\u001b[0;34m)\u001b[0m\u001b[0;34m:\u001b[0m\u001b[0;34m\u001b[0m\u001b[0;34m\u001b[0m\u001b[0m\n\u001b[0;32m--> 921\u001b[0;31m                     \u001b[0mself\u001b[0m\u001b[0;34m.\u001b[0m\u001b[0m_output\u001b[0m\u001b[0;34m.\u001b[0m\u001b[0mextend\u001b[0m\u001b[0;34m(\u001b[0m\u001b[0mjob\u001b[0m\u001b[0;34m.\u001b[0m\u001b[0mget\u001b[0m\u001b[0;34m(\u001b[0m\u001b[0mtimeout\u001b[0m\u001b[0;34m=\u001b[0m\u001b[0mself\u001b[0m\u001b[0;34m.\u001b[0m\u001b[0mtimeout\u001b[0m\u001b[0;34m)\u001b[0m\u001b[0;34m)\u001b[0m\u001b[0;34m\u001b[0m\u001b[0;34m\u001b[0m\u001b[0m\n\u001b[0m\u001b[1;32m    922\u001b[0m                 \u001b[0;32melse\u001b[0m\u001b[0;34m:\u001b[0m\u001b[0;34m\u001b[0m\u001b[0;34m\u001b[0m\u001b[0m\n\u001b[1;32m    923\u001b[0m                     \u001b[0mself\u001b[0m\u001b[0;34m.\u001b[0m\u001b[0m_output\u001b[0m\u001b[0;34m.\u001b[0m\u001b[0mextend\u001b[0m\u001b[0;34m(\u001b[0m\u001b[0mjob\u001b[0m\u001b[0;34m.\u001b[0m\u001b[0mget\u001b[0m\u001b[0;34m(\u001b[0m\u001b[0;34m)\u001b[0m\u001b[0;34m)\u001b[0m\u001b[0;34m\u001b[0m\u001b[0;34m\u001b[0m\u001b[0m\n",
            "\u001b[0;32m/usr/local/lib/python3.6/dist-packages/joblib/_parallel_backends.py\u001b[0m in \u001b[0;36mwrap_future_result\u001b[0;34m(future, timeout)\u001b[0m\n\u001b[1;32m    540\u001b[0m         AsyncResults.get from multiprocessing.\"\"\"\n\u001b[1;32m    541\u001b[0m         \u001b[0;32mtry\u001b[0m\u001b[0;34m:\u001b[0m\u001b[0;34m\u001b[0m\u001b[0;34m\u001b[0m\u001b[0m\n\u001b[0;32m--> 542\u001b[0;31m             \u001b[0;32mreturn\u001b[0m \u001b[0mfuture\u001b[0m\u001b[0;34m.\u001b[0m\u001b[0mresult\u001b[0m\u001b[0;34m(\u001b[0m\u001b[0mtimeout\u001b[0m\u001b[0;34m=\u001b[0m\u001b[0mtimeout\u001b[0m\u001b[0;34m)\u001b[0m\u001b[0;34m\u001b[0m\u001b[0;34m\u001b[0m\u001b[0m\n\u001b[0m\u001b[1;32m    543\u001b[0m         \u001b[0;32mexcept\u001b[0m \u001b[0mCfTimeoutError\u001b[0m \u001b[0;32mas\u001b[0m \u001b[0me\u001b[0m\u001b[0;34m:\u001b[0m\u001b[0;34m\u001b[0m\u001b[0;34m\u001b[0m\u001b[0m\n\u001b[1;32m    544\u001b[0m             \u001b[0;32mraise\u001b[0m \u001b[0mTimeoutError\u001b[0m \u001b[0;32mfrom\u001b[0m \u001b[0me\u001b[0m\u001b[0;34m\u001b[0m\u001b[0;34m\u001b[0m\u001b[0m\n",
            "\u001b[0;32m/usr/lib/python3.6/concurrent/futures/_base.py\u001b[0m in \u001b[0;36mresult\u001b[0;34m(self, timeout)\u001b[0m\n\u001b[1;32m    425\u001b[0m                 \u001b[0;32mreturn\u001b[0m \u001b[0mself\u001b[0m\u001b[0;34m.\u001b[0m\u001b[0m__get_result\u001b[0m\u001b[0;34m(\u001b[0m\u001b[0;34m)\u001b[0m\u001b[0;34m\u001b[0m\u001b[0;34m\u001b[0m\u001b[0m\n\u001b[1;32m    426\u001b[0m \u001b[0;34m\u001b[0m\u001b[0m\n\u001b[0;32m--> 427\u001b[0;31m             \u001b[0mself\u001b[0m\u001b[0;34m.\u001b[0m\u001b[0m_condition\u001b[0m\u001b[0;34m.\u001b[0m\u001b[0mwait\u001b[0m\u001b[0;34m(\u001b[0m\u001b[0mtimeout\u001b[0m\u001b[0;34m)\u001b[0m\u001b[0;34m\u001b[0m\u001b[0;34m\u001b[0m\u001b[0m\n\u001b[0m\u001b[1;32m    428\u001b[0m \u001b[0;34m\u001b[0m\u001b[0m\n\u001b[1;32m    429\u001b[0m             \u001b[0;32mif\u001b[0m \u001b[0mself\u001b[0m\u001b[0;34m.\u001b[0m\u001b[0m_state\u001b[0m \u001b[0;32min\u001b[0m \u001b[0;34m[\u001b[0m\u001b[0mCANCELLED\u001b[0m\u001b[0;34m,\u001b[0m \u001b[0mCANCELLED_AND_NOTIFIED\u001b[0m\u001b[0;34m]\u001b[0m\u001b[0;34m:\u001b[0m\u001b[0;34m\u001b[0m\u001b[0;34m\u001b[0m\u001b[0m\n",
            "\u001b[0;32m/usr/lib/python3.6/threading.py\u001b[0m in \u001b[0;36mwait\u001b[0;34m(self, timeout)\u001b[0m\n\u001b[1;32m    293\u001b[0m         \u001b[0;32mtry\u001b[0m\u001b[0;34m:\u001b[0m    \u001b[0;31m# restore state no matter what (e.g., KeyboardInterrupt)\u001b[0m\u001b[0;34m\u001b[0m\u001b[0;34m\u001b[0m\u001b[0m\n\u001b[1;32m    294\u001b[0m             \u001b[0;32mif\u001b[0m \u001b[0mtimeout\u001b[0m \u001b[0;32mis\u001b[0m \u001b[0;32mNone\u001b[0m\u001b[0;34m:\u001b[0m\u001b[0;34m\u001b[0m\u001b[0;34m\u001b[0m\u001b[0m\n\u001b[0;32m--> 295\u001b[0;31m                 \u001b[0mwaiter\u001b[0m\u001b[0;34m.\u001b[0m\u001b[0macquire\u001b[0m\u001b[0;34m(\u001b[0m\u001b[0;34m)\u001b[0m\u001b[0;34m\u001b[0m\u001b[0;34m\u001b[0m\u001b[0m\n\u001b[0m\u001b[1;32m    296\u001b[0m                 \u001b[0mgotit\u001b[0m \u001b[0;34m=\u001b[0m \u001b[0;32mTrue\u001b[0m\u001b[0;34m\u001b[0m\u001b[0;34m\u001b[0m\u001b[0m\n\u001b[1;32m    297\u001b[0m             \u001b[0;32melse\u001b[0m\u001b[0;34m:\u001b[0m\u001b[0;34m\u001b[0m\u001b[0;34m\u001b[0m\u001b[0m\n",
            "\u001b[0;31mKeyboardInterrupt\u001b[0m: "
          ]
        }
      ]
    },
    {
      "cell_type": "code",
      "metadata": {
        "scrolled": false,
        "id": "1FCDrkfbrSPW",
        "colab_type": "code",
        "colab": {
          "base_uri": "https://localhost:8080/",
          "height": 231
        },
        "outputId": "2ff469fa-234b-4f7a-a75e-842f7d58788e"
      },
      "source": [
        "# Generalization Performance of decision tree on test data\n",
        "\n",
        "from sklearn.metrics import accuracy_score, precision_score, recall_score, classification_report\n",
        "\n",
        "accuracy = sum(y_pred_tree == y_test)/len(y_test)\n",
        "error = 1 - accuracy\n",
        "print(\"The predictive accuracy is: \", round(accuracy, 2))\n",
        "print(\"The classification error is: \", round(error, 2))\n",
        "print(classification_report(y_test, y_pred_tree))\n",
        "\n",
        "# Confusion matrix\n",
        "from sklearn.metrics import confusion_matrix\n",
        "\n",
        "cnf_matrix = pd.DataFrame(confusion_matrix(y_test, y_pred_tree), columns = ['Predict 0', 'Predict 1'], index = ['Actual 0', 'Actual 1'])\n",
        "print(\"The Confusion matrix: \\n\", cnf_matrix)"
      ],
      "execution_count": 39,
      "outputs": [
        {
          "output_type": "error",
          "ename": "NameError",
          "evalue": "ignored",
          "traceback": [
            "\u001b[0;31m---------------------------------------------------------------------------\u001b[0m",
            "\u001b[0;31mNameError\u001b[0m                                 Traceback (most recent call last)",
            "\u001b[0;32m<ipython-input-39-ecb7d2210393>\u001b[0m in \u001b[0;36m<module>\u001b[0;34m()\u001b[0m\n\u001b[1;32m      3\u001b[0m \u001b[0;32mfrom\u001b[0m \u001b[0msklearn\u001b[0m\u001b[0;34m.\u001b[0m\u001b[0mmetrics\u001b[0m \u001b[0;32mimport\u001b[0m \u001b[0maccuracy_score\u001b[0m\u001b[0;34m,\u001b[0m \u001b[0mprecision_score\u001b[0m\u001b[0;34m,\u001b[0m \u001b[0mrecall_score\u001b[0m\u001b[0;34m,\u001b[0m \u001b[0mclassification_report\u001b[0m\u001b[0;34m\u001b[0m\u001b[0;34m\u001b[0m\u001b[0m\n\u001b[1;32m      4\u001b[0m \u001b[0;34m\u001b[0m\u001b[0m\n\u001b[0;32m----> 5\u001b[0;31m \u001b[0maccuracy\u001b[0m \u001b[0;34m=\u001b[0m \u001b[0msum\u001b[0m\u001b[0;34m(\u001b[0m\u001b[0my_pred_tree\u001b[0m \u001b[0;34m==\u001b[0m \u001b[0my_test\u001b[0m\u001b[0;34m)\u001b[0m\u001b[0;34m/\u001b[0m\u001b[0mlen\u001b[0m\u001b[0;34m(\u001b[0m\u001b[0my_test\u001b[0m\u001b[0;34m)\u001b[0m\u001b[0;34m\u001b[0m\u001b[0;34m\u001b[0m\u001b[0m\n\u001b[0m\u001b[1;32m      6\u001b[0m \u001b[0merror\u001b[0m \u001b[0;34m=\u001b[0m \u001b[0;36m1\u001b[0m \u001b[0;34m-\u001b[0m \u001b[0maccuracy\u001b[0m\u001b[0;34m\u001b[0m\u001b[0;34m\u001b[0m\u001b[0m\n\u001b[1;32m      7\u001b[0m \u001b[0mprint\u001b[0m\u001b[0;34m(\u001b[0m\u001b[0;34m\"The predictive accuracy is: \"\u001b[0m\u001b[0;34m,\u001b[0m \u001b[0mround\u001b[0m\u001b[0;34m(\u001b[0m\u001b[0maccuracy\u001b[0m\u001b[0;34m,\u001b[0m \u001b[0;36m2\u001b[0m\u001b[0;34m)\u001b[0m\u001b[0;34m)\u001b[0m\u001b[0;34m\u001b[0m\u001b[0;34m\u001b[0m\u001b[0m\n",
            "\u001b[0;31mNameError\u001b[0m: name 'y_pred_tree' is not defined"
          ]
        }
      ]
    },
    {
      "cell_type": "code",
      "metadata": {
        "id": "krJlmIgPrSPc",
        "colab_type": "code",
        "colab": {
          "base_uri": "https://localhost:8080/",
          "height": 1000
        },
        "outputId": "0ffd780e-c202-4134-b62a-9c4a795ba31a"
      },
      "source": [
        "# Graph for the best decision tree model\n",
        "\n",
        "from sklearn import tree\n",
        "import graphviz \n",
        "from sklearn.tree import export_graphviz\n",
        "\n",
        "model =  DecisionTreeClassifier(class_weight=None, criterion='gini', max_depth=20,\n",
        "            max_features=10, max_leaf_nodes=None,\n",
        "            min_impurity_decrease=0.0, min_impurity_split=None,\n",
        "            min_samples_leaf=1, min_samples_split=3,\n",
        "            min_weight_fraction_leaf=0.0, presort=False, random_state=0,\n",
        "            splitter='best')\n",
        "model = model.fit(xtree_train, y_train)\n",
        "\n",
        "dot_data = tree.export_graphviz(model, out_file=None, \n",
        "                                feature_names = [ 'Age', 'Income', 'Family', 'CCAvg', 'Education', 'Mortgage', \n",
        "                                                 'Securities Account', 'CD Account', 'Online', 'CreditCard', 'Area'],\n",
        "                                class_names = ['0','1'],\n",
        "                                filled = True, \n",
        "                                rounded = True)\n",
        "                                                   \n",
        "graph = graphviz.Source(dot_data) \n",
        "graph"
      ],
      "execution_count": 42,
      "outputs": [
        {
          "output_type": "execute_result",
          "data": {
            "text/plain": [
              "<graphviz.files.Source at 0x7fa6ace4b2e8>"
            ],
            "image/svg+xml": "<?xml version=\"1.0\" encoding=\"UTF-8\" standalone=\"no\"?>\n<!DOCTYPE svg PUBLIC \"-//W3C//DTD SVG 1.1//EN\"\n \"http://www.w3.org/Graphics/SVG/1.1/DTD/svg11.dtd\">\n<!-- Generated by graphviz version 2.40.1 (20161225.0304)\n -->\n<!-- Title: Tree Pages: 1 -->\n<svg width=\"2666pt\" height=\"1385pt\"\n viewBox=\"0.00 0.00 2665.50 1385.00\" xmlns=\"http://www.w3.org/2000/svg\" xmlns:xlink=\"http://www.w3.org/1999/xlink\">\n<g id=\"graph0\" class=\"graph\" transform=\"scale(1 1) rotate(0) translate(4 1381)\">\n<title>Tree</title>\n<polygon fill=\"#ffffff\" stroke=\"transparent\" points=\"-4,4 -4,-1381 2661.5,-1381 2661.5,4 -4,4\"/>\n<!-- 0 -->\n<g id=\"node1\" class=\"node\">\n<title>0</title>\n<path fill=\"#e88e4e\" stroke=\"#000000\" d=\"M2247.5,-1377C2247.5,-1377 2131.5,-1377 2131.5,-1377 2125.5,-1377 2119.5,-1371 2119.5,-1365 2119.5,-1365 2119.5,-1306 2119.5,-1306 2119.5,-1300 2125.5,-1294 2131.5,-1294 2131.5,-1294 2247.5,-1294 2247.5,-1294 2253.5,-1294 2259.5,-1300 2259.5,-1306 2259.5,-1306 2259.5,-1365 2259.5,-1365 2259.5,-1371 2253.5,-1377 2247.5,-1377\"/>\n<text text-anchor=\"middle\" x=\"2189.5\" y=\"-1361.8\" font-family=\"Helvetica,sans-Serif\" font-size=\"14.00\" fill=\"#000000\">Income &lt;= 114.5</text>\n<text text-anchor=\"middle\" x=\"2189.5\" y=\"-1346.8\" font-family=\"Helvetica,sans-Serif\" font-size=\"14.00\" fill=\"#000000\">gini = 0.174</text>\n<text text-anchor=\"middle\" x=\"2189.5\" y=\"-1331.8\" font-family=\"Helvetica,sans-Serif\" font-size=\"14.00\" fill=\"#000000\">samples = 3500</text>\n<text text-anchor=\"middle\" x=\"2189.5\" y=\"-1316.8\" font-family=\"Helvetica,sans-Serif\" font-size=\"14.00\" fill=\"#000000\">value = [3164, 336]</text>\n<text text-anchor=\"middle\" x=\"2189.5\" y=\"-1301.8\" font-family=\"Helvetica,sans-Serif\" font-size=\"14.00\" fill=\"#000000\">class = 0</text>\n</g>\n<!-- 1 -->\n<g id=\"node2\" class=\"node\">\n<title>1</title>\n<path fill=\"#e6843e\" stroke=\"#000000\" d=\"M2056.5,-1258C2056.5,-1258 1948.5,-1258 1948.5,-1258 1942.5,-1258 1936.5,-1252 1936.5,-1246 1936.5,-1246 1936.5,-1187 1936.5,-1187 1936.5,-1181 1942.5,-1175 1948.5,-1175 1948.5,-1175 2056.5,-1175 2056.5,-1175 2062.5,-1175 2068.5,-1181 2068.5,-1187 2068.5,-1187 2068.5,-1246 2068.5,-1246 2068.5,-1252 2062.5,-1258 2056.5,-1258\"/>\n<text text-anchor=\"middle\" x=\"2002.5\" y=\"-1242.8\" font-family=\"Helvetica,sans-Serif\" font-size=\"14.00\" fill=\"#000000\">CCAvg &lt;= 2.95</text>\n<text text-anchor=\"middle\" x=\"2002.5\" y=\"-1227.8\" font-family=\"Helvetica,sans-Serif\" font-size=\"14.00\" fill=\"#000000\">gini = 0.044</text>\n<text text-anchor=\"middle\" x=\"2002.5\" y=\"-1212.8\" font-family=\"Helvetica,sans-Serif\" font-size=\"14.00\" fill=\"#000000\">samples = 2851</text>\n<text text-anchor=\"middle\" x=\"2002.5\" y=\"-1197.8\" font-family=\"Helvetica,sans-Serif\" font-size=\"14.00\" fill=\"#000000\">value = [2787, 64]</text>\n<text text-anchor=\"middle\" x=\"2002.5\" y=\"-1182.8\" font-family=\"Helvetica,sans-Serif\" font-size=\"14.00\" fill=\"#000000\">class = 0</text>\n</g>\n<!-- 0&#45;&gt;1 -->\n<g id=\"edge1\" class=\"edge\">\n<title>0&#45;&gt;1</title>\n<path fill=\"none\" stroke=\"#000000\" d=\"M2124.0965,-1293.8796C2108.7226,-1284.0962 2092.2315,-1273.6019 2076.5098,-1263.5971\"/>\n<polygon fill=\"#000000\" stroke=\"#000000\" points=\"2078.1823,-1260.5129 2067.8666,-1258.0969 2074.4241,-1266.4185 2078.1823,-1260.5129\"/>\n<text text-anchor=\"middle\" x=\"2073.2899\" y=\"-1278.8016\" font-family=\"Helvetica,sans-Serif\" font-size=\"14.00\" fill=\"#000000\">True</text>\n</g>\n<!-- 96 -->\n<g id=\"node97\" class=\"node\">\n<title>96</title>\n<path fill=\"#f8dcc8\" stroke=\"#000000\" d=\"M2327.5,-1258C2327.5,-1258 2219.5,-1258 2219.5,-1258 2213.5,-1258 2207.5,-1252 2207.5,-1246 2207.5,-1246 2207.5,-1187 2207.5,-1187 2207.5,-1181 2213.5,-1175 2219.5,-1175 2219.5,-1175 2327.5,-1175 2327.5,-1175 2333.5,-1175 2339.5,-1181 2339.5,-1187 2339.5,-1187 2339.5,-1246 2339.5,-1246 2339.5,-1252 2333.5,-1258 2327.5,-1258\"/>\n<text text-anchor=\"middle\" x=\"2273.5\" y=\"-1242.8\" font-family=\"Helvetica,sans-Serif\" font-size=\"14.00\" fill=\"#000000\">Education &lt;= 1.5</text>\n<text text-anchor=\"middle\" x=\"2273.5\" y=\"-1227.8\" font-family=\"Helvetica,sans-Serif\" font-size=\"14.00\" fill=\"#000000\">gini = 0.487</text>\n<text text-anchor=\"middle\" x=\"2273.5\" y=\"-1212.8\" font-family=\"Helvetica,sans-Serif\" font-size=\"14.00\" fill=\"#000000\">samples = 649</text>\n<text text-anchor=\"middle\" x=\"2273.5\" y=\"-1197.8\" font-family=\"Helvetica,sans-Serif\" font-size=\"14.00\" fill=\"#000000\">value = [377, 272]</text>\n<text text-anchor=\"middle\" x=\"2273.5\" y=\"-1182.8\" font-family=\"Helvetica,sans-Serif\" font-size=\"14.00\" fill=\"#000000\">class = 0</text>\n</g>\n<!-- 0&#45;&gt;96 -->\n<g id=\"edge96\" class=\"edge\">\n<title>0&#45;&gt;96</title>\n<path fill=\"none\" stroke=\"#000000\" d=\"M2218.8791,-1293.8796C2225.1094,-1285.0534 2231.7481,-1275.6485 2238.173,-1266.5466\"/>\n<polygon fill=\"#000000\" stroke=\"#000000\" points=\"2241.088,-1268.4862 2243.9955,-1258.2981 2235.3692,-1264.4494 2241.088,-1268.4862\"/>\n<text text-anchor=\"middle\" x=\"2248.2432\" y=\"-1279.2346\" font-family=\"Helvetica,sans-Serif\" font-size=\"14.00\" fill=\"#000000\">False</text>\n</g>\n<!-- 2 -->\n<g id=\"node3\" class=\"node\">\n<title>2</title>\n<path fill=\"#e5813a\" stroke=\"#000000\" d=\"M796,-1139C796,-1139 695,-1139 695,-1139 689,-1139 683,-1133 683,-1127 683,-1127 683,-1068 683,-1068 683,-1062 689,-1056 695,-1056 695,-1056 796,-1056 796,-1056 802,-1056 808,-1062 808,-1068 808,-1068 808,-1127 808,-1127 808,-1133 802,-1139 796,-1139\"/>\n<text text-anchor=\"middle\" x=\"745.5\" y=\"-1123.8\" font-family=\"Helvetica,sans-Serif\" font-size=\"14.00\" fill=\"#000000\">Income &lt;= 108.5</text>\n<text text-anchor=\"middle\" x=\"745.5\" y=\"-1108.8\" font-family=\"Helvetica,sans-Serif\" font-size=\"14.00\" fill=\"#000000\">gini = 0.007</text>\n<text text-anchor=\"middle\" x=\"745.5\" y=\"-1093.8\" font-family=\"Helvetica,sans-Serif\" font-size=\"14.00\" fill=\"#000000\">samples = 2620</text>\n<text text-anchor=\"middle\" x=\"745.5\" y=\"-1078.8\" font-family=\"Helvetica,sans-Serif\" font-size=\"14.00\" fill=\"#000000\">value = [2611, 9]</text>\n<text text-anchor=\"middle\" x=\"745.5\" y=\"-1063.8\" font-family=\"Helvetica,sans-Serif\" font-size=\"14.00\" fill=\"#000000\">class = 0</text>\n</g>\n<!-- 1&#45;&gt;2 -->\n<g id=\"edge2\" class=\"edge\">\n<title>1&#45;&gt;2</title>\n<path fill=\"none\" stroke=\"#000000\" d=\"M1936.2475,-1210.2279C1721.0627,-1189.8564 1042.753,-1125.6409 818.3679,-1104.3984\"/>\n<polygon fill=\"#000000\" stroke=\"#000000\" points=\"818.6323,-1100.9079 808.3469,-1103.4497 817.9725,-1107.8767 818.6323,-1100.9079\"/>\n</g>\n<!-- 27 -->\n<g id=\"node28\" class=\"node\">\n<title>27</title>\n<path fill=\"#eda877\" stroke=\"#000000\" d=\"M2059.5,-1139C2059.5,-1139 1945.5,-1139 1945.5,-1139 1939.5,-1139 1933.5,-1133 1933.5,-1127 1933.5,-1127 1933.5,-1068 1933.5,-1068 1933.5,-1062 1939.5,-1056 1945.5,-1056 1945.5,-1056 2059.5,-1056 2059.5,-1056 2065.5,-1056 2071.5,-1062 2071.5,-1068 2071.5,-1068 2071.5,-1127 2071.5,-1127 2071.5,-1133 2065.5,-1139 2059.5,-1139\"/>\n<text text-anchor=\"middle\" x=\"2002.5\" y=\"-1123.8\" font-family=\"Helvetica,sans-Serif\" font-size=\"14.00\" fill=\"#000000\">CD Account &lt;= 0.5</text>\n<text text-anchor=\"middle\" x=\"2002.5\" y=\"-1108.8\" font-family=\"Helvetica,sans-Serif\" font-size=\"14.00\" fill=\"#000000\">gini = 0.363</text>\n<text text-anchor=\"middle\" x=\"2002.5\" y=\"-1093.8\" font-family=\"Helvetica,sans-Serif\" font-size=\"14.00\" fill=\"#000000\">samples = 231</text>\n<text text-anchor=\"middle\" x=\"2002.5\" y=\"-1078.8\" font-family=\"Helvetica,sans-Serif\" font-size=\"14.00\" fill=\"#000000\">value = [176, 55]</text>\n<text text-anchor=\"middle\" x=\"2002.5\" y=\"-1063.8\" font-family=\"Helvetica,sans-Serif\" font-size=\"14.00\" fill=\"#000000\">class = 0</text>\n</g>\n<!-- 1&#45;&gt;27 -->\n<g id=\"edge27\" class=\"edge\">\n<title>1&#45;&gt;27</title>\n<path fill=\"none\" stroke=\"#000000\" d=\"M2002.5,-1174.8796C2002.5,-1166.6838 2002.5,-1157.9891 2002.5,-1149.5013\"/>\n<polygon fill=\"#000000\" stroke=\"#000000\" points=\"2006.0001,-1149.298 2002.5,-1139.2981 1999.0001,-1149.2981 2006.0001,-1149.298\"/>\n</g>\n<!-- 3 -->\n<g id=\"node4\" class=\"node\">\n<title>3</title>\n<path fill=\"#e58139\" stroke=\"#000000\" d=\"M661.5,-1012.5C661.5,-1012.5 561.5,-1012.5 561.5,-1012.5 555.5,-1012.5 549.5,-1006.5 549.5,-1000.5 549.5,-1000.5 549.5,-956.5 549.5,-956.5 549.5,-950.5 555.5,-944.5 561.5,-944.5 561.5,-944.5 661.5,-944.5 661.5,-944.5 667.5,-944.5 673.5,-950.5 673.5,-956.5 673.5,-956.5 673.5,-1000.5 673.5,-1000.5 673.5,-1006.5 667.5,-1012.5 661.5,-1012.5\"/>\n<text text-anchor=\"middle\" x=\"611.5\" y=\"-997.3\" font-family=\"Helvetica,sans-Serif\" font-size=\"14.00\" fill=\"#000000\">gini = 0.0</text>\n<text text-anchor=\"middle\" x=\"611.5\" y=\"-982.3\" font-family=\"Helvetica,sans-Serif\" font-size=\"14.00\" fill=\"#000000\">samples = 2544</text>\n<text text-anchor=\"middle\" x=\"611.5\" y=\"-967.3\" font-family=\"Helvetica,sans-Serif\" font-size=\"14.00\" fill=\"#000000\">value = [2544, 0]</text>\n<text text-anchor=\"middle\" x=\"611.5\" y=\"-952.3\" font-family=\"Helvetica,sans-Serif\" font-size=\"14.00\" fill=\"#000000\">class = 0</text>\n</g>\n<!-- 2&#45;&gt;3 -->\n<g id=\"edge3\" class=\"edge\">\n<title>2&#45;&gt;3</title>\n<path fill=\"none\" stroke=\"#000000\" d=\"M698.6333,-1055.8796C685.3844,-1044.1138 670.9776,-1031.3197 657.7644,-1019.5855\"/>\n<polygon fill=\"#000000\" stroke=\"#000000\" points=\"659.9416,-1016.8381 650.1403,-1012.8149 655.2935,-1022.0722 659.9416,-1016.8381\"/>\n</g>\n<!-- 4 -->\n<g id=\"node5\" class=\"node\">\n<title>4</title>\n<path fill=\"#e89254\" stroke=\"#000000\" d=\"M787,-1020C787,-1020 704,-1020 704,-1020 698,-1020 692,-1014 692,-1008 692,-1008 692,-949 692,-949 692,-943 698,-937 704,-937 704,-937 787,-937 787,-937 793,-937 799,-943 799,-949 799,-949 799,-1008 799,-1008 799,-1014 793,-1020 787,-1020\"/>\n<text text-anchor=\"middle\" x=\"745.5\" y=\"-1004.8\" font-family=\"Helvetica,sans-Serif\" font-size=\"14.00\" fill=\"#000000\">Family &lt;= 3.5</text>\n<text text-anchor=\"middle\" x=\"745.5\" y=\"-989.8\" font-family=\"Helvetica,sans-Serif\" font-size=\"14.00\" fill=\"#000000\">gini = 0.209</text>\n<text text-anchor=\"middle\" x=\"745.5\" y=\"-974.8\" font-family=\"Helvetica,sans-Serif\" font-size=\"14.00\" fill=\"#000000\">samples = 76</text>\n<text text-anchor=\"middle\" x=\"745.5\" y=\"-959.8\" font-family=\"Helvetica,sans-Serif\" font-size=\"14.00\" fill=\"#000000\">value = [67, 9]</text>\n<text text-anchor=\"middle\" x=\"745.5\" y=\"-944.8\" font-family=\"Helvetica,sans-Serif\" font-size=\"14.00\" fill=\"#000000\">class = 0</text>\n</g>\n<!-- 2&#45;&gt;4 -->\n<g id=\"edge4\" class=\"edge\">\n<title>2&#45;&gt;4</title>\n<path fill=\"none\" stroke=\"#000000\" d=\"M745.5,-1055.8796C745.5,-1047.6838 745.5,-1038.9891 745.5,-1030.5013\"/>\n<polygon fill=\"#000000\" stroke=\"#000000\" points=\"749.0001,-1030.298 745.5,-1020.2981 742.0001,-1030.2981 749.0001,-1030.298\"/>\n</g>\n<!-- 5 -->\n<g id=\"node6\" class=\"node\">\n<title>5</title>\n<path fill=\"#e78a47\" stroke=\"#000000\" d=\"M532.5,-901C532.5,-901 430.5,-901 430.5,-901 424.5,-901 418.5,-895 418.5,-889 418.5,-889 418.5,-830 418.5,-830 418.5,-824 424.5,-818 430.5,-818 430.5,-818 532.5,-818 532.5,-818 538.5,-818 544.5,-824 544.5,-830 544.5,-830 544.5,-889 544.5,-889 544.5,-895 538.5,-901 532.5,-901\"/>\n<text text-anchor=\"middle\" x=\"481.5\" y=\"-885.8\" font-family=\"Helvetica,sans-Serif\" font-size=\"14.00\" fill=\"#000000\">Education &lt;= 2.5</text>\n<text text-anchor=\"middle\" x=\"481.5\" y=\"-870.8\" font-family=\"Helvetica,sans-Serif\" font-size=\"14.00\" fill=\"#000000\">gini = 0.126</text>\n<text text-anchor=\"middle\" x=\"481.5\" y=\"-855.8\" font-family=\"Helvetica,sans-Serif\" font-size=\"14.00\" fill=\"#000000\">samples = 59</text>\n<text text-anchor=\"middle\" x=\"481.5\" y=\"-840.8\" font-family=\"Helvetica,sans-Serif\" font-size=\"14.00\" fill=\"#000000\">value = [55, 4]</text>\n<text text-anchor=\"middle\" x=\"481.5\" y=\"-825.8\" font-family=\"Helvetica,sans-Serif\" font-size=\"14.00\" fill=\"#000000\">class = 0</text>\n</g>\n<!-- 4&#45;&gt;5 -->\n<g id=\"edge5\" class=\"edge\">\n<title>4&#45;&gt;5</title>\n<path fill=\"none\" stroke=\"#000000\" d=\"M691.6498,-941.9704C688.5906,-940.2278 685.5279,-938.5581 682.5,-937 641.4194,-915.8605 593.1826,-897.0767 554.2615,-883.2975\"/>\n<polygon fill=\"#000000\" stroke=\"#000000\" points=\"555.1719,-879.9079 544.5771,-879.9037 552.8569,-886.514 555.1719,-879.9079\"/>\n</g>\n<!-- 18 -->\n<g id=\"node19\" class=\"node\">\n<title>18</title>\n<path fill=\"#f0b58b\" stroke=\"#000000\" d=\"M796.5,-901C796.5,-901 694.5,-901 694.5,-901 688.5,-901 682.5,-895 682.5,-889 682.5,-889 682.5,-830 682.5,-830 682.5,-824 688.5,-818 694.5,-818 694.5,-818 796.5,-818 796.5,-818 802.5,-818 808.5,-824 808.5,-830 808.5,-830 808.5,-889 808.5,-889 808.5,-895 802.5,-901 796.5,-901\"/>\n<text text-anchor=\"middle\" x=\"745.5\" y=\"-885.8\" font-family=\"Helvetica,sans-Serif\" font-size=\"14.00\" fill=\"#000000\">Education &lt;= 1.5</text>\n<text text-anchor=\"middle\" x=\"745.5\" y=\"-870.8\" font-family=\"Helvetica,sans-Serif\" font-size=\"14.00\" fill=\"#000000\">gini = 0.415</text>\n<text text-anchor=\"middle\" x=\"745.5\" y=\"-855.8\" font-family=\"Helvetica,sans-Serif\" font-size=\"14.00\" fill=\"#000000\">samples = 17</text>\n<text text-anchor=\"middle\" x=\"745.5\" y=\"-840.8\" font-family=\"Helvetica,sans-Serif\" font-size=\"14.00\" fill=\"#000000\">value = [12, 5]</text>\n<text text-anchor=\"middle\" x=\"745.5\" y=\"-825.8\" font-family=\"Helvetica,sans-Serif\" font-size=\"14.00\" fill=\"#000000\">class = 0</text>\n</g>\n<!-- 4&#45;&gt;18 -->\n<g id=\"edge18\" class=\"edge\">\n<title>4&#45;&gt;18</title>\n<path fill=\"none\" stroke=\"#000000\" d=\"M745.5,-936.8796C745.5,-928.6838 745.5,-919.9891 745.5,-911.5013\"/>\n<polygon fill=\"#000000\" stroke=\"#000000\" points=\"749.0001,-911.298 745.5,-901.2981 742.0001,-911.2981 749.0001,-911.298\"/>\n</g>\n<!-- 6 -->\n<g id=\"node7\" class=\"node\">\n<title>6</title>\n<path fill=\"#e6843d\" stroke=\"#000000\" d=\"M328.5,-782C328.5,-782 244.5,-782 244.5,-782 238.5,-782 232.5,-776 232.5,-770 232.5,-770 232.5,-711 232.5,-711 232.5,-705 238.5,-699 244.5,-699 244.5,-699 328.5,-699 328.5,-699 334.5,-699 340.5,-705 340.5,-711 340.5,-711 340.5,-770 340.5,-770 340.5,-776 334.5,-782 328.5,-782\"/>\n<text text-anchor=\"middle\" x=\"286.5\" y=\"-766.8\" font-family=\"Helvetica,sans-Serif\" font-size=\"14.00\" fill=\"#000000\">Area &lt;= 901.0</text>\n<text text-anchor=\"middle\" x=\"286.5\" y=\"-751.8\" font-family=\"Helvetica,sans-Serif\" font-size=\"14.00\" fill=\"#000000\">gini = 0.043</text>\n<text text-anchor=\"middle\" x=\"286.5\" y=\"-736.8\" font-family=\"Helvetica,sans-Serif\" font-size=\"14.00\" fill=\"#000000\">samples = 45</text>\n<text text-anchor=\"middle\" x=\"286.5\" y=\"-721.8\" font-family=\"Helvetica,sans-Serif\" font-size=\"14.00\" fill=\"#000000\">value = [44, 1]</text>\n<text text-anchor=\"middle\" x=\"286.5\" y=\"-706.8\" font-family=\"Helvetica,sans-Serif\" font-size=\"14.00\" fill=\"#000000\">class = 0</text>\n</g>\n<!-- 5&#45;&gt;6 -->\n<g id=\"edge6\" class=\"edge\">\n<title>5&#45;&gt;6</title>\n<path fill=\"none\" stroke=\"#000000\" d=\"M418.4584,-821.0284C396.3558,-807.5402 371.5419,-792.3974 349.4471,-778.9139\"/>\n<polygon fill=\"#000000\" stroke=\"#000000\" points=\"351.164,-775.8614 340.8047,-773.6398 347.5176,-781.8367 351.164,-775.8614\"/>\n</g>\n<!-- 11 -->\n<g id=\"node12\" class=\"node\">\n<title>11</title>\n<path fill=\"#eca36f\" stroke=\"#000000\" d=\"M523,-782C523,-782 440,-782 440,-782 434,-782 428,-776 428,-770 428,-770 428,-711 428,-711 428,-705 434,-699 440,-699 440,-699 523,-699 523,-699 529,-699 535,-705 535,-711 535,-711 535,-770 535,-770 535,-776 529,-782 523,-782\"/>\n<text text-anchor=\"middle\" x=\"481.5\" y=\"-766.8\" font-family=\"Helvetica,sans-Serif\" font-size=\"14.00\" fill=\"#000000\">Family &lt;= 1.5</text>\n<text text-anchor=\"middle\" x=\"481.5\" y=\"-751.8\" font-family=\"Helvetica,sans-Serif\" font-size=\"14.00\" fill=\"#000000\">gini = 0.337</text>\n<text text-anchor=\"middle\" x=\"481.5\" y=\"-736.8\" font-family=\"Helvetica,sans-Serif\" font-size=\"14.00\" fill=\"#000000\">samples = 14</text>\n<text text-anchor=\"middle\" x=\"481.5\" y=\"-721.8\" font-family=\"Helvetica,sans-Serif\" font-size=\"14.00\" fill=\"#000000\">value = [11, 3]</text>\n<text text-anchor=\"middle\" x=\"481.5\" y=\"-706.8\" font-family=\"Helvetica,sans-Serif\" font-size=\"14.00\" fill=\"#000000\">class = 0</text>\n</g>\n<!-- 5&#45;&gt;11 -->\n<g id=\"edge11\" class=\"edge\">\n<title>5&#45;&gt;11</title>\n<path fill=\"none\" stroke=\"#000000\" d=\"M481.5,-817.8796C481.5,-809.6838 481.5,-800.9891 481.5,-792.5013\"/>\n<polygon fill=\"#000000\" stroke=\"#000000\" points=\"485.0001,-792.298 481.5,-782.2981 478.0001,-792.2981 485.0001,-792.298\"/>\n</g>\n<!-- 7 -->\n<g id=\"node8\" class=\"node\">\n<title>7</title>\n<path fill=\"#eca06a\" stroke=\"#000000\" d=\"M203,-663C203,-663 96,-663 96,-663 90,-663 84,-657 84,-651 84,-651 84,-592 84,-592 84,-586 90,-580 96,-580 96,-580 203,-580 203,-580 209,-580 215,-586 215,-592 215,-592 215,-651 215,-651 215,-657 209,-663 203,-663\"/>\n<text text-anchor=\"middle\" x=\"149.5\" y=\"-647.8\" font-family=\"Helvetica,sans-Serif\" font-size=\"14.00\" fill=\"#000000\">Mortgage &lt;= 54.5</text>\n<text text-anchor=\"middle\" x=\"149.5\" y=\"-632.8\" font-family=\"Helvetica,sans-Serif\" font-size=\"14.00\" fill=\"#000000\">gini = 0.32</text>\n<text text-anchor=\"middle\" x=\"149.5\" y=\"-617.8\" font-family=\"Helvetica,sans-Serif\" font-size=\"14.00\" fill=\"#000000\">samples = 5</text>\n<text text-anchor=\"middle\" x=\"149.5\" y=\"-602.8\" font-family=\"Helvetica,sans-Serif\" font-size=\"14.00\" fill=\"#000000\">value = [4, 1]</text>\n<text text-anchor=\"middle\" x=\"149.5\" y=\"-587.8\" font-family=\"Helvetica,sans-Serif\" font-size=\"14.00\" fill=\"#000000\">class = 0</text>\n</g>\n<!-- 6&#45;&gt;7 -->\n<g id=\"edge7\" class=\"edge\">\n<title>6&#45;&gt;7</title>\n<path fill=\"none\" stroke=\"#000000\" d=\"M238.584,-698.8796C227.8007,-689.513 216.2671,-679.4948 205.1961,-669.8784\"/>\n<polygon fill=\"#000000\" stroke=\"#000000\" points=\"207.4653,-667.2134 197.6205,-663.2981 202.8749,-672.4982 207.4653,-667.2134\"/>\n</g>\n<!-- 10 -->\n<g id=\"node11\" class=\"node\">\n<title>10</title>\n<path fill=\"#e58139\" stroke=\"#000000\" d=\"M328,-655.5C328,-655.5 245,-655.5 245,-655.5 239,-655.5 233,-649.5 233,-643.5 233,-643.5 233,-599.5 233,-599.5 233,-593.5 239,-587.5 245,-587.5 245,-587.5 328,-587.5 328,-587.5 334,-587.5 340,-593.5 340,-599.5 340,-599.5 340,-643.5 340,-643.5 340,-649.5 334,-655.5 328,-655.5\"/>\n<text text-anchor=\"middle\" x=\"286.5\" y=\"-640.3\" font-family=\"Helvetica,sans-Serif\" font-size=\"14.00\" fill=\"#000000\">gini = 0.0</text>\n<text text-anchor=\"middle\" x=\"286.5\" y=\"-625.3\" font-family=\"Helvetica,sans-Serif\" font-size=\"14.00\" fill=\"#000000\">samples = 40</text>\n<text text-anchor=\"middle\" x=\"286.5\" y=\"-610.3\" font-family=\"Helvetica,sans-Serif\" font-size=\"14.00\" fill=\"#000000\">value = [40, 0]</text>\n<text text-anchor=\"middle\" x=\"286.5\" y=\"-595.3\" font-family=\"Helvetica,sans-Serif\" font-size=\"14.00\" fill=\"#000000\">class = 0</text>\n</g>\n<!-- 6&#45;&gt;10 -->\n<g id=\"edge10\" class=\"edge\">\n<title>6&#45;&gt;10</title>\n<path fill=\"none\" stroke=\"#000000\" d=\"M286.5,-698.8796C286.5,-688.2134 286.5,-676.7021 286.5,-665.9015\"/>\n<polygon fill=\"#000000\" stroke=\"#000000\" points=\"290.0001,-665.8149 286.5,-655.8149 283.0001,-665.815 290.0001,-665.8149\"/>\n</g>\n<!-- 8 -->\n<g id=\"node9\" class=\"node\">\n<title>8</title>\n<path fill=\"#ffffff\" stroke=\"#000000\" d=\"M87,-536.5C87,-536.5 12,-536.5 12,-536.5 6,-536.5 0,-530.5 0,-524.5 0,-524.5 0,-480.5 0,-480.5 0,-474.5 6,-468.5 12,-468.5 12,-468.5 87,-468.5 87,-468.5 93,-468.5 99,-474.5 99,-480.5 99,-480.5 99,-524.5 99,-524.5 99,-530.5 93,-536.5 87,-536.5\"/>\n<text text-anchor=\"middle\" x=\"49.5\" y=\"-521.3\" font-family=\"Helvetica,sans-Serif\" font-size=\"14.00\" fill=\"#000000\">gini = 0.5</text>\n<text text-anchor=\"middle\" x=\"49.5\" y=\"-506.3\" font-family=\"Helvetica,sans-Serif\" font-size=\"14.00\" fill=\"#000000\">samples = 2</text>\n<text text-anchor=\"middle\" x=\"49.5\" y=\"-491.3\" font-family=\"Helvetica,sans-Serif\" font-size=\"14.00\" fill=\"#000000\">value = [1, 1]</text>\n<text text-anchor=\"middle\" x=\"49.5\" y=\"-476.3\" font-family=\"Helvetica,sans-Serif\" font-size=\"14.00\" fill=\"#000000\">class = 0</text>\n</g>\n<!-- 7&#45;&gt;8 -->\n<g id=\"edge8\" class=\"edge\">\n<title>7&#45;&gt;8</title>\n<path fill=\"none\" stroke=\"#000000\" d=\"M114.5249,-579.8796C104.9148,-568.4436 94.4885,-556.0363 84.8571,-544.575\"/>\n<polygon fill=\"#000000\" stroke=\"#000000\" points=\"87.4491,-542.219 78.3361,-536.8149 82.09,-546.7225 87.4491,-542.219\"/>\n</g>\n<!-- 9 -->\n<g id=\"node10\" class=\"node\">\n<title>9</title>\n<path fill=\"#e58139\" stroke=\"#000000\" d=\"M204,-536.5C204,-536.5 129,-536.5 129,-536.5 123,-536.5 117,-530.5 117,-524.5 117,-524.5 117,-480.5 117,-480.5 117,-474.5 123,-468.5 129,-468.5 129,-468.5 204,-468.5 204,-468.5 210,-468.5 216,-474.5 216,-480.5 216,-480.5 216,-524.5 216,-524.5 216,-530.5 210,-536.5 204,-536.5\"/>\n<text text-anchor=\"middle\" x=\"166.5\" y=\"-521.3\" font-family=\"Helvetica,sans-Serif\" font-size=\"14.00\" fill=\"#000000\">gini = 0.0</text>\n<text text-anchor=\"middle\" x=\"166.5\" y=\"-506.3\" font-family=\"Helvetica,sans-Serif\" font-size=\"14.00\" fill=\"#000000\">samples = 3</text>\n<text text-anchor=\"middle\" x=\"166.5\" y=\"-491.3\" font-family=\"Helvetica,sans-Serif\" font-size=\"14.00\" fill=\"#000000\">value = [3, 0]</text>\n<text text-anchor=\"middle\" x=\"166.5\" y=\"-476.3\" font-family=\"Helvetica,sans-Serif\" font-size=\"14.00\" fill=\"#000000\">class = 0</text>\n</g>\n<!-- 7&#45;&gt;9 -->\n<g id=\"edge9\" class=\"edge\">\n<title>7&#45;&gt;9</title>\n<path fill=\"none\" stroke=\"#000000\" d=\"M155.4458,-579.8796C156.9695,-569.2134 158.614,-557.7021 160.1569,-546.9015\"/>\n<polygon fill=\"#000000\" stroke=\"#000000\" points=\"163.6484,-547.2094 161.5979,-536.8149 156.7187,-546.2194 163.6484,-547.2094\"/>\n</g>\n<!-- 12 -->\n<g id=\"node13\" class=\"node\">\n<title>12</title>\n<path fill=\"#e88e4d\" stroke=\"#000000\" d=\"M462.5,-663C462.5,-663 370.5,-663 370.5,-663 364.5,-663 358.5,-657 358.5,-651 358.5,-651 358.5,-592 358.5,-592 358.5,-586 364.5,-580 370.5,-580 370.5,-580 462.5,-580 462.5,-580 468.5,-580 474.5,-586 474.5,-592 474.5,-592 474.5,-651 474.5,-651 474.5,-657 468.5,-663 462.5,-663\"/>\n<text text-anchor=\"middle\" x=\"416.5\" y=\"-647.8\" font-family=\"Helvetica,sans-Serif\" font-size=\"14.00\" fill=\"#000000\">CCAvg &lt;= 1.85</text>\n<text text-anchor=\"middle\" x=\"416.5\" y=\"-632.8\" font-family=\"Helvetica,sans-Serif\" font-size=\"14.00\" fill=\"#000000\">gini = 0.165</text>\n<text text-anchor=\"middle\" x=\"416.5\" y=\"-617.8\" font-family=\"Helvetica,sans-Serif\" font-size=\"14.00\" fill=\"#000000\">samples = 11</text>\n<text text-anchor=\"middle\" x=\"416.5\" y=\"-602.8\" font-family=\"Helvetica,sans-Serif\" font-size=\"14.00\" fill=\"#000000\">value = [10, 1]</text>\n<text text-anchor=\"middle\" x=\"416.5\" y=\"-587.8\" font-family=\"Helvetica,sans-Serif\" font-size=\"14.00\" fill=\"#000000\">class = 0</text>\n</g>\n<!-- 11&#45;&gt;12 -->\n<g id=\"edge12\" class=\"edge\">\n<title>11&#45;&gt;12</title>\n<path fill=\"none\" stroke=\"#000000\" d=\"M458.7662,-698.8796C454.0435,-690.2335 449.0176,-681.0322 444.141,-672.1042\"/>\n<polygon fill=\"#000000\" stroke=\"#000000\" points=\"447.1963,-670.3964 439.3309,-663.2981 441.053,-673.752 447.1963,-670.3964\"/>\n</g>\n<!-- 15 -->\n<g id=\"node16\" class=\"node\">\n<title>15</title>\n<path fill=\"#9ccef2\" stroke=\"#000000\" d=\"M588.5,-663C588.5,-663 504.5,-663 504.5,-663 498.5,-663 492.5,-657 492.5,-651 492.5,-651 492.5,-592 492.5,-592 492.5,-586 498.5,-580 504.5,-580 504.5,-580 588.5,-580 588.5,-580 594.5,-580 600.5,-586 600.5,-592 600.5,-592 600.5,-651 600.5,-651 600.5,-657 594.5,-663 588.5,-663\"/>\n<text text-anchor=\"middle\" x=\"546.5\" y=\"-647.8\" font-family=\"Helvetica,sans-Serif\" font-size=\"14.00\" fill=\"#000000\">Area &lt;= 926.0</text>\n<text text-anchor=\"middle\" x=\"546.5\" y=\"-632.8\" font-family=\"Helvetica,sans-Serif\" font-size=\"14.00\" fill=\"#000000\">gini = 0.444</text>\n<text text-anchor=\"middle\" x=\"546.5\" y=\"-617.8\" font-family=\"Helvetica,sans-Serif\" font-size=\"14.00\" fill=\"#000000\">samples = 3</text>\n<text text-anchor=\"middle\" x=\"546.5\" y=\"-602.8\" font-family=\"Helvetica,sans-Serif\" font-size=\"14.00\" fill=\"#000000\">value = [1, 2]</text>\n<text text-anchor=\"middle\" x=\"546.5\" y=\"-587.8\" font-family=\"Helvetica,sans-Serif\" font-size=\"14.00\" fill=\"#000000\">class = 1</text>\n</g>\n<!-- 11&#45;&gt;15 -->\n<g id=\"edge15\" class=\"edge\">\n<title>11&#45;&gt;15</title>\n<path fill=\"none\" stroke=\"#000000\" d=\"M504.2338,-698.8796C508.9565,-690.2335 513.9824,-681.0322 518.859,-672.1042\"/>\n<polygon fill=\"#000000\" stroke=\"#000000\" points=\"521.947,-673.752 523.6691,-663.2981 515.8037,-670.3964 521.947,-673.752\"/>\n</g>\n<!-- 13 -->\n<g id=\"node14\" class=\"node\">\n<title>13</title>\n<path fill=\"#e58139\" stroke=\"#000000\" d=\"M337,-536.5C337,-536.5 262,-536.5 262,-536.5 256,-536.5 250,-530.5 250,-524.5 250,-524.5 250,-480.5 250,-480.5 250,-474.5 256,-468.5 262,-468.5 262,-468.5 337,-468.5 337,-468.5 343,-468.5 349,-474.5 349,-480.5 349,-480.5 349,-524.5 349,-524.5 349,-530.5 343,-536.5 337,-536.5\"/>\n<text text-anchor=\"middle\" x=\"299.5\" y=\"-521.3\" font-family=\"Helvetica,sans-Serif\" font-size=\"14.00\" fill=\"#000000\">gini = 0.0</text>\n<text text-anchor=\"middle\" x=\"299.5\" y=\"-506.3\" font-family=\"Helvetica,sans-Serif\" font-size=\"14.00\" fill=\"#000000\">samples = 9</text>\n<text text-anchor=\"middle\" x=\"299.5\" y=\"-491.3\" font-family=\"Helvetica,sans-Serif\" font-size=\"14.00\" fill=\"#000000\">value = [9, 0]</text>\n<text text-anchor=\"middle\" x=\"299.5\" y=\"-476.3\" font-family=\"Helvetica,sans-Serif\" font-size=\"14.00\" fill=\"#000000\">class = 0</text>\n</g>\n<!-- 12&#45;&gt;13 -->\n<g id=\"edge13\" class=\"edge\">\n<title>12&#45;&gt;13</title>\n<path fill=\"none\" stroke=\"#000000\" d=\"M375.5791,-579.8796C364.2272,-568.3337 351.9018,-555.7976 340.543,-544.2446\"/>\n<polygon fill=\"#000000\" stroke=\"#000000\" points=\"342.7449,-541.4919 333.2382,-536.8149 337.7534,-546.3995 342.7449,-541.4919\"/>\n</g>\n<!-- 14 -->\n<g id=\"node15\" class=\"node\">\n<title>14</title>\n<path fill=\"#ffffff\" stroke=\"#000000\" d=\"M454,-536.5C454,-536.5 379,-536.5 379,-536.5 373,-536.5 367,-530.5 367,-524.5 367,-524.5 367,-480.5 367,-480.5 367,-474.5 373,-468.5 379,-468.5 379,-468.5 454,-468.5 454,-468.5 460,-468.5 466,-474.5 466,-480.5 466,-480.5 466,-524.5 466,-524.5 466,-530.5 460,-536.5 454,-536.5\"/>\n<text text-anchor=\"middle\" x=\"416.5\" y=\"-521.3\" font-family=\"Helvetica,sans-Serif\" font-size=\"14.00\" fill=\"#000000\">gini = 0.5</text>\n<text text-anchor=\"middle\" x=\"416.5\" y=\"-506.3\" font-family=\"Helvetica,sans-Serif\" font-size=\"14.00\" fill=\"#000000\">samples = 2</text>\n<text text-anchor=\"middle\" x=\"416.5\" y=\"-491.3\" font-family=\"Helvetica,sans-Serif\" font-size=\"14.00\" fill=\"#000000\">value = [1, 1]</text>\n<text text-anchor=\"middle\" x=\"416.5\" y=\"-476.3\" font-family=\"Helvetica,sans-Serif\" font-size=\"14.00\" fill=\"#000000\">class = 0</text>\n</g>\n<!-- 12&#45;&gt;14 -->\n<g id=\"edge14\" class=\"edge\">\n<title>12&#45;&gt;14</title>\n<path fill=\"none\" stroke=\"#000000\" d=\"M416.5,-579.8796C416.5,-569.2134 416.5,-557.7021 416.5,-546.9015\"/>\n<polygon fill=\"#000000\" stroke=\"#000000\" points=\"420.0001,-546.8149 416.5,-536.8149 413.0001,-546.815 420.0001,-546.8149\"/>\n</g>\n<!-- 16 -->\n<g id=\"node17\" class=\"node\">\n<title>16</title>\n<path fill=\"#e58139\" stroke=\"#000000\" d=\"M571,-536.5C571,-536.5 496,-536.5 496,-536.5 490,-536.5 484,-530.5 484,-524.5 484,-524.5 484,-480.5 484,-480.5 484,-474.5 490,-468.5 496,-468.5 496,-468.5 571,-468.5 571,-468.5 577,-468.5 583,-474.5 583,-480.5 583,-480.5 583,-524.5 583,-524.5 583,-530.5 577,-536.5 571,-536.5\"/>\n<text text-anchor=\"middle\" x=\"533.5\" y=\"-521.3\" font-family=\"Helvetica,sans-Serif\" font-size=\"14.00\" fill=\"#000000\">gini = 0.0</text>\n<text text-anchor=\"middle\" x=\"533.5\" y=\"-506.3\" font-family=\"Helvetica,sans-Serif\" font-size=\"14.00\" fill=\"#000000\">samples = 1</text>\n<text text-anchor=\"middle\" x=\"533.5\" y=\"-491.3\" font-family=\"Helvetica,sans-Serif\" font-size=\"14.00\" fill=\"#000000\">value = [1, 0]</text>\n<text text-anchor=\"middle\" x=\"533.5\" y=\"-476.3\" font-family=\"Helvetica,sans-Serif\" font-size=\"14.00\" fill=\"#000000\">class = 0</text>\n</g>\n<!-- 15&#45;&gt;16 -->\n<g id=\"edge16\" class=\"edge\">\n<title>15&#45;&gt;16</title>\n<path fill=\"none\" stroke=\"#000000\" d=\"M541.9532,-579.8796C540.788,-569.2134 539.5305,-557.7021 538.3506,-546.9015\"/>\n<polygon fill=\"#000000\" stroke=\"#000000\" points=\"541.8141,-546.3757 537.2487,-536.8149 534.8555,-547.1359 541.8141,-546.3757\"/>\n</g>\n<!-- 17 -->\n<g id=\"node18\" class=\"node\">\n<title>17</title>\n<path fill=\"#399de5\" stroke=\"#000000\" d=\"M688,-536.5C688,-536.5 613,-536.5 613,-536.5 607,-536.5 601,-530.5 601,-524.5 601,-524.5 601,-480.5 601,-480.5 601,-474.5 607,-468.5 613,-468.5 613,-468.5 688,-468.5 688,-468.5 694,-468.5 700,-474.5 700,-480.5 700,-480.5 700,-524.5 700,-524.5 700,-530.5 694,-536.5 688,-536.5\"/>\n<text text-anchor=\"middle\" x=\"650.5\" y=\"-521.3\" font-family=\"Helvetica,sans-Serif\" font-size=\"14.00\" fill=\"#000000\">gini = 0.0</text>\n<text text-anchor=\"middle\" x=\"650.5\" y=\"-506.3\" font-family=\"Helvetica,sans-Serif\" font-size=\"14.00\" fill=\"#000000\">samples = 2</text>\n<text text-anchor=\"middle\" x=\"650.5\" y=\"-491.3\" font-family=\"Helvetica,sans-Serif\" font-size=\"14.00\" fill=\"#000000\">value = [0, 2]</text>\n<text text-anchor=\"middle\" x=\"650.5\" y=\"-476.3\" font-family=\"Helvetica,sans-Serif\" font-size=\"14.00\" fill=\"#000000\">class = 1</text>\n</g>\n<!-- 15&#45;&gt;17 -->\n<g id=\"edge17\" class=\"edge\">\n<title>15&#45;&gt;17</title>\n<path fill=\"none\" stroke=\"#000000\" d=\"M582.8742,-579.8796C592.8686,-568.4436 603.712,-556.0363 613.7286,-544.575\"/>\n<polygon fill=\"#000000\" stroke=\"#000000\" points=\"616.5653,-546.6479 620.5105,-536.8149 611.2945,-542.0414 616.5653,-546.6479\"/>\n</g>\n<!-- 19 -->\n<g id=\"node20\" class=\"node\">\n<title>19</title>\n<path fill=\"#399de5\" stroke=\"#000000\" d=\"M720,-774.5C720,-774.5 645,-774.5 645,-774.5 639,-774.5 633,-768.5 633,-762.5 633,-762.5 633,-718.5 633,-718.5 633,-712.5 639,-706.5 645,-706.5 645,-706.5 720,-706.5 720,-706.5 726,-706.5 732,-712.5 732,-718.5 732,-718.5 732,-762.5 732,-762.5 732,-768.5 726,-774.5 720,-774.5\"/>\n<text text-anchor=\"middle\" x=\"682.5\" y=\"-759.3\" font-family=\"Helvetica,sans-Serif\" font-size=\"14.00\" fill=\"#000000\">gini = 0.0</text>\n<text text-anchor=\"middle\" x=\"682.5\" y=\"-744.3\" font-family=\"Helvetica,sans-Serif\" font-size=\"14.00\" fill=\"#000000\">samples = 2</text>\n<text text-anchor=\"middle\" x=\"682.5\" y=\"-729.3\" font-family=\"Helvetica,sans-Serif\" font-size=\"14.00\" fill=\"#000000\">value = [0, 2]</text>\n<text text-anchor=\"middle\" x=\"682.5\" y=\"-714.3\" font-family=\"Helvetica,sans-Serif\" font-size=\"14.00\" fill=\"#000000\">class = 1</text>\n</g>\n<!-- 18&#45;&gt;19 -->\n<g id=\"edge19\" class=\"edge\">\n<title>18&#45;&gt;19</title>\n<path fill=\"none\" stroke=\"#000000\" d=\"M723.4657,-817.8796C717.6442,-806.8835 711.3473,-794.9893 705.4773,-783.9015\"/>\n<polygon fill=\"#000000\" stroke=\"#000000\" points=\"708.4389,-782.0152 700.6667,-774.8149 702.2524,-785.2905 708.4389,-782.0152\"/>\n</g>\n<!-- 20 -->\n<g id=\"node21\" class=\"node\">\n<title>20</title>\n<path fill=\"#eca06a\" stroke=\"#000000\" d=\"M854.5,-782C854.5,-782 762.5,-782 762.5,-782 756.5,-782 750.5,-776 750.5,-770 750.5,-770 750.5,-711 750.5,-711 750.5,-705 756.5,-699 762.5,-699 762.5,-699 854.5,-699 854.5,-699 860.5,-699 866.5,-705 866.5,-711 866.5,-711 866.5,-770 866.5,-770 866.5,-776 860.5,-782 854.5,-782\"/>\n<text text-anchor=\"middle\" x=\"808.5\" y=\"-766.8\" font-family=\"Helvetica,sans-Serif\" font-size=\"14.00\" fill=\"#000000\">CCAvg &lt;= 1.15</text>\n<text text-anchor=\"middle\" x=\"808.5\" y=\"-751.8\" font-family=\"Helvetica,sans-Serif\" font-size=\"14.00\" fill=\"#000000\">gini = 0.32</text>\n<text text-anchor=\"middle\" x=\"808.5\" y=\"-736.8\" font-family=\"Helvetica,sans-Serif\" font-size=\"14.00\" fill=\"#000000\">samples = 15</text>\n<text text-anchor=\"middle\" x=\"808.5\" y=\"-721.8\" font-family=\"Helvetica,sans-Serif\" font-size=\"14.00\" fill=\"#000000\">value = [12, 3]</text>\n<text text-anchor=\"middle\" x=\"808.5\" y=\"-706.8\" font-family=\"Helvetica,sans-Serif\" font-size=\"14.00\" fill=\"#000000\">class = 0</text>\n</g>\n<!-- 18&#45;&gt;20 -->\n<g id=\"edge20\" class=\"edge\">\n<title>18&#45;&gt;20</title>\n<path fill=\"none\" stroke=\"#000000\" d=\"M767.5343,-817.8796C772.064,-809.3236 776.8815,-800.2238 781.5618,-791.3833\"/>\n<polygon fill=\"#000000\" stroke=\"#000000\" points=\"784.7859,-792.7736 786.3716,-782.2981 778.5994,-789.4983 784.7859,-792.7736\"/>\n</g>\n<!-- 21 -->\n<g id=\"node22\" class=\"node\">\n<title>21</title>\n<path fill=\"#399de5\" stroke=\"#000000\" d=\"M770,-655.5C770,-655.5 695,-655.5 695,-655.5 689,-655.5 683,-649.5 683,-643.5 683,-643.5 683,-599.5 683,-599.5 683,-593.5 689,-587.5 695,-587.5 695,-587.5 770,-587.5 770,-587.5 776,-587.5 782,-593.5 782,-599.5 782,-599.5 782,-643.5 782,-643.5 782,-649.5 776,-655.5 770,-655.5\"/>\n<text text-anchor=\"middle\" x=\"732.5\" y=\"-640.3\" font-family=\"Helvetica,sans-Serif\" font-size=\"14.00\" fill=\"#000000\">gini = 0.0</text>\n<text text-anchor=\"middle\" x=\"732.5\" y=\"-625.3\" font-family=\"Helvetica,sans-Serif\" font-size=\"14.00\" fill=\"#000000\">samples = 1</text>\n<text text-anchor=\"middle\" x=\"732.5\" y=\"-610.3\" font-family=\"Helvetica,sans-Serif\" font-size=\"14.00\" fill=\"#000000\">value = [0, 1]</text>\n<text text-anchor=\"middle\" x=\"732.5\" y=\"-595.3\" font-family=\"Helvetica,sans-Serif\" font-size=\"14.00\" fill=\"#000000\">class = 1</text>\n</g>\n<!-- 20&#45;&gt;21 -->\n<g id=\"edge21\" class=\"edge\">\n<title>20&#45;&gt;21</title>\n<path fill=\"none\" stroke=\"#000000\" d=\"M781.9189,-698.8796C774.826,-687.7735 767.1479,-675.7513 760.0063,-664.5691\"/>\n<polygon fill=\"#000000\" stroke=\"#000000\" points=\"762.7477,-662.3589 754.4154,-655.8149 756.8482,-666.1267 762.7477,-662.3589\"/>\n</g>\n<!-- 22 -->\n<g id=\"node23\" class=\"node\">\n<title>22</title>\n<path fill=\"#e9965a\" stroke=\"#000000\" d=\"M904.5,-663C904.5,-663 812.5,-663 812.5,-663 806.5,-663 800.5,-657 800.5,-651 800.5,-651 800.5,-592 800.5,-592 800.5,-586 806.5,-580 812.5,-580 812.5,-580 904.5,-580 904.5,-580 910.5,-580 916.5,-586 916.5,-592 916.5,-592 916.5,-651 916.5,-651 916.5,-657 910.5,-663 904.5,-663\"/>\n<text text-anchor=\"middle\" x=\"858.5\" y=\"-647.8\" font-family=\"Helvetica,sans-Serif\" font-size=\"14.00\" fill=\"#000000\">CCAvg &lt;= 2.45</text>\n<text text-anchor=\"middle\" x=\"858.5\" y=\"-632.8\" font-family=\"Helvetica,sans-Serif\" font-size=\"14.00\" fill=\"#000000\">gini = 0.245</text>\n<text text-anchor=\"middle\" x=\"858.5\" y=\"-617.8\" font-family=\"Helvetica,sans-Serif\" font-size=\"14.00\" fill=\"#000000\">samples = 14</text>\n<text text-anchor=\"middle\" x=\"858.5\" y=\"-602.8\" font-family=\"Helvetica,sans-Serif\" font-size=\"14.00\" fill=\"#000000\">value = [12, 2]</text>\n<text text-anchor=\"middle\" x=\"858.5\" y=\"-587.8\" font-family=\"Helvetica,sans-Serif\" font-size=\"14.00\" fill=\"#000000\">class = 0</text>\n</g>\n<!-- 20&#45;&gt;22 -->\n<g id=\"edge22\" class=\"edge\">\n<title>20&#45;&gt;22</title>\n<path fill=\"none\" stroke=\"#000000\" d=\"M825.9876,-698.8796C829.5447,-690.4136 833.3255,-681.4153 837.0031,-672.6626\"/>\n<polygon fill=\"#000000\" stroke=\"#000000\" points=\"840.2908,-673.8731 840.9378,-663.2981 833.8373,-671.1616 840.2908,-673.8731\"/>\n</g>\n<!-- 23 -->\n<g id=\"node24\" class=\"node\">\n<title>23</title>\n<path fill=\"#e78c49\" stroke=\"#000000\" d=\"M814.5,-544C814.5,-544 730.5,-544 730.5,-544 724.5,-544 718.5,-538 718.5,-532 718.5,-532 718.5,-473 718.5,-473 718.5,-467 724.5,-461 730.5,-461 730.5,-461 814.5,-461 814.5,-461 820.5,-461 826.5,-467 826.5,-473 826.5,-473 826.5,-532 826.5,-532 826.5,-538 820.5,-544 814.5,-544\"/>\n<text text-anchor=\"middle\" x=\"772.5\" y=\"-528.8\" font-family=\"Helvetica,sans-Serif\" font-size=\"14.00\" fill=\"#000000\">Area &lt;= 946.5</text>\n<text text-anchor=\"middle\" x=\"772.5\" y=\"-513.8\" font-family=\"Helvetica,sans-Serif\" font-size=\"14.00\" fill=\"#000000\">gini = 0.142</text>\n<text text-anchor=\"middle\" x=\"772.5\" y=\"-498.8\" font-family=\"Helvetica,sans-Serif\" font-size=\"14.00\" fill=\"#000000\">samples = 13</text>\n<text text-anchor=\"middle\" x=\"772.5\" y=\"-483.8\" font-family=\"Helvetica,sans-Serif\" font-size=\"14.00\" fill=\"#000000\">value = [12, 1]</text>\n<text text-anchor=\"middle\" x=\"772.5\" y=\"-468.8\" font-family=\"Helvetica,sans-Serif\" font-size=\"14.00\" fill=\"#000000\">class = 0</text>\n</g>\n<!-- 22&#45;&gt;23 -->\n<g id=\"edge23\" class=\"edge\">\n<title>22&#45;&gt;23</title>\n<path fill=\"none\" stroke=\"#000000\" d=\"M828.4214,-579.8796C822.0428,-571.0534 815.246,-561.6485 808.6681,-552.5466\"/>\n<polygon fill=\"#000000\" stroke=\"#000000\" points=\"811.4012,-550.353 802.707,-544.2981 805.7277,-554.4532 811.4012,-550.353\"/>\n</g>\n<!-- 26 -->\n<g id=\"node27\" class=\"node\">\n<title>26</title>\n<path fill=\"#399de5\" stroke=\"#000000\" d=\"M932,-536.5C932,-536.5 857,-536.5 857,-536.5 851,-536.5 845,-530.5 845,-524.5 845,-524.5 845,-480.5 845,-480.5 845,-474.5 851,-468.5 857,-468.5 857,-468.5 932,-468.5 932,-468.5 938,-468.5 944,-474.5 944,-480.5 944,-480.5 944,-524.5 944,-524.5 944,-530.5 938,-536.5 932,-536.5\"/>\n<text text-anchor=\"middle\" x=\"894.5\" y=\"-521.3\" font-family=\"Helvetica,sans-Serif\" font-size=\"14.00\" fill=\"#000000\">gini = 0.0</text>\n<text text-anchor=\"middle\" x=\"894.5\" y=\"-506.3\" font-family=\"Helvetica,sans-Serif\" font-size=\"14.00\" fill=\"#000000\">samples = 1</text>\n<text text-anchor=\"middle\" x=\"894.5\" y=\"-491.3\" font-family=\"Helvetica,sans-Serif\" font-size=\"14.00\" fill=\"#000000\">value = [0, 1]</text>\n<text text-anchor=\"middle\" x=\"894.5\" y=\"-476.3\" font-family=\"Helvetica,sans-Serif\" font-size=\"14.00\" fill=\"#000000\">class = 1</text>\n</g>\n<!-- 22&#45;&gt;26 -->\n<g id=\"edge26\" class=\"edge\">\n<title>22&#45;&gt;26</title>\n<path fill=\"none\" stroke=\"#000000\" d=\"M871.0911,-579.8796C874.3511,-569.1034 877.872,-557.4647 881.1686,-546.5677\"/>\n<polygon fill=\"#000000\" stroke=\"#000000\" points=\"884.5734,-547.4 884.119,-536.8149 877.8733,-545.373 884.5734,-547.4\"/>\n</g>\n<!-- 24 -->\n<g id=\"node25\" class=\"node\">\n<title>24</title>\n<path fill=\"#e58139\" stroke=\"#000000\" d=\"M701,-417.5C701,-417.5 618,-417.5 618,-417.5 612,-417.5 606,-411.5 606,-405.5 606,-405.5 606,-361.5 606,-361.5 606,-355.5 612,-349.5 618,-349.5 618,-349.5 701,-349.5 701,-349.5 707,-349.5 713,-355.5 713,-361.5 713,-361.5 713,-405.5 713,-405.5 713,-411.5 707,-417.5 701,-417.5\"/>\n<text text-anchor=\"middle\" x=\"659.5\" y=\"-402.3\" font-family=\"Helvetica,sans-Serif\" font-size=\"14.00\" fill=\"#000000\">gini = 0.0</text>\n<text text-anchor=\"middle\" x=\"659.5\" y=\"-387.3\" font-family=\"Helvetica,sans-Serif\" font-size=\"14.00\" fill=\"#000000\">samples = 11</text>\n<text text-anchor=\"middle\" x=\"659.5\" y=\"-372.3\" font-family=\"Helvetica,sans-Serif\" font-size=\"14.00\" fill=\"#000000\">value = [11, 0]</text>\n<text text-anchor=\"middle\" x=\"659.5\" y=\"-357.3\" font-family=\"Helvetica,sans-Serif\" font-size=\"14.00\" fill=\"#000000\">class = 0</text>\n</g>\n<!-- 23&#45;&gt;24 -->\n<g id=\"edge24\" class=\"edge\">\n<title>23&#45;&gt;24</title>\n<path fill=\"none\" stroke=\"#000000\" d=\"M732.9781,-460.8796C722.0143,-449.3337 710.1103,-436.7976 699.1399,-425.2446\"/>\n<polygon fill=\"#000000\" stroke=\"#000000\" points=\"701.5087,-422.6564 692.0848,-417.8149 696.4327,-427.4766 701.5087,-422.6564\"/>\n</g>\n<!-- 25 -->\n<g id=\"node26\" class=\"node\">\n<title>25</title>\n<path fill=\"#ffffff\" stroke=\"#000000\" d=\"M818,-417.5C818,-417.5 743,-417.5 743,-417.5 737,-417.5 731,-411.5 731,-405.5 731,-405.5 731,-361.5 731,-361.5 731,-355.5 737,-349.5 743,-349.5 743,-349.5 818,-349.5 818,-349.5 824,-349.5 830,-355.5 830,-361.5 830,-361.5 830,-405.5 830,-405.5 830,-411.5 824,-417.5 818,-417.5\"/>\n<text text-anchor=\"middle\" x=\"780.5\" y=\"-402.3\" font-family=\"Helvetica,sans-Serif\" font-size=\"14.00\" fill=\"#000000\">gini = 0.5</text>\n<text text-anchor=\"middle\" x=\"780.5\" y=\"-387.3\" font-family=\"Helvetica,sans-Serif\" font-size=\"14.00\" fill=\"#000000\">samples = 2</text>\n<text text-anchor=\"middle\" x=\"780.5\" y=\"-372.3\" font-family=\"Helvetica,sans-Serif\" font-size=\"14.00\" fill=\"#000000\">value = [1, 1]</text>\n<text text-anchor=\"middle\" x=\"780.5\" y=\"-357.3\" font-family=\"Helvetica,sans-Serif\" font-size=\"14.00\" fill=\"#000000\">class = 0</text>\n</g>\n<!-- 23&#45;&gt;25 -->\n<g id=\"edge25\" class=\"edge\">\n<title>23&#45;&gt;25</title>\n<path fill=\"none\" stroke=\"#000000\" d=\"M775.298,-460.8796C776.0151,-450.2134 776.7889,-438.7021 777.515,-427.9015\"/>\n<polygon fill=\"#000000\" stroke=\"#000000\" points=\"781.0144,-428.0272 778.1931,-417.8149 774.0301,-427.5576 781.0144,-428.0272\"/>\n</g>\n<!-- 28 -->\n<g id=\"node29\" class=\"node\">\n<title>28</title>\n<path fill=\"#eb9f69\" stroke=\"#000000\" d=\"M1986.5,-1020C1986.5,-1020 1886.5,-1020 1886.5,-1020 1880.5,-1020 1874.5,-1014 1874.5,-1008 1874.5,-1008 1874.5,-949 1874.5,-949 1874.5,-943 1880.5,-937 1886.5,-937 1886.5,-937 1986.5,-937 1986.5,-937 1992.5,-937 1998.5,-943 1998.5,-949 1998.5,-949 1998.5,-1008 1998.5,-1008 1998.5,-1014 1992.5,-1020 1986.5,-1020\"/>\n<text text-anchor=\"middle\" x=\"1936.5\" y=\"-1004.8\" font-family=\"Helvetica,sans-Serif\" font-size=\"14.00\" fill=\"#000000\">Income &lt;= 92.5</text>\n<text text-anchor=\"middle\" x=\"1936.5\" y=\"-989.8\" font-family=\"Helvetica,sans-Serif\" font-size=\"14.00\" fill=\"#000000\">gini = 0.313</text>\n<text text-anchor=\"middle\" x=\"1936.5\" y=\"-974.8\" font-family=\"Helvetica,sans-Serif\" font-size=\"14.00\" fill=\"#000000\">samples = 211</text>\n<text text-anchor=\"middle\" x=\"1936.5\" y=\"-959.8\" font-family=\"Helvetica,sans-Serif\" font-size=\"14.00\" fill=\"#000000\">value = [170, 41]</text>\n<text text-anchor=\"middle\" x=\"1936.5\" y=\"-944.8\" font-family=\"Helvetica,sans-Serif\" font-size=\"14.00\" fill=\"#000000\">class = 0</text>\n</g>\n<!-- 27&#45;&gt;28 -->\n<g id=\"edge28\" class=\"edge\">\n<title>27&#45;&gt;28</title>\n<path fill=\"none\" stroke=\"#000000\" d=\"M1979.4164,-1055.8796C1974.6211,-1047.2335 1969.5178,-1038.0322 1964.5662,-1029.1042\"/>\n<polygon fill=\"#000000\" stroke=\"#000000\" points=\"1967.5931,-1027.3455 1959.6821,-1020.2981 1961.4716,-1030.7407 1967.5931,-1027.3455\"/>\n</g>\n<!-- 87 -->\n<g id=\"node88\" class=\"node\">\n<title>87</title>\n<path fill=\"#8ec7f0\" stroke=\"#000000\" d=\"M2129.5,-1020C2129.5,-1020 2045.5,-1020 2045.5,-1020 2039.5,-1020 2033.5,-1014 2033.5,-1008 2033.5,-1008 2033.5,-949 2033.5,-949 2033.5,-943 2039.5,-937 2045.5,-937 2045.5,-937 2129.5,-937 2129.5,-937 2135.5,-937 2141.5,-943 2141.5,-949 2141.5,-949 2141.5,-1008 2141.5,-1008 2141.5,-1014 2135.5,-1020 2129.5,-1020\"/>\n<text text-anchor=\"middle\" x=\"2087.5\" y=\"-1004.8\" font-family=\"Helvetica,sans-Serif\" font-size=\"14.00\" fill=\"#000000\">Area &lt;= 945.0</text>\n<text text-anchor=\"middle\" x=\"2087.5\" y=\"-989.8\" font-family=\"Helvetica,sans-Serif\" font-size=\"14.00\" fill=\"#000000\">gini = 0.42</text>\n<text text-anchor=\"middle\" x=\"2087.5\" y=\"-974.8\" font-family=\"Helvetica,sans-Serif\" font-size=\"14.00\" fill=\"#000000\">samples = 20</text>\n<text text-anchor=\"middle\" x=\"2087.5\" y=\"-959.8\" font-family=\"Helvetica,sans-Serif\" font-size=\"14.00\" fill=\"#000000\">value = [6, 14]</text>\n<text text-anchor=\"middle\" x=\"2087.5\" y=\"-944.8\" font-family=\"Helvetica,sans-Serif\" font-size=\"14.00\" fill=\"#000000\">class = 1</text>\n</g>\n<!-- 27&#45;&gt;87 -->\n<g id=\"edge87\" class=\"edge\">\n<title>27&#45;&gt;87</title>\n<path fill=\"none\" stroke=\"#000000\" d=\"M2032.2289,-1055.8796C2038.5333,-1047.0534 2045.251,-1037.6485 2051.7524,-1028.5466\"/>\n<polygon fill=\"#000000\" stroke=\"#000000\" points=\"2054.6799,-1030.4698 2057.6442,-1020.2981 2048.9837,-1026.4011 2054.6799,-1030.4698\"/>\n</g>\n<!-- 29 -->\n<g id=\"node30\" class=\"node\">\n<title>29</title>\n<path fill=\"#e88f4f\" stroke=\"#000000\" d=\"M1349.5,-901C1349.5,-901 1249.5,-901 1249.5,-901 1243.5,-901 1237.5,-895 1237.5,-889 1237.5,-889 1237.5,-830 1237.5,-830 1237.5,-824 1243.5,-818 1249.5,-818 1249.5,-818 1349.5,-818 1349.5,-818 1355.5,-818 1361.5,-824 1361.5,-830 1361.5,-830 1361.5,-889 1361.5,-889 1361.5,-895 1355.5,-901 1349.5,-901\"/>\n<text text-anchor=\"middle\" x=\"1299.5\" y=\"-885.8\" font-family=\"Helvetica,sans-Serif\" font-size=\"14.00\" fill=\"#000000\">Age &lt;= 29.5</text>\n<text text-anchor=\"middle\" x=\"1299.5\" y=\"-870.8\" font-family=\"Helvetica,sans-Serif\" font-size=\"14.00\" fill=\"#000000\">gini = 0.18</text>\n<text text-anchor=\"middle\" x=\"1299.5\" y=\"-855.8\" font-family=\"Helvetica,sans-Serif\" font-size=\"14.00\" fill=\"#000000\">samples = 130</text>\n<text text-anchor=\"middle\" x=\"1299.5\" y=\"-840.8\" font-family=\"Helvetica,sans-Serif\" font-size=\"14.00\" fill=\"#000000\">value = [117, 13]</text>\n<text text-anchor=\"middle\" x=\"1299.5\" y=\"-825.8\" font-family=\"Helvetica,sans-Serif\" font-size=\"14.00\" fill=\"#000000\">class = 0</text>\n</g>\n<!-- 28&#45;&gt;29 -->\n<g id=\"edge29\" class=\"edge\">\n<title>28&#45;&gt;29</title>\n<path fill=\"none\" stroke=\"#000000\" d=\"M1874.2619,-966.8731C1755.5409,-944.6945 1497.368,-896.4643 1371.4543,-872.942\"/>\n<polygon fill=\"#000000\" stroke=\"#000000\" points=\"1371.9937,-869.4823 1361.521,-871.0863 1370.7082,-876.3633 1371.9937,-869.4823\"/>\n</g>\n<!-- 58 -->\n<g id=\"node59\" class=\"node\">\n<title>58</title>\n<path fill=\"#f3c4a2\" stroke=\"#000000\" d=\"M1987.5,-901C1987.5,-901 1885.5,-901 1885.5,-901 1879.5,-901 1873.5,-895 1873.5,-889 1873.5,-889 1873.5,-830 1873.5,-830 1873.5,-824 1879.5,-818 1885.5,-818 1885.5,-818 1987.5,-818 1987.5,-818 1993.5,-818 1999.5,-824 1999.5,-830 1999.5,-830 1999.5,-889 1999.5,-889 1999.5,-895 1993.5,-901 1987.5,-901\"/>\n<text text-anchor=\"middle\" x=\"1936.5\" y=\"-885.8\" font-family=\"Helvetica,sans-Serif\" font-size=\"14.00\" fill=\"#000000\">Education &lt;= 1.5</text>\n<text text-anchor=\"middle\" x=\"1936.5\" y=\"-870.8\" font-family=\"Helvetica,sans-Serif\" font-size=\"14.00\" fill=\"#000000\">gini = 0.452</text>\n<text text-anchor=\"middle\" x=\"1936.5\" y=\"-855.8\" font-family=\"Helvetica,sans-Serif\" font-size=\"14.00\" fill=\"#000000\">samples = 81</text>\n<text text-anchor=\"middle\" x=\"1936.5\" y=\"-840.8\" font-family=\"Helvetica,sans-Serif\" font-size=\"14.00\" fill=\"#000000\">value = [53, 28]</text>\n<text text-anchor=\"middle\" x=\"1936.5\" y=\"-825.8\" font-family=\"Helvetica,sans-Serif\" font-size=\"14.00\" fill=\"#000000\">class = 0</text>\n</g>\n<!-- 28&#45;&gt;58 -->\n<g id=\"edge58\" class=\"edge\">\n<title>28&#45;&gt;58</title>\n<path fill=\"none\" stroke=\"#000000\" d=\"M1936.5,-936.8796C1936.5,-928.6838 1936.5,-919.9891 1936.5,-911.5013\"/>\n<polygon fill=\"#000000\" stroke=\"#000000\" points=\"1940.0001,-911.298 1936.5,-901.2981 1933.0001,-911.2981 1940.0001,-911.298\"/>\n</g>\n<!-- 30 -->\n<g id=\"node31\" class=\"node\">\n<title>30</title>\n<path fill=\"#7bbeee\" stroke=\"#000000\" d=\"M1148,-782C1148,-782 1055,-782 1055,-782 1049,-782 1043,-776 1043,-770 1043,-770 1043,-711 1043,-711 1043,-705 1049,-699 1055,-699 1055,-699 1148,-699 1148,-699 1154,-699 1160,-705 1160,-711 1160,-711 1160,-770 1160,-770 1160,-776 1154,-782 1148,-782\"/>\n<text text-anchor=\"middle\" x=\"1101.5\" y=\"-766.8\" font-family=\"Helvetica,sans-Serif\" font-size=\"14.00\" fill=\"#000000\">Income &lt;= 91.5</text>\n<text text-anchor=\"middle\" x=\"1101.5\" y=\"-751.8\" font-family=\"Helvetica,sans-Serif\" font-size=\"14.00\" fill=\"#000000\">gini = 0.375</text>\n<text text-anchor=\"middle\" x=\"1101.5\" y=\"-736.8\" font-family=\"Helvetica,sans-Serif\" font-size=\"14.00\" fill=\"#000000\">samples = 4</text>\n<text text-anchor=\"middle\" x=\"1101.5\" y=\"-721.8\" font-family=\"Helvetica,sans-Serif\" font-size=\"14.00\" fill=\"#000000\">value = [1, 3]</text>\n<text text-anchor=\"middle\" x=\"1101.5\" y=\"-706.8\" font-family=\"Helvetica,sans-Serif\" font-size=\"14.00\" fill=\"#000000\">class = 1</text>\n</g>\n<!-- 29&#45;&gt;30 -->\n<g id=\"edge30\" class=\"edge\">\n<title>29&#45;&gt;30</title>\n<path fill=\"none\" stroke=\"#000000\" d=\"M1237.3948,-822.1742C1215.5683,-809.0562 1190.9498,-794.2603 1168.7221,-780.9012\"/>\n<polygon fill=\"#000000\" stroke=\"#000000\" points=\"1170.383,-777.8159 1160.0089,-775.6644 1166.777,-783.8157 1170.383,-777.8159\"/>\n</g>\n<!-- 33 -->\n<g id=\"node34\" class=\"node\">\n<title>33</title>\n<path fill=\"#e78c4a\" stroke=\"#000000\" d=\"M1349.5,-782C1349.5,-782 1249.5,-782 1249.5,-782 1243.5,-782 1237.5,-776 1237.5,-770 1237.5,-770 1237.5,-711 1237.5,-711 1237.5,-705 1243.5,-699 1249.5,-699 1249.5,-699 1349.5,-699 1349.5,-699 1355.5,-699 1361.5,-705 1361.5,-711 1361.5,-711 1361.5,-770 1361.5,-770 1361.5,-776 1355.5,-782 1349.5,-782\"/>\n<text text-anchor=\"middle\" x=\"1299.5\" y=\"-766.8\" font-family=\"Helvetica,sans-Serif\" font-size=\"14.00\" fill=\"#000000\">CCAvg &lt;= 3.5</text>\n<text text-anchor=\"middle\" x=\"1299.5\" y=\"-751.8\" font-family=\"Helvetica,sans-Serif\" font-size=\"14.00\" fill=\"#000000\">gini = 0.146</text>\n<text text-anchor=\"middle\" x=\"1299.5\" y=\"-736.8\" font-family=\"Helvetica,sans-Serif\" font-size=\"14.00\" fill=\"#000000\">samples = 126</text>\n<text text-anchor=\"middle\" x=\"1299.5\" y=\"-721.8\" font-family=\"Helvetica,sans-Serif\" font-size=\"14.00\" fill=\"#000000\">value = [116, 10]</text>\n<text text-anchor=\"middle\" x=\"1299.5\" y=\"-706.8\" font-family=\"Helvetica,sans-Serif\" font-size=\"14.00\" fill=\"#000000\">class = 0</text>\n</g>\n<!-- 29&#45;&gt;33 -->\n<g id=\"edge33\" class=\"edge\">\n<title>29&#45;&gt;33</title>\n<path fill=\"none\" stroke=\"#000000\" d=\"M1299.5,-817.8796C1299.5,-809.6838 1299.5,-800.9891 1299.5,-792.5013\"/>\n<polygon fill=\"#000000\" stroke=\"#000000\" points=\"1303.0001,-792.298 1299.5,-782.2981 1296.0001,-792.2981 1303.0001,-792.298\"/>\n</g>\n<!-- 31 -->\n<g id=\"node32\" class=\"node\">\n<title>31</title>\n<path fill=\"#399de5\" stroke=\"#000000\" d=\"M1022,-655.5C1022,-655.5 947,-655.5 947,-655.5 941,-655.5 935,-649.5 935,-643.5 935,-643.5 935,-599.5 935,-599.5 935,-593.5 941,-587.5 947,-587.5 947,-587.5 1022,-587.5 1022,-587.5 1028,-587.5 1034,-593.5 1034,-599.5 1034,-599.5 1034,-643.5 1034,-643.5 1034,-649.5 1028,-655.5 1022,-655.5\"/>\n<text text-anchor=\"middle\" x=\"984.5\" y=\"-640.3\" font-family=\"Helvetica,sans-Serif\" font-size=\"14.00\" fill=\"#000000\">gini = 0.0</text>\n<text text-anchor=\"middle\" x=\"984.5\" y=\"-625.3\" font-family=\"Helvetica,sans-Serif\" font-size=\"14.00\" fill=\"#000000\">samples = 3</text>\n<text text-anchor=\"middle\" x=\"984.5\" y=\"-610.3\" font-family=\"Helvetica,sans-Serif\" font-size=\"14.00\" fill=\"#000000\">value = [0, 3]</text>\n<text text-anchor=\"middle\" x=\"984.5\" y=\"-595.3\" font-family=\"Helvetica,sans-Serif\" font-size=\"14.00\" fill=\"#000000\">class = 1</text>\n</g>\n<!-- 30&#45;&gt;31 -->\n<g id=\"edge31\" class=\"edge\">\n<title>30&#45;&gt;31</title>\n<path fill=\"none\" stroke=\"#000000\" d=\"M1060.5791,-698.8796C1049.2272,-687.3337 1036.9018,-674.7976 1025.543,-663.2446\"/>\n<polygon fill=\"#000000\" stroke=\"#000000\" points=\"1027.7449,-660.4919 1018.2382,-655.8149 1022.7534,-665.3995 1027.7449,-660.4919\"/>\n</g>\n<!-- 32 -->\n<g id=\"node33\" class=\"node\">\n<title>32</title>\n<path fill=\"#e58139\" stroke=\"#000000\" d=\"M1139,-655.5C1139,-655.5 1064,-655.5 1064,-655.5 1058,-655.5 1052,-649.5 1052,-643.5 1052,-643.5 1052,-599.5 1052,-599.5 1052,-593.5 1058,-587.5 1064,-587.5 1064,-587.5 1139,-587.5 1139,-587.5 1145,-587.5 1151,-593.5 1151,-599.5 1151,-599.5 1151,-643.5 1151,-643.5 1151,-649.5 1145,-655.5 1139,-655.5\"/>\n<text text-anchor=\"middle\" x=\"1101.5\" y=\"-640.3\" font-family=\"Helvetica,sans-Serif\" font-size=\"14.00\" fill=\"#000000\">gini = 0.0</text>\n<text text-anchor=\"middle\" x=\"1101.5\" y=\"-625.3\" font-family=\"Helvetica,sans-Serif\" font-size=\"14.00\" fill=\"#000000\">samples = 1</text>\n<text text-anchor=\"middle\" x=\"1101.5\" y=\"-610.3\" font-family=\"Helvetica,sans-Serif\" font-size=\"14.00\" fill=\"#000000\">value = [1, 0]</text>\n<text text-anchor=\"middle\" x=\"1101.5\" y=\"-595.3\" font-family=\"Helvetica,sans-Serif\" font-size=\"14.00\" fill=\"#000000\">class = 0</text>\n</g>\n<!-- 30&#45;&gt;32 -->\n<g id=\"edge32\" class=\"edge\">\n<title>30&#45;&gt;32</title>\n<path fill=\"none\" stroke=\"#000000\" d=\"M1101.5,-698.8796C1101.5,-688.2134 1101.5,-676.7021 1101.5,-665.9015\"/>\n<polygon fill=\"#000000\" stroke=\"#000000\" points=\"1105.0001,-665.8149 1101.5,-655.8149 1098.0001,-665.815 1105.0001,-665.8149\"/>\n</g>\n<!-- 34 -->\n<g id=\"node35\" class=\"node\">\n<title>34</title>\n<path fill=\"#eb9d65\" stroke=\"#000000\" d=\"M1274,-663C1274,-663 1181,-663 1181,-663 1175,-663 1169,-657 1169,-651 1169,-651 1169,-592 1169,-592 1169,-586 1175,-580 1181,-580 1181,-580 1274,-580 1274,-580 1280,-580 1286,-586 1286,-592 1286,-592 1286,-651 1286,-651 1286,-657 1280,-663 1274,-663\"/>\n<text text-anchor=\"middle\" x=\"1227.5\" y=\"-647.8\" font-family=\"Helvetica,sans-Serif\" font-size=\"14.00\" fill=\"#000000\">Income &lt;= 82.5</text>\n<text text-anchor=\"middle\" x=\"1227.5\" y=\"-632.8\" font-family=\"Helvetica,sans-Serif\" font-size=\"14.00\" fill=\"#000000\">gini = 0.298</text>\n<text text-anchor=\"middle\" x=\"1227.5\" y=\"-617.8\" font-family=\"Helvetica,sans-Serif\" font-size=\"14.00\" fill=\"#000000\">samples = 44</text>\n<text text-anchor=\"middle\" x=\"1227.5\" y=\"-602.8\" font-family=\"Helvetica,sans-Serif\" font-size=\"14.00\" fill=\"#000000\">value = [36, 8]</text>\n<text text-anchor=\"middle\" x=\"1227.5\" y=\"-587.8\" font-family=\"Helvetica,sans-Serif\" font-size=\"14.00\" fill=\"#000000\">class = 0</text>\n</g>\n<!-- 33&#45;&gt;34 -->\n<g id=\"edge34\" class=\"edge\">\n<title>33&#45;&gt;34</title>\n<path fill=\"none\" stroke=\"#000000\" d=\"M1274.3179,-698.8796C1269.0867,-690.2335 1263.5195,-681.0322 1258.1177,-672.1042\"/>\n<polygon fill=\"#000000\" stroke=\"#000000\" points=\"1260.9608,-670.0421 1252.7896,-663.2981 1254.9717,-673.6658 1260.9608,-670.0421\"/>\n</g>\n<!-- 49 -->\n<g id=\"node50\" class=\"node\">\n<title>49</title>\n<path fill=\"#e6843e\" stroke=\"#000000\" d=\"M1400.5,-663C1400.5,-663 1316.5,-663 1316.5,-663 1310.5,-663 1304.5,-657 1304.5,-651 1304.5,-651 1304.5,-592 1304.5,-592 1304.5,-586 1310.5,-580 1316.5,-580 1316.5,-580 1400.5,-580 1400.5,-580 1406.5,-580 1412.5,-586 1412.5,-592 1412.5,-592 1412.5,-651 1412.5,-651 1412.5,-657 1406.5,-663 1400.5,-663\"/>\n<text text-anchor=\"middle\" x=\"1358.5\" y=\"-647.8\" font-family=\"Helvetica,sans-Serif\" font-size=\"14.00\" fill=\"#000000\">Area &lt;= 946.5</text>\n<text text-anchor=\"middle\" x=\"1358.5\" y=\"-632.8\" font-family=\"Helvetica,sans-Serif\" font-size=\"14.00\" fill=\"#000000\">gini = 0.048</text>\n<text text-anchor=\"middle\" x=\"1358.5\" y=\"-617.8\" font-family=\"Helvetica,sans-Serif\" font-size=\"14.00\" fill=\"#000000\">samples = 82</text>\n<text text-anchor=\"middle\" x=\"1358.5\" y=\"-602.8\" font-family=\"Helvetica,sans-Serif\" font-size=\"14.00\" fill=\"#000000\">value = [80, 2]</text>\n<text text-anchor=\"middle\" x=\"1358.5\" y=\"-587.8\" font-family=\"Helvetica,sans-Serif\" font-size=\"14.00\" fill=\"#000000\">class = 0</text>\n</g>\n<!-- 33&#45;&gt;49 -->\n<g id=\"edge49\" class=\"edge\">\n<title>33&#45;&gt;49</title>\n<path fill=\"none\" stroke=\"#000000\" d=\"M1320.1353,-698.8796C1324.3774,-690.3236 1328.889,-681.2238 1333.2721,-672.3833\"/>\n<polygon fill=\"#000000\" stroke=\"#000000\" points=\"1336.4703,-673.8121 1337.7766,-663.2981 1330.1988,-670.7026 1336.4703,-673.8121\"/>\n</g>\n<!-- 35 -->\n<g id=\"node36\" class=\"node\">\n<title>35</title>\n<path fill=\"#e88e4d\" stroke=\"#000000\" d=\"M1089,-544C1089,-544 974,-544 974,-544 968,-544 962,-538 962,-532 962,-532 962,-473 962,-473 962,-467 968,-461 974,-461 974,-461 1089,-461 1089,-461 1095,-461 1101,-467 1101,-473 1101,-473 1101,-532 1101,-532 1101,-538 1095,-544 1089,-544\"/>\n<text text-anchor=\"middle\" x=\"1031.5\" y=\"-528.8\" font-family=\"Helvetica,sans-Serif\" font-size=\"14.00\" fill=\"#000000\">Mortgage &lt;= 204.5</text>\n<text text-anchor=\"middle\" x=\"1031.5\" y=\"-513.8\" font-family=\"Helvetica,sans-Serif\" font-size=\"14.00\" fill=\"#000000\">gini = 0.165</text>\n<text text-anchor=\"middle\" x=\"1031.5\" y=\"-498.8\" font-family=\"Helvetica,sans-Serif\" font-size=\"14.00\" fill=\"#000000\">samples = 33</text>\n<text text-anchor=\"middle\" x=\"1031.5\" y=\"-483.8\" font-family=\"Helvetica,sans-Serif\" font-size=\"14.00\" fill=\"#000000\">value = [30, 3]</text>\n<text text-anchor=\"middle\" x=\"1031.5\" y=\"-468.8\" font-family=\"Helvetica,sans-Serif\" font-size=\"14.00\" fill=\"#000000\">class = 0</text>\n</g>\n<!-- 34&#45;&gt;35 -->\n<g id=\"edge35\" class=\"edge\">\n<title>34&#45;&gt;35</title>\n<path fill=\"none\" stroke=\"#000000\" d=\"M1168.9026,-585.7204C1165.7227,-583.7844 1162.5727,-581.8679 1159.5,-580 1143.1486,-570.0603 1125.6096,-559.4243 1108.9202,-549.3155\"/>\n<polygon fill=\"#000000\" stroke=\"#000000\" points=\"1110.6478,-546.27 1100.281,-544.0839 1107.0218,-552.2577 1110.6478,-546.27\"/>\n</g>\n<!-- 42 -->\n<g id=\"node43\" class=\"node\">\n<title>42</title>\n<path fill=\"#fbeade\" stroke=\"#000000\" d=\"M1269.5,-544C1269.5,-544 1185.5,-544 1185.5,-544 1179.5,-544 1173.5,-538 1173.5,-532 1173.5,-532 1173.5,-473 1173.5,-473 1173.5,-467 1179.5,-461 1185.5,-461 1185.5,-461 1269.5,-461 1269.5,-461 1275.5,-461 1281.5,-467 1281.5,-473 1281.5,-473 1281.5,-532 1281.5,-532 1281.5,-538 1275.5,-544 1269.5,-544\"/>\n<text text-anchor=\"middle\" x=\"1227.5\" y=\"-528.8\" font-family=\"Helvetica,sans-Serif\" font-size=\"14.00\" fill=\"#000000\">Area &lt;= 943.0</text>\n<text text-anchor=\"middle\" x=\"1227.5\" y=\"-513.8\" font-family=\"Helvetica,sans-Serif\" font-size=\"14.00\" fill=\"#000000\">gini = 0.496</text>\n<text text-anchor=\"middle\" x=\"1227.5\" y=\"-498.8\" font-family=\"Helvetica,sans-Serif\" font-size=\"14.00\" fill=\"#000000\">samples = 11</text>\n<text text-anchor=\"middle\" x=\"1227.5\" y=\"-483.8\" font-family=\"Helvetica,sans-Serif\" font-size=\"14.00\" fill=\"#000000\">value = [6, 5]</text>\n<text text-anchor=\"middle\" x=\"1227.5\" y=\"-468.8\" font-family=\"Helvetica,sans-Serif\" font-size=\"14.00\" fill=\"#000000\">class = 0</text>\n</g>\n<!-- 34&#45;&gt;42 -->\n<g id=\"edge42\" class=\"edge\">\n<title>34&#45;&gt;42</title>\n<path fill=\"none\" stroke=\"#000000\" d=\"M1227.5,-579.8796C1227.5,-571.6838 1227.5,-562.9891 1227.5,-554.5013\"/>\n<polygon fill=\"#000000\" stroke=\"#000000\" points=\"1231.0001,-554.298 1227.5,-544.2981 1224.0001,-554.2981 1231.0001,-554.298\"/>\n</g>\n<!-- 36 -->\n<g id=\"node37\" class=\"node\">\n<title>36</title>\n<path fill=\"#e78a47\" stroke=\"#000000\" d=\"M951,-425C951,-425 868,-425 868,-425 862,-425 856,-419 856,-413 856,-413 856,-354 856,-354 856,-348 862,-342 868,-342 868,-342 951,-342 951,-342 957,-342 963,-348 963,-354 963,-354 963,-413 963,-413 963,-419 957,-425 951,-425\"/>\n<text text-anchor=\"middle\" x=\"909.5\" y=\"-409.8\" font-family=\"Helvetica,sans-Serif\" font-size=\"14.00\" fill=\"#000000\">Age &lt;= 37.5</text>\n<text text-anchor=\"middle\" x=\"909.5\" y=\"-394.8\" font-family=\"Helvetica,sans-Serif\" font-size=\"14.00\" fill=\"#000000\">gini = 0.121</text>\n<text text-anchor=\"middle\" x=\"909.5\" y=\"-379.8\" font-family=\"Helvetica,sans-Serif\" font-size=\"14.00\" fill=\"#000000\">samples = 31</text>\n<text text-anchor=\"middle\" x=\"909.5\" y=\"-364.8\" font-family=\"Helvetica,sans-Serif\" font-size=\"14.00\" fill=\"#000000\">value = [29, 2]</text>\n<text text-anchor=\"middle\" x=\"909.5\" y=\"-349.8\" font-family=\"Helvetica,sans-Serif\" font-size=\"14.00\" fill=\"#000000\">class = 0</text>\n</g>\n<!-- 35&#45;&gt;36 -->\n<g id=\"edge36\" class=\"edge\">\n<title>35&#45;&gt;36</title>\n<path fill=\"none\" stroke=\"#000000\" d=\"M988.8303,-460.8796C979.4123,-451.6931 969.3516,-441.8798 959.6672,-432.4336\"/>\n<polygon fill=\"#000000\" stroke=\"#000000\" points=\"961.9543,-429.7751 952.3518,-425.2981 957.0665,-434.7861 961.9543,-429.7751\"/>\n</g>\n<!-- 41 -->\n<g id=\"node42\" class=\"node\">\n<title>41</title>\n<path fill=\"#ffffff\" stroke=\"#000000\" d=\"M1068,-417.5C1068,-417.5 993,-417.5 993,-417.5 987,-417.5 981,-411.5 981,-405.5 981,-405.5 981,-361.5 981,-361.5 981,-355.5 987,-349.5 993,-349.5 993,-349.5 1068,-349.5 1068,-349.5 1074,-349.5 1080,-355.5 1080,-361.5 1080,-361.5 1080,-405.5 1080,-405.5 1080,-411.5 1074,-417.5 1068,-417.5\"/>\n<text text-anchor=\"middle\" x=\"1030.5\" y=\"-402.3\" font-family=\"Helvetica,sans-Serif\" font-size=\"14.00\" fill=\"#000000\">gini = 0.5</text>\n<text text-anchor=\"middle\" x=\"1030.5\" y=\"-387.3\" font-family=\"Helvetica,sans-Serif\" font-size=\"14.00\" fill=\"#000000\">samples = 2</text>\n<text text-anchor=\"middle\" x=\"1030.5\" y=\"-372.3\" font-family=\"Helvetica,sans-Serif\" font-size=\"14.00\" fill=\"#000000\">value = [1, 1]</text>\n<text text-anchor=\"middle\" x=\"1030.5\" y=\"-357.3\" font-family=\"Helvetica,sans-Serif\" font-size=\"14.00\" fill=\"#000000\">class = 0</text>\n</g>\n<!-- 35&#45;&gt;41 -->\n<g id=\"edge41\" class=\"edge\">\n<title>35&#45;&gt;41</title>\n<path fill=\"none\" stroke=\"#000000\" d=\"M1031.1502,-460.8796C1031.0606,-450.2134 1030.9639,-438.7021 1030.8731,-427.9015\"/>\n<polygon fill=\"#000000\" stroke=\"#000000\" points=\"1034.3724,-427.7851 1030.7884,-417.8149 1027.3726,-427.844 1034.3724,-427.7851\"/>\n</g>\n<!-- 37 -->\n<g id=\"node38\" class=\"node\">\n<title>37</title>\n<path fill=\"#efb388\" stroke=\"#000000\" d=\"M825.5,-306C825.5,-306 723.5,-306 723.5,-306 717.5,-306 711.5,-300 711.5,-294 711.5,-294 711.5,-235 711.5,-235 711.5,-229 717.5,-223 723.5,-223 723.5,-223 825.5,-223 825.5,-223 831.5,-223 837.5,-229 837.5,-235 837.5,-235 837.5,-294 837.5,-294 837.5,-300 831.5,-306 825.5,-306\"/>\n<text text-anchor=\"middle\" x=\"774.5\" y=\"-290.8\" font-family=\"Helvetica,sans-Serif\" font-size=\"14.00\" fill=\"#000000\">Education &lt;= 1.5</text>\n<text text-anchor=\"middle\" x=\"774.5\" y=\"-275.8\" font-family=\"Helvetica,sans-Serif\" font-size=\"14.00\" fill=\"#000000\">gini = 0.408</text>\n<text text-anchor=\"middle\" x=\"774.5\" y=\"-260.8\" font-family=\"Helvetica,sans-Serif\" font-size=\"14.00\" fill=\"#000000\">samples = 7</text>\n<text text-anchor=\"middle\" x=\"774.5\" y=\"-245.8\" font-family=\"Helvetica,sans-Serif\" font-size=\"14.00\" fill=\"#000000\">value = [5, 2]</text>\n<text text-anchor=\"middle\" x=\"774.5\" y=\"-230.8\" font-family=\"Helvetica,sans-Serif\" font-size=\"14.00\" fill=\"#000000\">class = 0</text>\n</g>\n<!-- 36&#45;&gt;37 -->\n<g id=\"edge37\" class=\"edge\">\n<title>36&#45;&gt;37</title>\n<path fill=\"none\" stroke=\"#000000\" d=\"M862.2836,-341.8796C851.7598,-332.6031 840.5109,-322.6874 829.6979,-313.1559\"/>\n<polygon fill=\"#000000\" stroke=\"#000000\" points=\"831.734,-310.2851 821.918,-306.2981 827.1052,-315.5362 831.734,-310.2851\"/>\n</g>\n<!-- 40 -->\n<g id=\"node41\" class=\"node\">\n<title>40</title>\n<path fill=\"#e58139\" stroke=\"#000000\" d=\"M951,-298.5C951,-298.5 868,-298.5 868,-298.5 862,-298.5 856,-292.5 856,-286.5 856,-286.5 856,-242.5 856,-242.5 856,-236.5 862,-230.5 868,-230.5 868,-230.5 951,-230.5 951,-230.5 957,-230.5 963,-236.5 963,-242.5 963,-242.5 963,-286.5 963,-286.5 963,-292.5 957,-298.5 951,-298.5\"/>\n<text text-anchor=\"middle\" x=\"909.5\" y=\"-283.3\" font-family=\"Helvetica,sans-Serif\" font-size=\"14.00\" fill=\"#000000\">gini = 0.0</text>\n<text text-anchor=\"middle\" x=\"909.5\" y=\"-268.3\" font-family=\"Helvetica,sans-Serif\" font-size=\"14.00\" fill=\"#000000\">samples = 24</text>\n<text text-anchor=\"middle\" x=\"909.5\" y=\"-253.3\" font-family=\"Helvetica,sans-Serif\" font-size=\"14.00\" fill=\"#000000\">value = [24, 0]</text>\n<text text-anchor=\"middle\" x=\"909.5\" y=\"-238.3\" font-family=\"Helvetica,sans-Serif\" font-size=\"14.00\" fill=\"#000000\">class = 0</text>\n</g>\n<!-- 36&#45;&gt;40 -->\n<g id=\"edge40\" class=\"edge\">\n<title>36&#45;&gt;40</title>\n<path fill=\"none\" stroke=\"#000000\" d=\"M909.5,-341.8796C909.5,-331.2134 909.5,-319.7021 909.5,-308.9015\"/>\n<polygon fill=\"#000000\" stroke=\"#000000\" points=\"913.0001,-308.8149 909.5,-298.8149 906.0001,-308.815 913.0001,-308.8149\"/>\n</g>\n<!-- 38 -->\n<g id=\"node39\" class=\"node\">\n<title>38</title>\n<path fill=\"#e58139\" stroke=\"#000000\" d=\"M754,-179.5C754,-179.5 679,-179.5 679,-179.5 673,-179.5 667,-173.5 667,-167.5 667,-167.5 667,-123.5 667,-123.5 667,-117.5 673,-111.5 679,-111.5 679,-111.5 754,-111.5 754,-111.5 760,-111.5 766,-117.5 766,-123.5 766,-123.5 766,-167.5 766,-167.5 766,-173.5 760,-179.5 754,-179.5\"/>\n<text text-anchor=\"middle\" x=\"716.5\" y=\"-164.3\" font-family=\"Helvetica,sans-Serif\" font-size=\"14.00\" fill=\"#000000\">gini = 0.0</text>\n<text text-anchor=\"middle\" x=\"716.5\" y=\"-149.3\" font-family=\"Helvetica,sans-Serif\" font-size=\"14.00\" fill=\"#000000\">samples = 5</text>\n<text text-anchor=\"middle\" x=\"716.5\" y=\"-134.3\" font-family=\"Helvetica,sans-Serif\" font-size=\"14.00\" fill=\"#000000\">value = [5, 0]</text>\n<text text-anchor=\"middle\" x=\"716.5\" y=\"-119.3\" font-family=\"Helvetica,sans-Serif\" font-size=\"14.00\" fill=\"#000000\">class = 0</text>\n</g>\n<!-- 37&#45;&gt;38 -->\n<g id=\"edge38\" class=\"edge\">\n<title>37&#45;&gt;38</title>\n<path fill=\"none\" stroke=\"#000000\" d=\"M754.2144,-222.8796C748.855,-211.8835 743.0578,-199.9893 737.6537,-188.9015\"/>\n<polygon fill=\"#000000\" stroke=\"#000000\" points=\"740.7524,-187.2706 733.2249,-179.8149 734.46,-190.3375 740.7524,-187.2706\"/>\n</g>\n<!-- 39 -->\n<g id=\"node40\" class=\"node\">\n<title>39</title>\n<path fill=\"#399de5\" stroke=\"#000000\" d=\"M871,-179.5C871,-179.5 796,-179.5 796,-179.5 790,-179.5 784,-173.5 784,-167.5 784,-167.5 784,-123.5 784,-123.5 784,-117.5 790,-111.5 796,-111.5 796,-111.5 871,-111.5 871,-111.5 877,-111.5 883,-117.5 883,-123.5 883,-123.5 883,-167.5 883,-167.5 883,-173.5 877,-179.5 871,-179.5\"/>\n<text text-anchor=\"middle\" x=\"833.5\" y=\"-164.3\" font-family=\"Helvetica,sans-Serif\" font-size=\"14.00\" fill=\"#000000\">gini = 0.0</text>\n<text text-anchor=\"middle\" x=\"833.5\" y=\"-149.3\" font-family=\"Helvetica,sans-Serif\" font-size=\"14.00\" fill=\"#000000\">samples = 2</text>\n<text text-anchor=\"middle\" x=\"833.5\" y=\"-134.3\" font-family=\"Helvetica,sans-Serif\" font-size=\"14.00\" fill=\"#000000\">value = [0, 2]</text>\n<text text-anchor=\"middle\" x=\"833.5\" y=\"-119.3\" font-family=\"Helvetica,sans-Serif\" font-size=\"14.00\" fill=\"#000000\">class = 1</text>\n</g>\n<!-- 37&#45;&gt;39 -->\n<g id=\"edge39\" class=\"edge\">\n<title>37&#45;&gt;39</title>\n<path fill=\"none\" stroke=\"#000000\" d=\"M795.1353,-222.8796C800.5872,-211.8835 806.4843,-199.9893 811.9816,-188.9015\"/>\n<polygon fill=\"#000000\" stroke=\"#000000\" points=\"815.1804,-190.3289 816.4867,-179.8149 808.9089,-187.2195 815.1804,-190.3289\"/>\n</g>\n<!-- 43 -->\n<g id=\"node44\" class=\"node\">\n<title>43</title>\n<path fill=\"#9ccef2\" stroke=\"#000000\" d=\"M1185,-425C1185,-425 1110,-425 1110,-425 1104,-425 1098,-419 1098,-413 1098,-413 1098,-354 1098,-354 1098,-348 1104,-342 1110,-342 1110,-342 1185,-342 1185,-342 1191,-342 1197,-348 1197,-354 1197,-354 1197,-413 1197,-413 1197,-419 1191,-425 1185,-425\"/>\n<text text-anchor=\"middle\" x=\"1147.5\" y=\"-409.8\" font-family=\"Helvetica,sans-Serif\" font-size=\"14.00\" fill=\"#000000\">Age &lt;= 41.5</text>\n<text text-anchor=\"middle\" x=\"1147.5\" y=\"-394.8\" font-family=\"Helvetica,sans-Serif\" font-size=\"14.00\" fill=\"#000000\">gini = 0.444</text>\n<text text-anchor=\"middle\" x=\"1147.5\" y=\"-379.8\" font-family=\"Helvetica,sans-Serif\" font-size=\"14.00\" fill=\"#000000\">samples = 6</text>\n<text text-anchor=\"middle\" x=\"1147.5\" y=\"-364.8\" font-family=\"Helvetica,sans-Serif\" font-size=\"14.00\" fill=\"#000000\">value = [2, 4]</text>\n<text text-anchor=\"middle\" x=\"1147.5\" y=\"-349.8\" font-family=\"Helvetica,sans-Serif\" font-size=\"14.00\" fill=\"#000000\">class = 1</text>\n</g>\n<!-- 42&#45;&gt;43 -->\n<g id=\"edge43\" class=\"edge\">\n<title>42&#45;&gt;43</title>\n<path fill=\"none\" stroke=\"#000000\" d=\"M1199.5199,-460.8796C1193.6469,-452.1434 1187.3927,-442.8404 1181.3321,-433.8253\"/>\n<polygon fill=\"#000000\" stroke=\"#000000\" points=\"1184.0834,-431.6444 1175.5995,-425.2981 1178.2741,-435.5498 1184.0834,-431.6444\"/>\n</g>\n<!-- 46 -->\n<g id=\"node47\" class=\"node\">\n<title>46</title>\n<path fill=\"#eca06a\" stroke=\"#000000\" d=\"M1302,-425C1302,-425 1227,-425 1227,-425 1221,-425 1215,-419 1215,-413 1215,-413 1215,-354 1215,-354 1215,-348 1221,-342 1227,-342 1227,-342 1302,-342 1302,-342 1308,-342 1314,-348 1314,-354 1314,-354 1314,-413 1314,-413 1314,-419 1308,-425 1302,-425\"/>\n<text text-anchor=\"middle\" x=\"1264.5\" y=\"-409.8\" font-family=\"Helvetica,sans-Serif\" font-size=\"14.00\" fill=\"#000000\">Age &lt;= 52.0</text>\n<text text-anchor=\"middle\" x=\"1264.5\" y=\"-394.8\" font-family=\"Helvetica,sans-Serif\" font-size=\"14.00\" fill=\"#000000\">gini = 0.32</text>\n<text text-anchor=\"middle\" x=\"1264.5\" y=\"-379.8\" font-family=\"Helvetica,sans-Serif\" font-size=\"14.00\" fill=\"#000000\">samples = 5</text>\n<text text-anchor=\"middle\" x=\"1264.5\" y=\"-364.8\" font-family=\"Helvetica,sans-Serif\" font-size=\"14.00\" fill=\"#000000\">value = [4, 1]</text>\n<text text-anchor=\"middle\" x=\"1264.5\" y=\"-349.8\" font-family=\"Helvetica,sans-Serif\" font-size=\"14.00\" fill=\"#000000\">class = 0</text>\n</g>\n<!-- 42&#45;&gt;46 -->\n<g id=\"edge46\" class=\"edge\">\n<title>42&#45;&gt;46</title>\n<path fill=\"none\" stroke=\"#000000\" d=\"M1240.4408,-460.8796C1243.0451,-452.5037 1245.8114,-443.6067 1248.5054,-434.942\"/>\n<polygon fill=\"#000000\" stroke=\"#000000\" points=\"1251.877,-435.8863 1251.504,-425.2981 1245.1927,-433.808 1251.877,-435.8863\"/>\n</g>\n<!-- 44 -->\n<g id=\"node45\" class=\"node\">\n<title>44</title>\n<path fill=\"#e58139\" stroke=\"#000000\" d=\"M1068,-298.5C1068,-298.5 993,-298.5 993,-298.5 987,-298.5 981,-292.5 981,-286.5 981,-286.5 981,-242.5 981,-242.5 981,-236.5 987,-230.5 993,-230.5 993,-230.5 1068,-230.5 1068,-230.5 1074,-230.5 1080,-236.5 1080,-242.5 1080,-242.5 1080,-286.5 1080,-286.5 1080,-292.5 1074,-298.5 1068,-298.5\"/>\n<text text-anchor=\"middle\" x=\"1030.5\" y=\"-283.3\" font-family=\"Helvetica,sans-Serif\" font-size=\"14.00\" fill=\"#000000\">gini = 0.0</text>\n<text text-anchor=\"middle\" x=\"1030.5\" y=\"-268.3\" font-family=\"Helvetica,sans-Serif\" font-size=\"14.00\" fill=\"#000000\">samples = 2</text>\n<text text-anchor=\"middle\" x=\"1030.5\" y=\"-253.3\" font-family=\"Helvetica,sans-Serif\" font-size=\"14.00\" fill=\"#000000\">value = [2, 0]</text>\n<text text-anchor=\"middle\" x=\"1030.5\" y=\"-238.3\" font-family=\"Helvetica,sans-Serif\" font-size=\"14.00\" fill=\"#000000\">class = 0</text>\n</g>\n<!-- 43&#45;&gt;44 -->\n<g id=\"edge44\" class=\"edge\">\n<title>43&#45;&gt;44</title>\n<path fill=\"none\" stroke=\"#000000\" d=\"M1106.5791,-341.8796C1095.2272,-330.3337 1082.9018,-317.7976 1071.543,-306.2446\"/>\n<polygon fill=\"#000000\" stroke=\"#000000\" points=\"1073.7449,-303.4919 1064.2382,-298.8149 1068.7534,-308.3995 1073.7449,-303.4919\"/>\n</g>\n<!-- 45 -->\n<g id=\"node46\" class=\"node\">\n<title>45</title>\n<path fill=\"#399de5\" stroke=\"#000000\" d=\"M1185,-298.5C1185,-298.5 1110,-298.5 1110,-298.5 1104,-298.5 1098,-292.5 1098,-286.5 1098,-286.5 1098,-242.5 1098,-242.5 1098,-236.5 1104,-230.5 1110,-230.5 1110,-230.5 1185,-230.5 1185,-230.5 1191,-230.5 1197,-236.5 1197,-242.5 1197,-242.5 1197,-286.5 1197,-286.5 1197,-292.5 1191,-298.5 1185,-298.5\"/>\n<text text-anchor=\"middle\" x=\"1147.5\" y=\"-283.3\" font-family=\"Helvetica,sans-Serif\" font-size=\"14.00\" fill=\"#000000\">gini = 0.0</text>\n<text text-anchor=\"middle\" x=\"1147.5\" y=\"-268.3\" font-family=\"Helvetica,sans-Serif\" font-size=\"14.00\" fill=\"#000000\">samples = 4</text>\n<text text-anchor=\"middle\" x=\"1147.5\" y=\"-253.3\" font-family=\"Helvetica,sans-Serif\" font-size=\"14.00\" fill=\"#000000\">value = [0, 4]</text>\n<text text-anchor=\"middle\" x=\"1147.5\" y=\"-238.3\" font-family=\"Helvetica,sans-Serif\" font-size=\"14.00\" fill=\"#000000\">class = 1</text>\n</g>\n<!-- 43&#45;&gt;45 -->\n<g id=\"edge45\" class=\"edge\">\n<title>43&#45;&gt;45</title>\n<path fill=\"none\" stroke=\"#000000\" d=\"M1147.5,-341.8796C1147.5,-331.2134 1147.5,-319.7021 1147.5,-308.9015\"/>\n<polygon fill=\"#000000\" stroke=\"#000000\" points=\"1151.0001,-308.8149 1147.5,-298.8149 1144.0001,-308.815 1151.0001,-308.8149\"/>\n</g>\n<!-- 47 -->\n<g id=\"node48\" class=\"node\">\n<title>47</title>\n<path fill=\"#399de5\" stroke=\"#000000\" d=\"M1302,-298.5C1302,-298.5 1227,-298.5 1227,-298.5 1221,-298.5 1215,-292.5 1215,-286.5 1215,-286.5 1215,-242.5 1215,-242.5 1215,-236.5 1221,-230.5 1227,-230.5 1227,-230.5 1302,-230.5 1302,-230.5 1308,-230.5 1314,-236.5 1314,-242.5 1314,-242.5 1314,-286.5 1314,-286.5 1314,-292.5 1308,-298.5 1302,-298.5\"/>\n<text text-anchor=\"middle\" x=\"1264.5\" y=\"-283.3\" font-family=\"Helvetica,sans-Serif\" font-size=\"14.00\" fill=\"#000000\">gini = 0.0</text>\n<text text-anchor=\"middle\" x=\"1264.5\" y=\"-268.3\" font-family=\"Helvetica,sans-Serif\" font-size=\"14.00\" fill=\"#000000\">samples = 1</text>\n<text text-anchor=\"middle\" x=\"1264.5\" y=\"-253.3\" font-family=\"Helvetica,sans-Serif\" font-size=\"14.00\" fill=\"#000000\">value = [0, 1]</text>\n<text text-anchor=\"middle\" x=\"1264.5\" y=\"-238.3\" font-family=\"Helvetica,sans-Serif\" font-size=\"14.00\" fill=\"#000000\">class = 1</text>\n</g>\n<!-- 46&#45;&gt;47 -->\n<g id=\"edge47\" class=\"edge\">\n<title>46&#45;&gt;47</title>\n<path fill=\"none\" stroke=\"#000000\" d=\"M1264.5,-341.8796C1264.5,-331.2134 1264.5,-319.7021 1264.5,-308.9015\"/>\n<polygon fill=\"#000000\" stroke=\"#000000\" points=\"1268.0001,-308.8149 1264.5,-298.8149 1261.0001,-308.815 1268.0001,-308.8149\"/>\n</g>\n<!-- 48 -->\n<g id=\"node49\" class=\"node\">\n<title>48</title>\n<path fill=\"#e58139\" stroke=\"#000000\" d=\"M1419,-298.5C1419,-298.5 1344,-298.5 1344,-298.5 1338,-298.5 1332,-292.5 1332,-286.5 1332,-286.5 1332,-242.5 1332,-242.5 1332,-236.5 1338,-230.5 1344,-230.5 1344,-230.5 1419,-230.5 1419,-230.5 1425,-230.5 1431,-236.5 1431,-242.5 1431,-242.5 1431,-286.5 1431,-286.5 1431,-292.5 1425,-298.5 1419,-298.5\"/>\n<text text-anchor=\"middle\" x=\"1381.5\" y=\"-283.3\" font-family=\"Helvetica,sans-Serif\" font-size=\"14.00\" fill=\"#000000\">gini = 0.0</text>\n<text text-anchor=\"middle\" x=\"1381.5\" y=\"-268.3\" font-family=\"Helvetica,sans-Serif\" font-size=\"14.00\" fill=\"#000000\">samples = 4</text>\n<text text-anchor=\"middle\" x=\"1381.5\" y=\"-253.3\" font-family=\"Helvetica,sans-Serif\" font-size=\"14.00\" fill=\"#000000\">value = [4, 0]</text>\n<text text-anchor=\"middle\" x=\"1381.5\" y=\"-238.3\" font-family=\"Helvetica,sans-Serif\" font-size=\"14.00\" fill=\"#000000\">class = 0</text>\n</g>\n<!-- 46&#45;&gt;48 -->\n<g id=\"edge48\" class=\"edge\">\n<title>46&#45;&gt;48</title>\n<path fill=\"none\" stroke=\"#000000\" d=\"M1305.4209,-341.8796C1316.7728,-330.3337 1329.0982,-317.7976 1340.457,-306.2446\"/>\n<polygon fill=\"#000000\" stroke=\"#000000\" points=\"1343.2466,-308.3995 1347.7618,-298.8149 1338.2551,-303.4919 1343.2466,-308.3995\"/>\n</g>\n<!-- 50 -->\n<g id=\"node51\" class=\"node\">\n<title>50</title>\n<path fill=\"#e58139\" stroke=\"#000000\" d=\"M1397,-536.5C1397,-536.5 1314,-536.5 1314,-536.5 1308,-536.5 1302,-530.5 1302,-524.5 1302,-524.5 1302,-480.5 1302,-480.5 1302,-474.5 1308,-468.5 1314,-468.5 1314,-468.5 1397,-468.5 1397,-468.5 1403,-468.5 1409,-474.5 1409,-480.5 1409,-480.5 1409,-524.5 1409,-524.5 1409,-530.5 1403,-536.5 1397,-536.5\"/>\n<text text-anchor=\"middle\" x=\"1355.5\" y=\"-521.3\" font-family=\"Helvetica,sans-Serif\" font-size=\"14.00\" fill=\"#000000\">gini = 0.0</text>\n<text text-anchor=\"middle\" x=\"1355.5\" y=\"-506.3\" font-family=\"Helvetica,sans-Serif\" font-size=\"14.00\" fill=\"#000000\">samples = 58</text>\n<text text-anchor=\"middle\" x=\"1355.5\" y=\"-491.3\" font-family=\"Helvetica,sans-Serif\" font-size=\"14.00\" fill=\"#000000\">value = [58, 0]</text>\n<text text-anchor=\"middle\" x=\"1355.5\" y=\"-476.3\" font-family=\"Helvetica,sans-Serif\" font-size=\"14.00\" fill=\"#000000\">class = 0</text>\n</g>\n<!-- 49&#45;&gt;50 -->\n<g id=\"edge50\" class=\"edge\">\n<title>49&#45;&gt;50</title>\n<path fill=\"none\" stroke=\"#000000\" d=\"M1357.4507,-579.8796C1357.1818,-569.2134 1356.8916,-557.7021 1356.6194,-546.9015\"/>\n<polygon fill=\"#000000\" stroke=\"#000000\" points=\"1360.1161,-546.7235 1356.3651,-536.8149 1353.1183,-546.9 1360.1161,-546.7235\"/>\n</g>\n<!-- 51 -->\n<g id=\"node52\" class=\"node\">\n<title>51</title>\n<path fill=\"#e78c4b\" stroke=\"#000000\" d=\"M1531.5,-544C1531.5,-544 1439.5,-544 1439.5,-544 1433.5,-544 1427.5,-538 1427.5,-532 1427.5,-532 1427.5,-473 1427.5,-473 1427.5,-467 1433.5,-461 1439.5,-461 1439.5,-461 1531.5,-461 1531.5,-461 1537.5,-461 1543.5,-467 1543.5,-473 1543.5,-473 1543.5,-532 1543.5,-532 1543.5,-538 1537.5,-544 1531.5,-544\"/>\n<text text-anchor=\"middle\" x=\"1485.5\" y=\"-528.8\" font-family=\"Helvetica,sans-Serif\" font-size=\"14.00\" fill=\"#000000\">CCAvg &lt;= 3.75</text>\n<text text-anchor=\"middle\" x=\"1485.5\" y=\"-513.8\" font-family=\"Helvetica,sans-Serif\" font-size=\"14.00\" fill=\"#000000\">gini = 0.153</text>\n<text text-anchor=\"middle\" x=\"1485.5\" y=\"-498.8\" font-family=\"Helvetica,sans-Serif\" font-size=\"14.00\" fill=\"#000000\">samples = 24</text>\n<text text-anchor=\"middle\" x=\"1485.5\" y=\"-483.8\" font-family=\"Helvetica,sans-Serif\" font-size=\"14.00\" fill=\"#000000\">value = [22, 2]</text>\n<text text-anchor=\"middle\" x=\"1485.5\" y=\"-468.8\" font-family=\"Helvetica,sans-Serif\" font-size=\"14.00\" fill=\"#000000\">class = 0</text>\n</g>\n<!-- 49&#45;&gt;51 -->\n<g id=\"edge51\" class=\"edge\">\n<title>49&#45;&gt;51</title>\n<path fill=\"none\" stroke=\"#000000\" d=\"M1402.9184,-579.8796C1412.8186,-570.6031 1423.4009,-560.6874 1433.5731,-551.1559\"/>\n<polygon fill=\"#000000\" stroke=\"#000000\" points=\"1435.9879,-553.6896 1440.892,-544.2981 1431.2016,-548.5816 1435.9879,-553.6896\"/>\n</g>\n<!-- 52 -->\n<g id=\"node53\" class=\"node\">\n<title>52</title>\n<path fill=\"#f2c09c\" stroke=\"#000000\" d=\"M1487,-425C1487,-425 1380,-425 1380,-425 1374,-425 1368,-419 1368,-413 1368,-413 1368,-354 1368,-354 1368,-348 1374,-342 1380,-342 1380,-342 1487,-342 1487,-342 1493,-342 1499,-348 1499,-354 1499,-354 1499,-413 1499,-413 1499,-419 1493,-425 1487,-425\"/>\n<text text-anchor=\"middle\" x=\"1433.5\" y=\"-409.8\" font-family=\"Helvetica,sans-Serif\" font-size=\"14.00\" fill=\"#000000\">Mortgage &lt;= 67.0</text>\n<text text-anchor=\"middle\" x=\"1433.5\" y=\"-394.8\" font-family=\"Helvetica,sans-Serif\" font-size=\"14.00\" fill=\"#000000\">gini = 0.444</text>\n<text text-anchor=\"middle\" x=\"1433.5\" y=\"-379.8\" font-family=\"Helvetica,sans-Serif\" font-size=\"14.00\" fill=\"#000000\">samples = 6</text>\n<text text-anchor=\"middle\" x=\"1433.5\" y=\"-364.8\" font-family=\"Helvetica,sans-Serif\" font-size=\"14.00\" fill=\"#000000\">value = [4, 2]</text>\n<text text-anchor=\"middle\" x=\"1433.5\" y=\"-349.8\" font-family=\"Helvetica,sans-Serif\" font-size=\"14.00\" fill=\"#000000\">class = 0</text>\n</g>\n<!-- 51&#45;&gt;52 -->\n<g id=\"edge52\" class=\"edge\">\n<title>51&#45;&gt;52</title>\n<path fill=\"none\" stroke=\"#000000\" d=\"M1467.3129,-460.8796C1463.6135,-452.4136 1459.6815,-443.4153 1455.8567,-434.6626\"/>\n<polygon fill=\"#000000\" stroke=\"#000000\" points=\"1458.9761,-433.0599 1451.7647,-425.2981 1452.5617,-435.8629 1458.9761,-433.0599\"/>\n</g>\n<!-- 57 -->\n<g id=\"node58\" class=\"node\">\n<title>57</title>\n<path fill=\"#e58139\" stroke=\"#000000\" d=\"M1612,-417.5C1612,-417.5 1529,-417.5 1529,-417.5 1523,-417.5 1517,-411.5 1517,-405.5 1517,-405.5 1517,-361.5 1517,-361.5 1517,-355.5 1523,-349.5 1529,-349.5 1529,-349.5 1612,-349.5 1612,-349.5 1618,-349.5 1624,-355.5 1624,-361.5 1624,-361.5 1624,-405.5 1624,-405.5 1624,-411.5 1618,-417.5 1612,-417.5\"/>\n<text text-anchor=\"middle\" x=\"1570.5\" y=\"-402.3\" font-family=\"Helvetica,sans-Serif\" font-size=\"14.00\" fill=\"#000000\">gini = 0.0</text>\n<text text-anchor=\"middle\" x=\"1570.5\" y=\"-387.3\" font-family=\"Helvetica,sans-Serif\" font-size=\"14.00\" fill=\"#000000\">samples = 18</text>\n<text text-anchor=\"middle\" x=\"1570.5\" y=\"-372.3\" font-family=\"Helvetica,sans-Serif\" font-size=\"14.00\" fill=\"#000000\">value = [18, 0]</text>\n<text text-anchor=\"middle\" x=\"1570.5\" y=\"-357.3\" font-family=\"Helvetica,sans-Serif\" font-size=\"14.00\" fill=\"#000000\">class = 0</text>\n</g>\n<!-- 51&#45;&gt;57 -->\n<g id=\"edge57\" class=\"edge\">\n<title>51&#45;&gt;57</title>\n<path fill=\"none\" stroke=\"#000000\" d=\"M1515.2289,-460.8796C1523.2403,-449.6636 1531.9192,-437.5131 1539.9734,-426.2372\"/>\n<polygon fill=\"#000000\" stroke=\"#000000\" points=\"1543.025,-427.9866 1545.9893,-417.8149 1537.3288,-423.9179 1543.025,-427.9866\"/>\n</g>\n<!-- 53 -->\n<g id=\"node54\" class=\"node\">\n<title>53</title>\n<path fill=\"#9ccef2\" stroke=\"#000000\" d=\"M1545.5,-306C1545.5,-306 1461.5,-306 1461.5,-306 1455.5,-306 1449.5,-300 1449.5,-294 1449.5,-294 1449.5,-235 1449.5,-235 1449.5,-229 1455.5,-223 1461.5,-223 1461.5,-223 1545.5,-223 1545.5,-223 1551.5,-223 1557.5,-229 1557.5,-235 1557.5,-235 1557.5,-294 1557.5,-294 1557.5,-300 1551.5,-306 1545.5,-306\"/>\n<text text-anchor=\"middle\" x=\"1503.5\" y=\"-290.8\" font-family=\"Helvetica,sans-Serif\" font-size=\"14.00\" fill=\"#000000\">Area &lt;= 952.0</text>\n<text text-anchor=\"middle\" x=\"1503.5\" y=\"-275.8\" font-family=\"Helvetica,sans-Serif\" font-size=\"14.00\" fill=\"#000000\">gini = 0.444</text>\n<text text-anchor=\"middle\" x=\"1503.5\" y=\"-260.8\" font-family=\"Helvetica,sans-Serif\" font-size=\"14.00\" fill=\"#000000\">samples = 3</text>\n<text text-anchor=\"middle\" x=\"1503.5\" y=\"-245.8\" font-family=\"Helvetica,sans-Serif\" font-size=\"14.00\" fill=\"#000000\">value = [1, 2]</text>\n<text text-anchor=\"middle\" x=\"1503.5\" y=\"-230.8\" font-family=\"Helvetica,sans-Serif\" font-size=\"14.00\" fill=\"#000000\">class = 1</text>\n</g>\n<!-- 52&#45;&gt;53 -->\n<g id=\"edge53\" class=\"edge\">\n<title>52&#45;&gt;53</title>\n<path fill=\"none\" stroke=\"#000000\" d=\"M1457.9826,-341.8796C1463.0685,-333.2335 1468.4811,-324.0322 1473.7328,-315.1042\"/>\n<polygon fill=\"#000000\" stroke=\"#000000\" points=\"1476.8594,-316.692 1478.9129,-306.2981 1470.8259,-313.1428 1476.8594,-316.692\"/>\n</g>\n<!-- 56 -->\n<g id=\"node57\" class=\"node\">\n<title>56</title>\n<path fill=\"#e58139\" stroke=\"#000000\" d=\"M1663,-298.5C1663,-298.5 1588,-298.5 1588,-298.5 1582,-298.5 1576,-292.5 1576,-286.5 1576,-286.5 1576,-242.5 1576,-242.5 1576,-236.5 1582,-230.5 1588,-230.5 1588,-230.5 1663,-230.5 1663,-230.5 1669,-230.5 1675,-236.5 1675,-242.5 1675,-242.5 1675,-286.5 1675,-286.5 1675,-292.5 1669,-298.5 1663,-298.5\"/>\n<text text-anchor=\"middle\" x=\"1625.5\" y=\"-283.3\" font-family=\"Helvetica,sans-Serif\" font-size=\"14.00\" fill=\"#000000\">gini = 0.0</text>\n<text text-anchor=\"middle\" x=\"1625.5\" y=\"-268.3\" font-family=\"Helvetica,sans-Serif\" font-size=\"14.00\" fill=\"#000000\">samples = 3</text>\n<text text-anchor=\"middle\" x=\"1625.5\" y=\"-253.3\" font-family=\"Helvetica,sans-Serif\" font-size=\"14.00\" fill=\"#000000\">value = [3, 0]</text>\n<text text-anchor=\"middle\" x=\"1625.5\" y=\"-238.3\" font-family=\"Helvetica,sans-Serif\" font-size=\"14.00\" fill=\"#000000\">class = 0</text>\n</g>\n<!-- 52&#45;&gt;56 -->\n<g id=\"edge56\" class=\"edge\">\n<title>52&#45;&gt;56</title>\n<path fill=\"none\" stroke=\"#000000\" d=\"M1499.1111,-346.7531C1520.8029,-334.2122 1544.9048,-319.851 1566.5,-306 1567.4224,-305.4084 1568.3506,-304.8088 1569.2832,-304.2023\"/>\n<polygon fill=\"#000000\" stroke=\"#000000\" points=\"1571.3488,-307.0324 1577.7556,-298.5943 1567.485,-301.1953 1571.3488,-307.0324\"/>\n</g>\n<!-- 54 -->\n<g id=\"node55\" class=\"node\">\n<title>54</title>\n<path fill=\"#399de5\" stroke=\"#000000\" d=\"M1482,-179.5C1482,-179.5 1407,-179.5 1407,-179.5 1401,-179.5 1395,-173.5 1395,-167.5 1395,-167.5 1395,-123.5 1395,-123.5 1395,-117.5 1401,-111.5 1407,-111.5 1407,-111.5 1482,-111.5 1482,-111.5 1488,-111.5 1494,-117.5 1494,-123.5 1494,-123.5 1494,-167.5 1494,-167.5 1494,-173.5 1488,-179.5 1482,-179.5\"/>\n<text text-anchor=\"middle\" x=\"1444.5\" y=\"-164.3\" font-family=\"Helvetica,sans-Serif\" font-size=\"14.00\" fill=\"#000000\">gini = 0.0</text>\n<text text-anchor=\"middle\" x=\"1444.5\" y=\"-149.3\" font-family=\"Helvetica,sans-Serif\" font-size=\"14.00\" fill=\"#000000\">samples = 2</text>\n<text text-anchor=\"middle\" x=\"1444.5\" y=\"-134.3\" font-family=\"Helvetica,sans-Serif\" font-size=\"14.00\" fill=\"#000000\">value = [0, 2]</text>\n<text text-anchor=\"middle\" x=\"1444.5\" y=\"-119.3\" font-family=\"Helvetica,sans-Serif\" font-size=\"14.00\" fill=\"#000000\">class = 1</text>\n</g>\n<!-- 53&#45;&gt;54 -->\n<g id=\"edge54\" class=\"edge\">\n<title>53&#45;&gt;54</title>\n<path fill=\"none\" stroke=\"#000000\" d=\"M1482.8647,-222.8796C1477.4128,-211.8835 1471.5157,-199.9893 1466.0184,-188.9015\"/>\n<polygon fill=\"#000000\" stroke=\"#000000\" points=\"1469.0911,-187.2195 1461.5133,-179.8149 1462.8196,-190.3289 1469.0911,-187.2195\"/>\n</g>\n<!-- 55 -->\n<g id=\"node56\" class=\"node\">\n<title>55</title>\n<path fill=\"#e58139\" stroke=\"#000000\" d=\"M1599,-179.5C1599,-179.5 1524,-179.5 1524,-179.5 1518,-179.5 1512,-173.5 1512,-167.5 1512,-167.5 1512,-123.5 1512,-123.5 1512,-117.5 1518,-111.5 1524,-111.5 1524,-111.5 1599,-111.5 1599,-111.5 1605,-111.5 1611,-117.5 1611,-123.5 1611,-123.5 1611,-167.5 1611,-167.5 1611,-173.5 1605,-179.5 1599,-179.5\"/>\n<text text-anchor=\"middle\" x=\"1561.5\" y=\"-164.3\" font-family=\"Helvetica,sans-Serif\" font-size=\"14.00\" fill=\"#000000\">gini = 0.0</text>\n<text text-anchor=\"middle\" x=\"1561.5\" y=\"-149.3\" font-family=\"Helvetica,sans-Serif\" font-size=\"14.00\" fill=\"#000000\">samples = 1</text>\n<text text-anchor=\"middle\" x=\"1561.5\" y=\"-134.3\" font-family=\"Helvetica,sans-Serif\" font-size=\"14.00\" fill=\"#000000\">value = [1, 0]</text>\n<text text-anchor=\"middle\" x=\"1561.5\" y=\"-119.3\" font-family=\"Helvetica,sans-Serif\" font-size=\"14.00\" fill=\"#000000\">class = 0</text>\n</g>\n<!-- 53&#45;&gt;55 -->\n<g id=\"edge55\" class=\"edge\">\n<title>53&#45;&gt;55</title>\n<path fill=\"none\" stroke=\"#000000\" d=\"M1523.7856,-222.8796C1529.145,-211.8835 1534.9422,-199.9893 1540.3463,-188.9015\"/>\n<polygon fill=\"#000000\" stroke=\"#000000\" points=\"1543.54,-190.3375 1544.7751,-179.8149 1537.2476,-187.2706 1543.54,-190.3375\"/>\n</g>\n<!-- 59 -->\n<g id=\"node60\" class=\"node\">\n<title>59</title>\n<path fill=\"#e78a46\" stroke=\"#000000\" d=\"M1948.5,-782C1948.5,-782 1864.5,-782 1864.5,-782 1858.5,-782 1852.5,-776 1852.5,-770 1852.5,-770 1852.5,-711 1852.5,-711 1852.5,-705 1858.5,-699 1864.5,-699 1864.5,-699 1948.5,-699 1948.5,-699 1954.5,-699 1960.5,-705 1960.5,-711 1960.5,-711 1960.5,-770 1960.5,-770 1960.5,-776 1954.5,-782 1948.5,-782\"/>\n<text text-anchor=\"middle\" x=\"1906.5\" y=\"-766.8\" font-family=\"Helvetica,sans-Serif\" font-size=\"14.00\" fill=\"#000000\">Area &lt;= 901.0</text>\n<text text-anchor=\"middle\" x=\"1906.5\" y=\"-751.8\" font-family=\"Helvetica,sans-Serif\" font-size=\"14.00\" fill=\"#000000\">gini = 0.12</text>\n<text text-anchor=\"middle\" x=\"1906.5\" y=\"-736.8\" font-family=\"Helvetica,sans-Serif\" font-size=\"14.00\" fill=\"#000000\">samples = 47</text>\n<text text-anchor=\"middle\" x=\"1906.5\" y=\"-721.8\" font-family=\"Helvetica,sans-Serif\" font-size=\"14.00\" fill=\"#000000\">value = [44, 3]</text>\n<text text-anchor=\"middle\" x=\"1906.5\" y=\"-706.8\" font-family=\"Helvetica,sans-Serif\" font-size=\"14.00\" fill=\"#000000\">class = 0</text>\n</g>\n<!-- 58&#45;&gt;59 -->\n<g id=\"edge59\" class=\"edge\">\n<title>58&#45;&gt;59</title>\n<path fill=\"none\" stroke=\"#000000\" d=\"M1926.0075,-817.8796C1923.9186,-809.5938 1921.7012,-800.798 1919.5391,-792.2216\"/>\n<polygon fill=\"#000000\" stroke=\"#000000\" points=\"1922.8757,-791.1391 1917.0373,-782.2981 1916.0881,-792.8503 1922.8757,-791.1391\"/>\n</g>\n<!-- 70 -->\n<g id=\"node71\" class=\"node\">\n<title>70</title>\n<path fill=\"#80c0ee\" stroke=\"#000000\" d=\"M2074,-782C2074,-782 1991,-782 1991,-782 1985,-782 1979,-776 1979,-770 1979,-770 1979,-711 1979,-711 1979,-705 1985,-699 1991,-699 1991,-699 2074,-699 2074,-699 2080,-699 2086,-705 2086,-711 2086,-711 2086,-770 2086,-770 2086,-776 2080,-782 2074,-782\"/>\n<text text-anchor=\"middle\" x=\"2032.5\" y=\"-766.8\" font-family=\"Helvetica,sans-Serif\" font-size=\"14.00\" fill=\"#000000\">Online &lt;= 0.5</text>\n<text text-anchor=\"middle\" x=\"2032.5\" y=\"-751.8\" font-family=\"Helvetica,sans-Serif\" font-size=\"14.00\" fill=\"#000000\">gini = 0.389</text>\n<text text-anchor=\"middle\" x=\"2032.5\" y=\"-736.8\" font-family=\"Helvetica,sans-Serif\" font-size=\"14.00\" fill=\"#000000\">samples = 34</text>\n<text text-anchor=\"middle\" x=\"2032.5\" y=\"-721.8\" font-family=\"Helvetica,sans-Serif\" font-size=\"14.00\" fill=\"#000000\">value = [9, 25]</text>\n<text text-anchor=\"middle\" x=\"2032.5\" y=\"-706.8\" font-family=\"Helvetica,sans-Serif\" font-size=\"14.00\" fill=\"#000000\">class = 1</text>\n</g>\n<!-- 58&#45;&gt;70 -->\n<g id=\"edge70\" class=\"edge\">\n<title>58&#45;&gt;70</title>\n<path fill=\"none\" stroke=\"#000000\" d=\"M1970.0761,-817.8796C1977.2691,-808.9633 1984.9384,-799.4565 1992.351,-790.268\"/>\n<polygon fill=\"#000000\" stroke=\"#000000\" points=\"1995.2258,-792.2788 1998.7805,-782.2981 1989.7776,-787.8836 1995.2258,-792.2788\"/>\n</g>\n<!-- 60 -->\n<g id=\"node61\" class=\"node\">\n<title>60</title>\n<path fill=\"#f2c09c\" stroke=\"#000000\" d=\"M1824,-663C1824,-663 1723,-663 1723,-663 1717,-663 1711,-657 1711,-651 1711,-651 1711,-592 1711,-592 1711,-586 1717,-580 1723,-580 1723,-580 1824,-580 1824,-580 1830,-580 1836,-586 1836,-592 1836,-592 1836,-651 1836,-651 1836,-657 1830,-663 1824,-663\"/>\n<text text-anchor=\"middle\" x=\"1773.5\" y=\"-647.8\" font-family=\"Helvetica,sans-Serif\" font-size=\"14.00\" fill=\"#000000\">Income &lt;= 104.0</text>\n<text text-anchor=\"middle\" x=\"1773.5\" y=\"-632.8\" font-family=\"Helvetica,sans-Serif\" font-size=\"14.00\" fill=\"#000000\">gini = 0.444</text>\n<text text-anchor=\"middle\" x=\"1773.5\" y=\"-617.8\" font-family=\"Helvetica,sans-Serif\" font-size=\"14.00\" fill=\"#000000\">samples = 6</text>\n<text text-anchor=\"middle\" x=\"1773.5\" y=\"-602.8\" font-family=\"Helvetica,sans-Serif\" font-size=\"14.00\" fill=\"#000000\">value = [4, 2]</text>\n<text text-anchor=\"middle\" x=\"1773.5\" y=\"-587.8\" font-family=\"Helvetica,sans-Serif\" font-size=\"14.00\" fill=\"#000000\">class = 0</text>\n</g>\n<!-- 59&#45;&gt;60 -->\n<g id=\"edge60\" class=\"edge\">\n<title>59&#45;&gt;60</title>\n<path fill=\"none\" stroke=\"#000000\" d=\"M1859.9831,-698.8796C1849.6152,-689.6031 1838.5329,-679.6874 1827.8801,-670.1559\"/>\n<polygon fill=\"#000000\" stroke=\"#000000\" points=\"1830.0017,-667.3577 1820.2155,-663.2981 1825.3341,-672.5744 1830.0017,-667.3577\"/>\n</g>\n<!-- 65 -->\n<g id=\"node66\" class=\"node\">\n<title>65</title>\n<path fill=\"#e6843e\" stroke=\"#000000\" d=\"M1949,-663C1949,-663 1866,-663 1866,-663 1860,-663 1854,-657 1854,-651 1854,-651 1854,-592 1854,-592 1854,-586 1860,-580 1866,-580 1866,-580 1949,-580 1949,-580 1955,-580 1961,-586 1961,-592 1961,-592 1961,-651 1961,-651 1961,-657 1955,-663 1949,-663\"/>\n<text text-anchor=\"middle\" x=\"1907.5\" y=\"-647.8\" font-family=\"Helvetica,sans-Serif\" font-size=\"14.00\" fill=\"#000000\">Family &lt;= 2.5</text>\n<text text-anchor=\"middle\" x=\"1907.5\" y=\"-632.8\" font-family=\"Helvetica,sans-Serif\" font-size=\"14.00\" fill=\"#000000\">gini = 0.048</text>\n<text text-anchor=\"middle\" x=\"1907.5\" y=\"-617.8\" font-family=\"Helvetica,sans-Serif\" font-size=\"14.00\" fill=\"#000000\">samples = 41</text>\n<text text-anchor=\"middle\" x=\"1907.5\" y=\"-602.8\" font-family=\"Helvetica,sans-Serif\" font-size=\"14.00\" fill=\"#000000\">value = [40, 1]</text>\n<text text-anchor=\"middle\" x=\"1907.5\" y=\"-587.8\" font-family=\"Helvetica,sans-Serif\" font-size=\"14.00\" fill=\"#000000\">class = 0</text>\n</g>\n<!-- 59&#45;&gt;65 -->\n<g id=\"edge65\" class=\"edge\">\n<title>59&#45;&gt;65</title>\n<path fill=\"none\" stroke=\"#000000\" d=\"M1906.8498,-698.8796C1906.9186,-690.6838 1906.9917,-681.9891 1907.063,-673.5013\"/>\n<polygon fill=\"#000000\" stroke=\"#000000\" points=\"1910.5645,-673.3272 1907.1488,-663.2981 1903.5648,-673.2683 1910.5645,-673.3272\"/>\n</g>\n<!-- 61 -->\n<g id=\"node62\" class=\"node\">\n<title>61</title>\n<path fill=\"#9ccef2\" stroke=\"#000000\" d=\"M1701,-544C1701,-544 1608,-544 1608,-544 1602,-544 1596,-538 1596,-532 1596,-532 1596,-473 1596,-473 1596,-467 1602,-461 1608,-461 1608,-461 1701,-461 1701,-461 1707,-461 1713,-467 1713,-473 1713,-473 1713,-532 1713,-532 1713,-538 1707,-544 1701,-544\"/>\n<text text-anchor=\"middle\" x=\"1654.5\" y=\"-528.8\" font-family=\"Helvetica,sans-Serif\" font-size=\"14.00\" fill=\"#000000\">Income &lt;= 96.5</text>\n<text text-anchor=\"middle\" x=\"1654.5\" y=\"-513.8\" font-family=\"Helvetica,sans-Serif\" font-size=\"14.00\" fill=\"#000000\">gini = 0.444</text>\n<text text-anchor=\"middle\" x=\"1654.5\" y=\"-498.8\" font-family=\"Helvetica,sans-Serif\" font-size=\"14.00\" fill=\"#000000\">samples = 3</text>\n<text text-anchor=\"middle\" x=\"1654.5\" y=\"-483.8\" font-family=\"Helvetica,sans-Serif\" font-size=\"14.00\" fill=\"#000000\">value = [1, 2]</text>\n<text text-anchor=\"middle\" x=\"1654.5\" y=\"-468.8\" font-family=\"Helvetica,sans-Serif\" font-size=\"14.00\" fill=\"#000000\">class = 1</text>\n</g>\n<!-- 60&#45;&gt;61 -->\n<g id=\"edge61\" class=\"edge\">\n<title>60&#45;&gt;61</title>\n<path fill=\"none\" stroke=\"#000000\" d=\"M1731.8796,-579.8796C1722.6931,-570.6931 1712.8798,-560.8798 1703.4336,-551.4336\"/>\n<polygon fill=\"#000000\" stroke=\"#000000\" points=\"1705.8441,-548.8943 1696.2981,-544.2981 1700.8943,-553.8441 1705.8441,-548.8943\"/>\n</g>\n<!-- 64 -->\n<g id=\"node65\" class=\"node\">\n<title>64</title>\n<path fill=\"#e58139\" stroke=\"#000000\" d=\"M1818,-536.5C1818,-536.5 1743,-536.5 1743,-536.5 1737,-536.5 1731,-530.5 1731,-524.5 1731,-524.5 1731,-480.5 1731,-480.5 1731,-474.5 1737,-468.5 1743,-468.5 1743,-468.5 1818,-468.5 1818,-468.5 1824,-468.5 1830,-474.5 1830,-480.5 1830,-480.5 1830,-524.5 1830,-524.5 1830,-530.5 1824,-536.5 1818,-536.5\"/>\n<text text-anchor=\"middle\" x=\"1780.5\" y=\"-521.3\" font-family=\"Helvetica,sans-Serif\" font-size=\"14.00\" fill=\"#000000\">gini = 0.0</text>\n<text text-anchor=\"middle\" x=\"1780.5\" y=\"-506.3\" font-family=\"Helvetica,sans-Serif\" font-size=\"14.00\" fill=\"#000000\">samples = 3</text>\n<text text-anchor=\"middle\" x=\"1780.5\" y=\"-491.3\" font-family=\"Helvetica,sans-Serif\" font-size=\"14.00\" fill=\"#000000\">value = [3, 0]</text>\n<text text-anchor=\"middle\" x=\"1780.5\" y=\"-476.3\" font-family=\"Helvetica,sans-Serif\" font-size=\"14.00\" fill=\"#000000\">class = 0</text>\n</g>\n<!-- 60&#45;&gt;64 -->\n<g id=\"edge64\" class=\"edge\">\n<title>60&#45;&gt;64</title>\n<path fill=\"none\" stroke=\"#000000\" d=\"M1775.9483,-579.8796C1776.5757,-569.2134 1777.2528,-557.7021 1777.8881,-546.9015\"/>\n<polygon fill=\"#000000\" stroke=\"#000000\" points=\"1781.3881,-547.0032 1778.4815,-536.8149 1774.4002,-546.5921 1781.3881,-547.0032\"/>\n</g>\n<!-- 62 -->\n<g id=\"node63\" class=\"node\">\n<title>62</title>\n<path fill=\"#e58139\" stroke=\"#000000\" d=\"M1729,-417.5C1729,-417.5 1654,-417.5 1654,-417.5 1648,-417.5 1642,-411.5 1642,-405.5 1642,-405.5 1642,-361.5 1642,-361.5 1642,-355.5 1648,-349.5 1654,-349.5 1654,-349.5 1729,-349.5 1729,-349.5 1735,-349.5 1741,-355.5 1741,-361.5 1741,-361.5 1741,-405.5 1741,-405.5 1741,-411.5 1735,-417.5 1729,-417.5\"/>\n<text text-anchor=\"middle\" x=\"1691.5\" y=\"-402.3\" font-family=\"Helvetica,sans-Serif\" font-size=\"14.00\" fill=\"#000000\">gini = 0.0</text>\n<text text-anchor=\"middle\" x=\"1691.5\" y=\"-387.3\" font-family=\"Helvetica,sans-Serif\" font-size=\"14.00\" fill=\"#000000\">samples = 1</text>\n<text text-anchor=\"middle\" x=\"1691.5\" y=\"-372.3\" font-family=\"Helvetica,sans-Serif\" font-size=\"14.00\" fill=\"#000000\">value = [1, 0]</text>\n<text text-anchor=\"middle\" x=\"1691.5\" y=\"-357.3\" font-family=\"Helvetica,sans-Serif\" font-size=\"14.00\" fill=\"#000000\">class = 0</text>\n</g>\n<!-- 61&#45;&gt;62 -->\n<g id=\"edge62\" class=\"edge\">\n<title>61&#45;&gt;62</title>\n<path fill=\"none\" stroke=\"#000000\" d=\"M1667.4408,-460.8796C1670.7914,-450.1034 1674.4101,-438.4647 1677.7983,-427.5677\"/>\n<polygon fill=\"#000000\" stroke=\"#000000\" points=\"1681.2037,-428.4032 1680.8307,-417.8149 1674.5194,-426.3248 1681.2037,-428.4032\"/>\n</g>\n<!-- 63 -->\n<g id=\"node64\" class=\"node\">\n<title>63</title>\n<path fill=\"#399de5\" stroke=\"#000000\" d=\"M1846,-417.5C1846,-417.5 1771,-417.5 1771,-417.5 1765,-417.5 1759,-411.5 1759,-405.5 1759,-405.5 1759,-361.5 1759,-361.5 1759,-355.5 1765,-349.5 1771,-349.5 1771,-349.5 1846,-349.5 1846,-349.5 1852,-349.5 1858,-355.5 1858,-361.5 1858,-361.5 1858,-405.5 1858,-405.5 1858,-411.5 1852,-417.5 1846,-417.5\"/>\n<text text-anchor=\"middle\" x=\"1808.5\" y=\"-402.3\" font-family=\"Helvetica,sans-Serif\" font-size=\"14.00\" fill=\"#000000\">gini = 0.0</text>\n<text text-anchor=\"middle\" x=\"1808.5\" y=\"-387.3\" font-family=\"Helvetica,sans-Serif\" font-size=\"14.00\" fill=\"#000000\">samples = 2</text>\n<text text-anchor=\"middle\" x=\"1808.5\" y=\"-372.3\" font-family=\"Helvetica,sans-Serif\" font-size=\"14.00\" fill=\"#000000\">value = [0, 2]</text>\n<text text-anchor=\"middle\" x=\"1808.5\" y=\"-357.3\" font-family=\"Helvetica,sans-Serif\" font-size=\"14.00\" fill=\"#000000\">class = 1</text>\n</g>\n<!-- 61&#45;&gt;63 -->\n<g id=\"edge63\" class=\"edge\">\n<title>61&#45;&gt;63</title>\n<path fill=\"none\" stroke=\"#000000\" d=\"M1708.3617,-460.8796C1723.7304,-449.0038 1740.4547,-436.0804 1755.7559,-424.2568\"/>\n<polygon fill=\"#000000\" stroke=\"#000000\" points=\"1758.3196,-426.699 1764.0924,-417.8149 1754.0395,-421.1599 1758.3196,-426.699\"/>\n</g>\n<!-- 66 -->\n<g id=\"node67\" class=\"node\">\n<title>66</title>\n<path fill=\"#e58139\" stroke=\"#000000\" d=\"M1943,-536.5C1943,-536.5 1860,-536.5 1860,-536.5 1854,-536.5 1848,-530.5 1848,-524.5 1848,-524.5 1848,-480.5 1848,-480.5 1848,-474.5 1854,-468.5 1860,-468.5 1860,-468.5 1943,-468.5 1943,-468.5 1949,-468.5 1955,-474.5 1955,-480.5 1955,-480.5 1955,-524.5 1955,-524.5 1955,-530.5 1949,-536.5 1943,-536.5\"/>\n<text text-anchor=\"middle\" x=\"1901.5\" y=\"-521.3\" font-family=\"Helvetica,sans-Serif\" font-size=\"14.00\" fill=\"#000000\">gini = 0.0</text>\n<text text-anchor=\"middle\" x=\"1901.5\" y=\"-506.3\" font-family=\"Helvetica,sans-Serif\" font-size=\"14.00\" fill=\"#000000\">samples = 35</text>\n<text text-anchor=\"middle\" x=\"1901.5\" y=\"-491.3\" font-family=\"Helvetica,sans-Serif\" font-size=\"14.00\" fill=\"#000000\">value = [35, 0]</text>\n<text text-anchor=\"middle\" x=\"1901.5\" y=\"-476.3\" font-family=\"Helvetica,sans-Serif\" font-size=\"14.00\" fill=\"#000000\">class = 0</text>\n</g>\n<!-- 65&#45;&gt;66 -->\n<g id=\"edge66\" class=\"edge\">\n<title>65&#45;&gt;66</title>\n<path fill=\"none\" stroke=\"#000000\" d=\"M1905.4015,-579.8796C1904.8637,-569.2134 1904.2833,-557.7021 1903.7387,-546.9015\"/>\n<polygon fill=\"#000000\" stroke=\"#000000\" points=\"1907.2294,-546.626 1903.2302,-536.8149 1900.2383,-546.9785 1907.2294,-546.626\"/>\n</g>\n<!-- 67 -->\n<g id=\"node68\" class=\"node\">\n<title>67</title>\n<path fill=\"#ea9a61\" stroke=\"#000000\" d=\"M2060,-544C2060,-544 1985,-544 1985,-544 1979,-544 1973,-538 1973,-532 1973,-532 1973,-473 1973,-473 1973,-467 1979,-461 1985,-461 1985,-461 2060,-461 2060,-461 2066,-461 2072,-467 2072,-473 2072,-473 2072,-532 2072,-532 2072,-538 2066,-544 2060,-544\"/>\n<text text-anchor=\"middle\" x=\"2022.5\" y=\"-528.8\" font-family=\"Helvetica,sans-Serif\" font-size=\"14.00\" fill=\"#000000\">Age &lt;= 44.0</text>\n<text text-anchor=\"middle\" x=\"2022.5\" y=\"-513.8\" font-family=\"Helvetica,sans-Serif\" font-size=\"14.00\" fill=\"#000000\">gini = 0.278</text>\n<text text-anchor=\"middle\" x=\"2022.5\" y=\"-498.8\" font-family=\"Helvetica,sans-Serif\" font-size=\"14.00\" fill=\"#000000\">samples = 6</text>\n<text text-anchor=\"middle\" x=\"2022.5\" y=\"-483.8\" font-family=\"Helvetica,sans-Serif\" font-size=\"14.00\" fill=\"#000000\">value = [5, 1]</text>\n<text text-anchor=\"middle\" x=\"2022.5\" y=\"-468.8\" font-family=\"Helvetica,sans-Serif\" font-size=\"14.00\" fill=\"#000000\">class = 0</text>\n</g>\n<!-- 65&#45;&gt;67 -->\n<g id=\"edge67\" class=\"edge\">\n<title>65&#45;&gt;67</title>\n<path fill=\"none\" stroke=\"#000000\" d=\"M1947.7214,-579.8796C1956.512,-570.7832 1965.8966,-561.0722 1974.9426,-551.7116\"/>\n<polygon fill=\"#000000\" stroke=\"#000000\" points=\"1977.6745,-553.9212 1982.1069,-544.2981 1972.6409,-549.0568 1977.6745,-553.9212\"/>\n</g>\n<!-- 68 -->\n<g id=\"node69\" class=\"node\">\n<title>68</title>\n<path fill=\"#399de5\" stroke=\"#000000\" d=\"M1971,-417.5C1971,-417.5 1896,-417.5 1896,-417.5 1890,-417.5 1884,-411.5 1884,-405.5 1884,-405.5 1884,-361.5 1884,-361.5 1884,-355.5 1890,-349.5 1896,-349.5 1896,-349.5 1971,-349.5 1971,-349.5 1977,-349.5 1983,-355.5 1983,-361.5 1983,-361.5 1983,-405.5 1983,-405.5 1983,-411.5 1977,-417.5 1971,-417.5\"/>\n<text text-anchor=\"middle\" x=\"1933.5\" y=\"-402.3\" font-family=\"Helvetica,sans-Serif\" font-size=\"14.00\" fill=\"#000000\">gini = 0.0</text>\n<text text-anchor=\"middle\" x=\"1933.5\" y=\"-387.3\" font-family=\"Helvetica,sans-Serif\" font-size=\"14.00\" fill=\"#000000\">samples = 1</text>\n<text text-anchor=\"middle\" x=\"1933.5\" y=\"-372.3\" font-family=\"Helvetica,sans-Serif\" font-size=\"14.00\" fill=\"#000000\">value = [0, 1]</text>\n<text text-anchor=\"middle\" x=\"1933.5\" y=\"-357.3\" font-family=\"Helvetica,sans-Serif\" font-size=\"14.00\" fill=\"#000000\">class = 1</text>\n</g>\n<!-- 67&#45;&gt;68 -->\n<g id=\"edge68\" class=\"edge\">\n<title>67&#45;&gt;68</title>\n<path fill=\"none\" stroke=\"#000000\" d=\"M1991.3721,-460.8796C1982.9014,-449.5536 1973.7181,-437.2748 1965.2153,-425.9058\"/>\n<polygon fill=\"#000000\" stroke=\"#000000\" points=\"1967.9562,-423.7268 1959.1641,-417.8149 1962.3505,-427.9193 1967.9562,-423.7268\"/>\n</g>\n<!-- 69 -->\n<g id=\"node70\" class=\"node\">\n<title>69</title>\n<path fill=\"#e58139\" stroke=\"#000000\" d=\"M2088,-417.5C2088,-417.5 2013,-417.5 2013,-417.5 2007,-417.5 2001,-411.5 2001,-405.5 2001,-405.5 2001,-361.5 2001,-361.5 2001,-355.5 2007,-349.5 2013,-349.5 2013,-349.5 2088,-349.5 2088,-349.5 2094,-349.5 2100,-355.5 2100,-361.5 2100,-361.5 2100,-405.5 2100,-405.5 2100,-411.5 2094,-417.5 2088,-417.5\"/>\n<text text-anchor=\"middle\" x=\"2050.5\" y=\"-402.3\" font-family=\"Helvetica,sans-Serif\" font-size=\"14.00\" fill=\"#000000\">gini = 0.0</text>\n<text text-anchor=\"middle\" x=\"2050.5\" y=\"-387.3\" font-family=\"Helvetica,sans-Serif\" font-size=\"14.00\" fill=\"#000000\">samples = 5</text>\n<text text-anchor=\"middle\" x=\"2050.5\" y=\"-372.3\" font-family=\"Helvetica,sans-Serif\" font-size=\"14.00\" fill=\"#000000\">value = [5, 0]</text>\n<text text-anchor=\"middle\" x=\"2050.5\" y=\"-357.3\" font-family=\"Helvetica,sans-Serif\" font-size=\"14.00\" fill=\"#000000\">class = 0</text>\n</g>\n<!-- 67&#45;&gt;69 -->\n<g id=\"edge69\" class=\"edge\">\n<title>67&#45;&gt;69</title>\n<path fill=\"none\" stroke=\"#000000\" d=\"M2032.293,-460.8796C2034.8286,-450.1034 2037.5671,-438.4647 2040.1311,-427.5677\"/>\n<polygon fill=\"#000000\" stroke=\"#000000\" points=\"2043.5424,-428.3508 2042.4259,-417.8149 2036.7285,-426.7474 2043.5424,-428.3508\"/>\n</g>\n<!-- 71 -->\n<g id=\"node72\" class=\"node\">\n<title>71</title>\n<path fill=\"#a8d4f4\" stroke=\"#000000\" d=\"M2078.5,-663C2078.5,-663 1994.5,-663 1994.5,-663 1988.5,-663 1982.5,-657 1982.5,-651 1982.5,-651 1982.5,-592 1982.5,-592 1982.5,-586 1988.5,-580 1994.5,-580 1994.5,-580 2078.5,-580 2078.5,-580 2084.5,-580 2090.5,-586 2090.5,-592 2090.5,-592 2090.5,-651 2090.5,-651 2090.5,-657 2084.5,-663 2078.5,-663\"/>\n<text text-anchor=\"middle\" x=\"2036.5\" y=\"-647.8\" font-family=\"Helvetica,sans-Serif\" font-size=\"14.00\" fill=\"#000000\">Area &lt;= 919.0</text>\n<text text-anchor=\"middle\" x=\"2036.5\" y=\"-632.8\" font-family=\"Helvetica,sans-Serif\" font-size=\"14.00\" fill=\"#000000\">gini = 0.461</text>\n<text text-anchor=\"middle\" x=\"2036.5\" y=\"-617.8\" font-family=\"Helvetica,sans-Serif\" font-size=\"14.00\" fill=\"#000000\">samples = 25</text>\n<text text-anchor=\"middle\" x=\"2036.5\" y=\"-602.8\" font-family=\"Helvetica,sans-Serif\" font-size=\"14.00\" fill=\"#000000\">value = [9, 16]</text>\n<text text-anchor=\"middle\" x=\"2036.5\" y=\"-587.8\" font-family=\"Helvetica,sans-Serif\" font-size=\"14.00\" fill=\"#000000\">class = 1</text>\n</g>\n<!-- 70&#45;&gt;71 -->\n<g id=\"edge71\" class=\"edge\">\n<title>70&#45;&gt;71</title>\n<path fill=\"none\" stroke=\"#000000\" d=\"M2033.899,-698.8796C2034.1745,-690.6838 2034.4668,-681.9891 2034.7521,-673.5013\"/>\n<polygon fill=\"#000000\" stroke=\"#000000\" points=\"2038.257,-673.41 2035.095,-663.2981 2031.261,-673.1748 2038.257,-673.41\"/>\n</g>\n<!-- 86 -->\n<g id=\"node87\" class=\"node\">\n<title>86</title>\n<path fill=\"#399de5\" stroke=\"#000000\" d=\"M2196,-655.5C2196,-655.5 2121,-655.5 2121,-655.5 2115,-655.5 2109,-649.5 2109,-643.5 2109,-643.5 2109,-599.5 2109,-599.5 2109,-593.5 2115,-587.5 2121,-587.5 2121,-587.5 2196,-587.5 2196,-587.5 2202,-587.5 2208,-593.5 2208,-599.5 2208,-599.5 2208,-643.5 2208,-643.5 2208,-649.5 2202,-655.5 2196,-655.5\"/>\n<text text-anchor=\"middle\" x=\"2158.5\" y=\"-640.3\" font-family=\"Helvetica,sans-Serif\" font-size=\"14.00\" fill=\"#000000\">gini = 0.0</text>\n<text text-anchor=\"middle\" x=\"2158.5\" y=\"-625.3\" font-family=\"Helvetica,sans-Serif\" font-size=\"14.00\" fill=\"#000000\">samples = 9</text>\n<text text-anchor=\"middle\" x=\"2158.5\" y=\"-610.3\" font-family=\"Helvetica,sans-Serif\" font-size=\"14.00\" fill=\"#000000\">value = [0, 9]</text>\n<text text-anchor=\"middle\" x=\"2158.5\" y=\"-595.3\" font-family=\"Helvetica,sans-Serif\" font-size=\"14.00\" fill=\"#000000\">class = 1</text>\n</g>\n<!-- 70&#45;&gt;86 -->\n<g id=\"edge86\" class=\"edge\">\n<title>70&#45;&gt;86</title>\n<path fill=\"none\" stroke=\"#000000\" d=\"M2076.5687,-698.8796C2088.9102,-687.2237 2102.3202,-674.5587 2114.649,-662.9148\"/>\n<polygon fill=\"#000000\" stroke=\"#000000\" points=\"2117.2996,-665.2258 2122.1665,-655.8149 2112.4932,-660.1366 2117.2996,-665.2258\"/>\n</g>\n<!-- 72 -->\n<g id=\"node73\" class=\"node\">\n<title>72</title>\n<path fill=\"#399de5\" stroke=\"#000000\" d=\"M2177,-536.5C2177,-536.5 2102,-536.5 2102,-536.5 2096,-536.5 2090,-530.5 2090,-524.5 2090,-524.5 2090,-480.5 2090,-480.5 2090,-474.5 2096,-468.5 2102,-468.5 2102,-468.5 2177,-468.5 2177,-468.5 2183,-468.5 2189,-474.5 2189,-480.5 2189,-480.5 2189,-524.5 2189,-524.5 2189,-530.5 2183,-536.5 2177,-536.5\"/>\n<text text-anchor=\"middle\" x=\"2139.5\" y=\"-521.3\" font-family=\"Helvetica,sans-Serif\" font-size=\"14.00\" fill=\"#000000\">gini = 0.0</text>\n<text text-anchor=\"middle\" x=\"2139.5\" y=\"-506.3\" font-family=\"Helvetica,sans-Serif\" font-size=\"14.00\" fill=\"#000000\">samples = 4</text>\n<text text-anchor=\"middle\" x=\"2139.5\" y=\"-491.3\" font-family=\"Helvetica,sans-Serif\" font-size=\"14.00\" fill=\"#000000\">value = [0, 4]</text>\n<text text-anchor=\"middle\" x=\"2139.5\" y=\"-476.3\" font-family=\"Helvetica,sans-Serif\" font-size=\"14.00\" fill=\"#000000\">class = 1</text>\n</g>\n<!-- 71&#45;&gt;72 -->\n<g id=\"edge72\" class=\"edge\">\n<title>71&#45;&gt;72</title>\n<path fill=\"none\" stroke=\"#000000\" d=\"M2072.5244,-579.8796C2082.4227,-568.4436 2093.1619,-556.0363 2103.0822,-544.575\"/>\n<polygon fill=\"#000000\" stroke=\"#000000\" points=\"2105.9007,-546.6666 2109.7988,-536.8149 2100.6079,-542.0855 2105.9007,-546.6666\"/>\n</g>\n<!-- 73 -->\n<g id=\"node74\" class=\"node\">\n<title>73</title>\n<path fill=\"#cee6f8\" stroke=\"#000000\" d=\"M2302,-544C2302,-544 2219,-544 2219,-544 2213,-544 2207,-538 2207,-532 2207,-532 2207,-473 2207,-473 2207,-467 2213,-461 2219,-461 2219,-461 2302,-461 2302,-461 2308,-461 2314,-467 2314,-473 2314,-473 2314,-532 2314,-532 2314,-538 2308,-544 2302,-544\"/>\n<text text-anchor=\"middle\" x=\"2260.5\" y=\"-528.8\" font-family=\"Helvetica,sans-Serif\" font-size=\"14.00\" fill=\"#000000\">Age &lt;= 46.5</text>\n<text text-anchor=\"middle\" x=\"2260.5\" y=\"-513.8\" font-family=\"Helvetica,sans-Serif\" font-size=\"14.00\" fill=\"#000000\">gini = 0.49</text>\n<text text-anchor=\"middle\" x=\"2260.5\" y=\"-498.8\" font-family=\"Helvetica,sans-Serif\" font-size=\"14.00\" fill=\"#000000\">samples = 21</text>\n<text text-anchor=\"middle\" x=\"2260.5\" y=\"-483.8\" font-family=\"Helvetica,sans-Serif\" font-size=\"14.00\" fill=\"#000000\">value = [9, 12]</text>\n<text text-anchor=\"middle\" x=\"2260.5\" y=\"-468.8\" font-family=\"Helvetica,sans-Serif\" font-size=\"14.00\" fill=\"#000000\">class = 1</text>\n</g>\n<!-- 71&#45;&gt;73 -->\n<g id=\"edge73\" class=\"edge\">\n<title>71&#45;&gt;73</title>\n<path fill=\"none\" stroke=\"#000000\" d=\"M2090.6742,-584.7127C2093.6235,-583.0575 2096.5767,-581.4749 2099.5,-580 2140.9273,-559.0986 2156.0727,-564.9014 2197.5,-544 2197.595,-543.9521 2197.69,-543.904 2197.7851,-543.8559\"/>\n<polygon fill=\"#000000\" stroke=\"#000000\" points=\"2199.5195,-546.8974 2206.6797,-539.0883 2196.2125,-540.7277 2199.5195,-546.8974\"/>\n</g>\n<!-- 74 -->\n<g id=\"node75\" class=\"node\">\n<title>74</title>\n<path fill=\"#72b9ec\" stroke=\"#000000\" d=\"M2279,-425C2279,-425 2186,-425 2186,-425 2180,-425 2174,-419 2174,-413 2174,-413 2174,-354 2174,-354 2174,-348 2180,-342 2186,-342 2186,-342 2279,-342 2279,-342 2285,-342 2291,-348 2291,-354 2291,-354 2291,-413 2291,-413 2291,-419 2285,-425 2279,-425\"/>\n<text text-anchor=\"middle\" x=\"2232.5\" y=\"-409.8\" font-family=\"Helvetica,sans-Serif\" font-size=\"14.00\" fill=\"#000000\">Income &lt;= 98.5</text>\n<text text-anchor=\"middle\" x=\"2232.5\" y=\"-394.8\" font-family=\"Helvetica,sans-Serif\" font-size=\"14.00\" fill=\"#000000\">gini = 0.346</text>\n<text text-anchor=\"middle\" x=\"2232.5\" y=\"-379.8\" font-family=\"Helvetica,sans-Serif\" font-size=\"14.00\" fill=\"#000000\">samples = 9</text>\n<text text-anchor=\"middle\" x=\"2232.5\" y=\"-364.8\" font-family=\"Helvetica,sans-Serif\" font-size=\"14.00\" fill=\"#000000\">value = [2, 7]</text>\n<text text-anchor=\"middle\" x=\"2232.5\" y=\"-349.8\" font-family=\"Helvetica,sans-Serif\" font-size=\"14.00\" fill=\"#000000\">class = 1</text>\n</g>\n<!-- 73&#45;&gt;74 -->\n<g id=\"edge74\" class=\"edge\">\n<title>73&#45;&gt;74</title>\n<path fill=\"none\" stroke=\"#000000\" d=\"M2250.707,-460.8796C2248.7574,-452.5938 2246.6878,-443.798 2244.6698,-435.2216\"/>\n<polygon fill=\"#000000\" stroke=\"#000000\" points=\"2248.0323,-434.2306 2242.3348,-425.2981 2241.2183,-435.8339 2248.0323,-434.2306\"/>\n</g>\n<!-- 79 -->\n<g id=\"node80\" class=\"node\">\n<title>79</title>\n<path fill=\"#f8dbc6\" stroke=\"#000000\" d=\"M2405.5,-425C2405.5,-425 2321.5,-425 2321.5,-425 2315.5,-425 2309.5,-419 2309.5,-413 2309.5,-413 2309.5,-354 2309.5,-354 2309.5,-348 2315.5,-342 2321.5,-342 2321.5,-342 2405.5,-342 2405.5,-342 2411.5,-342 2417.5,-348 2417.5,-354 2417.5,-354 2417.5,-413 2417.5,-413 2417.5,-419 2411.5,-425 2405.5,-425\"/>\n<text text-anchor=\"middle\" x=\"2363.5\" y=\"-409.8\" font-family=\"Helvetica,sans-Serif\" font-size=\"14.00\" fill=\"#000000\">Area &lt;= 935.5</text>\n<text text-anchor=\"middle\" x=\"2363.5\" y=\"-394.8\" font-family=\"Helvetica,sans-Serif\" font-size=\"14.00\" fill=\"#000000\">gini = 0.486</text>\n<text text-anchor=\"middle\" x=\"2363.5\" y=\"-379.8\" font-family=\"Helvetica,sans-Serif\" font-size=\"14.00\" fill=\"#000000\">samples = 12</text>\n<text text-anchor=\"middle\" x=\"2363.5\" y=\"-364.8\" font-family=\"Helvetica,sans-Serif\" font-size=\"14.00\" fill=\"#000000\">value = [7, 5]</text>\n<text text-anchor=\"middle\" x=\"2363.5\" y=\"-349.8\" font-family=\"Helvetica,sans-Serif\" font-size=\"14.00\" fill=\"#000000\">class = 0</text>\n</g>\n<!-- 73&#45;&gt;79 -->\n<g id=\"edge79\" class=\"edge\">\n<title>73&#45;&gt;79</title>\n<path fill=\"none\" stroke=\"#000000\" d=\"M2296.5244,-460.8796C2304.3198,-451.8733 2312.6367,-442.2644 2320.6644,-432.9897\"/>\n<polygon fill=\"#000000\" stroke=\"#000000\" points=\"2323.4237,-435.1498 2327.3218,-425.2981 2318.1309,-430.5686 2323.4237,-435.1498\"/>\n</g>\n<!-- 75 -->\n<g id=\"node76\" class=\"node\">\n<title>75</title>\n<path fill=\"#f2c09c\" stroke=\"#000000\" d=\"M2156,-306C2156,-306 2081,-306 2081,-306 2075,-306 2069,-300 2069,-294 2069,-294 2069,-235 2069,-235 2069,-229 2075,-223 2081,-223 2081,-223 2156,-223 2156,-223 2162,-223 2168,-229 2168,-235 2168,-235 2168,-294 2168,-294 2168,-300 2162,-306 2156,-306\"/>\n<text text-anchor=\"middle\" x=\"2118.5\" y=\"-290.8\" font-family=\"Helvetica,sans-Serif\" font-size=\"14.00\" fill=\"#000000\">Age &lt;= 31.0</text>\n<text text-anchor=\"middle\" x=\"2118.5\" y=\"-275.8\" font-family=\"Helvetica,sans-Serif\" font-size=\"14.00\" fill=\"#000000\">gini = 0.444</text>\n<text text-anchor=\"middle\" x=\"2118.5\" y=\"-260.8\" font-family=\"Helvetica,sans-Serif\" font-size=\"14.00\" fill=\"#000000\">samples = 3</text>\n<text text-anchor=\"middle\" x=\"2118.5\" y=\"-245.8\" font-family=\"Helvetica,sans-Serif\" font-size=\"14.00\" fill=\"#000000\">value = [2, 1]</text>\n<text text-anchor=\"middle\" x=\"2118.5\" y=\"-230.8\" font-family=\"Helvetica,sans-Serif\" font-size=\"14.00\" fill=\"#000000\">class = 0</text>\n</g>\n<!-- 74&#45;&gt;75 -->\n<g id=\"edge75\" class=\"edge\">\n<title>74&#45;&gt;75</title>\n<path fill=\"none\" stroke=\"#000000\" d=\"M2192.6283,-341.8796C2183.9142,-332.7832 2174.6112,-323.0722 2165.6438,-313.7116\"/>\n<polygon fill=\"#000000\" stroke=\"#000000\" points=\"2167.987,-311.098 2158.5419,-306.2981 2162.9322,-315.9405 2167.987,-311.098\"/>\n</g>\n<!-- 78 -->\n<g id=\"node79\" class=\"node\">\n<title>78</title>\n<path fill=\"#399de5\" stroke=\"#000000\" d=\"M2273,-298.5C2273,-298.5 2198,-298.5 2198,-298.5 2192,-298.5 2186,-292.5 2186,-286.5 2186,-286.5 2186,-242.5 2186,-242.5 2186,-236.5 2192,-230.5 2198,-230.5 2198,-230.5 2273,-230.5 2273,-230.5 2279,-230.5 2285,-236.5 2285,-242.5 2285,-242.5 2285,-286.5 2285,-286.5 2285,-292.5 2279,-298.5 2273,-298.5\"/>\n<text text-anchor=\"middle\" x=\"2235.5\" y=\"-283.3\" font-family=\"Helvetica,sans-Serif\" font-size=\"14.00\" fill=\"#000000\">gini = 0.0</text>\n<text text-anchor=\"middle\" x=\"2235.5\" y=\"-268.3\" font-family=\"Helvetica,sans-Serif\" font-size=\"14.00\" fill=\"#000000\">samples = 6</text>\n<text text-anchor=\"middle\" x=\"2235.5\" y=\"-253.3\" font-family=\"Helvetica,sans-Serif\" font-size=\"14.00\" fill=\"#000000\">value = [0, 6]</text>\n<text text-anchor=\"middle\" x=\"2235.5\" y=\"-238.3\" font-family=\"Helvetica,sans-Serif\" font-size=\"14.00\" fill=\"#000000\">class = 1</text>\n</g>\n<!-- 74&#45;&gt;78 -->\n<g id=\"edge78\" class=\"edge\">\n<title>74&#45;&gt;78</title>\n<path fill=\"none\" stroke=\"#000000\" d=\"M2233.5493,-341.8796C2233.8182,-331.2134 2234.1084,-319.7021 2234.3806,-308.9015\"/>\n<polygon fill=\"#000000\" stroke=\"#000000\" points=\"2237.8817,-308.9 2234.6349,-298.8149 2230.8839,-308.7235 2237.8817,-308.9\"/>\n</g>\n<!-- 76 -->\n<g id=\"node77\" class=\"node\">\n<title>76</title>\n<path fill=\"#399de5\" stroke=\"#000000\" d=\"M2098,-179.5C2098,-179.5 2023,-179.5 2023,-179.5 2017,-179.5 2011,-173.5 2011,-167.5 2011,-167.5 2011,-123.5 2011,-123.5 2011,-117.5 2017,-111.5 2023,-111.5 2023,-111.5 2098,-111.5 2098,-111.5 2104,-111.5 2110,-117.5 2110,-123.5 2110,-123.5 2110,-167.5 2110,-167.5 2110,-173.5 2104,-179.5 2098,-179.5\"/>\n<text text-anchor=\"middle\" x=\"2060.5\" y=\"-164.3\" font-family=\"Helvetica,sans-Serif\" font-size=\"14.00\" fill=\"#000000\">gini = 0.0</text>\n<text text-anchor=\"middle\" x=\"2060.5\" y=\"-149.3\" font-family=\"Helvetica,sans-Serif\" font-size=\"14.00\" fill=\"#000000\">samples = 1</text>\n<text text-anchor=\"middle\" x=\"2060.5\" y=\"-134.3\" font-family=\"Helvetica,sans-Serif\" font-size=\"14.00\" fill=\"#000000\">value = [0, 1]</text>\n<text text-anchor=\"middle\" x=\"2060.5\" y=\"-119.3\" font-family=\"Helvetica,sans-Serif\" font-size=\"14.00\" fill=\"#000000\">class = 1</text>\n</g>\n<!-- 75&#45;&gt;76 -->\n<g id=\"edge76\" class=\"edge\">\n<title>75&#45;&gt;76</title>\n<path fill=\"none\" stroke=\"#000000\" d=\"M2098.2144,-222.8796C2092.855,-211.8835 2087.0578,-199.9893 2081.6537,-188.9015\"/>\n<polygon fill=\"#000000\" stroke=\"#000000\" points=\"2084.7524,-187.2706 2077.2249,-179.8149 2078.46,-190.3375 2084.7524,-187.2706\"/>\n</g>\n<!-- 77 -->\n<g id=\"node78\" class=\"node\">\n<title>77</title>\n<path fill=\"#e58139\" stroke=\"#000000\" d=\"M2215,-179.5C2215,-179.5 2140,-179.5 2140,-179.5 2134,-179.5 2128,-173.5 2128,-167.5 2128,-167.5 2128,-123.5 2128,-123.5 2128,-117.5 2134,-111.5 2140,-111.5 2140,-111.5 2215,-111.5 2215,-111.5 2221,-111.5 2227,-117.5 2227,-123.5 2227,-123.5 2227,-167.5 2227,-167.5 2227,-173.5 2221,-179.5 2215,-179.5\"/>\n<text text-anchor=\"middle\" x=\"2177.5\" y=\"-164.3\" font-family=\"Helvetica,sans-Serif\" font-size=\"14.00\" fill=\"#000000\">gini = 0.0</text>\n<text text-anchor=\"middle\" x=\"2177.5\" y=\"-149.3\" font-family=\"Helvetica,sans-Serif\" font-size=\"14.00\" fill=\"#000000\">samples = 2</text>\n<text text-anchor=\"middle\" x=\"2177.5\" y=\"-134.3\" font-family=\"Helvetica,sans-Serif\" font-size=\"14.00\" fill=\"#000000\">value = [2, 0]</text>\n<text text-anchor=\"middle\" x=\"2177.5\" y=\"-119.3\" font-family=\"Helvetica,sans-Serif\" font-size=\"14.00\" fill=\"#000000\">class = 0</text>\n</g>\n<!-- 75&#45;&gt;77 -->\n<g id=\"edge77\" class=\"edge\">\n<title>75&#45;&gt;77</title>\n<path fill=\"none\" stroke=\"#000000\" d=\"M2139.1353,-222.8796C2144.5872,-211.8835 2150.4843,-199.9893 2155.9816,-188.9015\"/>\n<polygon fill=\"#000000\" stroke=\"#000000\" points=\"2159.1804,-190.3289 2160.4867,-179.8149 2152.9089,-187.2195 2159.1804,-190.3289\"/>\n</g>\n<!-- 80 -->\n<g id=\"node81\" class=\"node\">\n<title>80</title>\n<path fill=\"#e58139\" stroke=\"#000000\" d=\"M2397,-298.5C2397,-298.5 2322,-298.5 2322,-298.5 2316,-298.5 2310,-292.5 2310,-286.5 2310,-286.5 2310,-242.5 2310,-242.5 2310,-236.5 2316,-230.5 2322,-230.5 2322,-230.5 2397,-230.5 2397,-230.5 2403,-230.5 2409,-236.5 2409,-242.5 2409,-242.5 2409,-286.5 2409,-286.5 2409,-292.5 2403,-298.5 2397,-298.5\"/>\n<text text-anchor=\"middle\" x=\"2359.5\" y=\"-283.3\" font-family=\"Helvetica,sans-Serif\" font-size=\"14.00\" fill=\"#000000\">gini = 0.0</text>\n<text text-anchor=\"middle\" x=\"2359.5\" y=\"-268.3\" font-family=\"Helvetica,sans-Serif\" font-size=\"14.00\" fill=\"#000000\">samples = 3</text>\n<text text-anchor=\"middle\" x=\"2359.5\" y=\"-253.3\" font-family=\"Helvetica,sans-Serif\" font-size=\"14.00\" fill=\"#000000\">value = [3, 0]</text>\n<text text-anchor=\"middle\" x=\"2359.5\" y=\"-238.3\" font-family=\"Helvetica,sans-Serif\" font-size=\"14.00\" fill=\"#000000\">class = 0</text>\n</g>\n<!-- 79&#45;&gt;80 -->\n<g id=\"edge80\" class=\"edge\">\n<title>79&#45;&gt;80</title>\n<path fill=\"none\" stroke=\"#000000\" d=\"M2362.101,-341.8796C2361.7425,-331.2134 2361.3555,-319.7021 2360.9925,-308.9015\"/>\n<polygon fill=\"#000000\" stroke=\"#000000\" points=\"2364.4875,-308.6917 2360.6534,-298.8149 2357.4915,-308.9269 2364.4875,-308.6917\"/>\n</g>\n<!-- 81 -->\n<g id=\"node82\" class=\"node\">\n<title>81</title>\n<path fill=\"#d7ebfa\" stroke=\"#000000\" d=\"M2531.5,-306C2531.5,-306 2439.5,-306 2439.5,-306 2433.5,-306 2427.5,-300 2427.5,-294 2427.5,-294 2427.5,-235 2427.5,-235 2427.5,-229 2433.5,-223 2439.5,-223 2439.5,-223 2531.5,-223 2531.5,-223 2537.5,-223 2543.5,-229 2543.5,-235 2543.5,-235 2543.5,-294 2543.5,-294 2543.5,-300 2537.5,-306 2531.5,-306\"/>\n<text text-anchor=\"middle\" x=\"2485.5\" y=\"-290.8\" font-family=\"Helvetica,sans-Serif\" font-size=\"14.00\" fill=\"#000000\">CCAvg &lt;= 3.55</text>\n<text text-anchor=\"middle\" x=\"2485.5\" y=\"-275.8\" font-family=\"Helvetica,sans-Serif\" font-size=\"14.00\" fill=\"#000000\">gini = 0.494</text>\n<text text-anchor=\"middle\" x=\"2485.5\" y=\"-260.8\" font-family=\"Helvetica,sans-Serif\" font-size=\"14.00\" fill=\"#000000\">samples = 9</text>\n<text text-anchor=\"middle\" x=\"2485.5\" y=\"-245.8\" font-family=\"Helvetica,sans-Serif\" font-size=\"14.00\" fill=\"#000000\">value = [4, 5]</text>\n<text text-anchor=\"middle\" x=\"2485.5\" y=\"-230.8\" font-family=\"Helvetica,sans-Serif\" font-size=\"14.00\" fill=\"#000000\">class = 1</text>\n</g>\n<!-- 79&#45;&gt;81 -->\n<g id=\"edge81\" class=\"edge\">\n<title>79&#45;&gt;81</title>\n<path fill=\"none\" stroke=\"#000000\" d=\"M2406.1697,-341.8796C2415.5877,-332.6931 2425.6484,-322.8798 2435.3328,-313.4336\"/>\n<polygon fill=\"#000000\" stroke=\"#000000\" points=\"2437.9335,-315.7861 2442.6482,-306.2981 2433.0457,-310.7751 2437.9335,-315.7861\"/>\n</g>\n<!-- 82 -->\n<g id=\"node83\" class=\"node\">\n<title>82</title>\n<path fill=\"#eca06a\" stroke=\"#000000\" d=\"M2464,-187C2464,-187 2389,-187 2389,-187 2383,-187 2377,-181 2377,-175 2377,-175 2377,-116 2377,-116 2377,-110 2383,-104 2389,-104 2389,-104 2464,-104 2464,-104 2470,-104 2476,-110 2476,-116 2476,-116 2476,-175 2476,-175 2476,-181 2470,-187 2464,-187\"/>\n<text text-anchor=\"middle\" x=\"2426.5\" y=\"-171.8\" font-family=\"Helvetica,sans-Serif\" font-size=\"14.00\" fill=\"#000000\">Age &lt;= 56.0</text>\n<text text-anchor=\"middle\" x=\"2426.5\" y=\"-156.8\" font-family=\"Helvetica,sans-Serif\" font-size=\"14.00\" fill=\"#000000\">gini = 0.32</text>\n<text text-anchor=\"middle\" x=\"2426.5\" y=\"-141.8\" font-family=\"Helvetica,sans-Serif\" font-size=\"14.00\" fill=\"#000000\">samples = 5</text>\n<text text-anchor=\"middle\" x=\"2426.5\" y=\"-126.8\" font-family=\"Helvetica,sans-Serif\" font-size=\"14.00\" fill=\"#000000\">value = [4, 1]</text>\n<text text-anchor=\"middle\" x=\"2426.5\" y=\"-111.8\" font-family=\"Helvetica,sans-Serif\" font-size=\"14.00\" fill=\"#000000\">class = 0</text>\n</g>\n<!-- 81&#45;&gt;82 -->\n<g id=\"edge82\" class=\"edge\">\n<title>81&#45;&gt;82</title>\n<path fill=\"none\" stroke=\"#000000\" d=\"M2464.8647,-222.8796C2460.6226,-214.3236 2456.111,-205.2238 2451.7279,-196.3833\"/>\n<polygon fill=\"#000000\" stroke=\"#000000\" points=\"2454.8012,-194.7026 2447.2234,-187.2981 2448.5297,-197.8121 2454.8012,-194.7026\"/>\n</g>\n<!-- 85 -->\n<g id=\"node86\" class=\"node\">\n<title>85</title>\n<path fill=\"#399de5\" stroke=\"#000000\" d=\"M2581,-179.5C2581,-179.5 2506,-179.5 2506,-179.5 2500,-179.5 2494,-173.5 2494,-167.5 2494,-167.5 2494,-123.5 2494,-123.5 2494,-117.5 2500,-111.5 2506,-111.5 2506,-111.5 2581,-111.5 2581,-111.5 2587,-111.5 2593,-117.5 2593,-123.5 2593,-123.5 2593,-167.5 2593,-167.5 2593,-173.5 2587,-179.5 2581,-179.5\"/>\n<text text-anchor=\"middle\" x=\"2543.5\" y=\"-164.3\" font-family=\"Helvetica,sans-Serif\" font-size=\"14.00\" fill=\"#000000\">gini = 0.0</text>\n<text text-anchor=\"middle\" x=\"2543.5\" y=\"-149.3\" font-family=\"Helvetica,sans-Serif\" font-size=\"14.00\" fill=\"#000000\">samples = 4</text>\n<text text-anchor=\"middle\" x=\"2543.5\" y=\"-134.3\" font-family=\"Helvetica,sans-Serif\" font-size=\"14.00\" fill=\"#000000\">value = [0, 4]</text>\n<text text-anchor=\"middle\" x=\"2543.5\" y=\"-119.3\" font-family=\"Helvetica,sans-Serif\" font-size=\"14.00\" fill=\"#000000\">class = 1</text>\n</g>\n<!-- 81&#45;&gt;85 -->\n<g id=\"edge85\" class=\"edge\">\n<title>81&#45;&gt;85</title>\n<path fill=\"none\" stroke=\"#000000\" d=\"M2505.7856,-222.8796C2511.145,-211.8835 2516.9422,-199.9893 2522.3463,-188.9015\"/>\n<polygon fill=\"#000000\" stroke=\"#000000\" points=\"2525.54,-190.3375 2526.7751,-179.8149 2519.2476,-187.2706 2525.54,-190.3375\"/>\n</g>\n<!-- 83 -->\n<g id=\"node84\" class=\"node\">\n<title>83</title>\n<path fill=\"#399de5\" stroke=\"#000000\" d=\"M2406,-68C2406,-68 2331,-68 2331,-68 2325,-68 2319,-62 2319,-56 2319,-56 2319,-12 2319,-12 2319,-6 2325,0 2331,0 2331,0 2406,0 2406,0 2412,0 2418,-6 2418,-12 2418,-12 2418,-56 2418,-56 2418,-62 2412,-68 2406,-68\"/>\n<text text-anchor=\"middle\" x=\"2368.5\" y=\"-52.8\" font-family=\"Helvetica,sans-Serif\" font-size=\"14.00\" fill=\"#000000\">gini = 0.0</text>\n<text text-anchor=\"middle\" x=\"2368.5\" y=\"-37.8\" font-family=\"Helvetica,sans-Serif\" font-size=\"14.00\" fill=\"#000000\">samples = 1</text>\n<text text-anchor=\"middle\" x=\"2368.5\" y=\"-22.8\" font-family=\"Helvetica,sans-Serif\" font-size=\"14.00\" fill=\"#000000\">value = [0, 1]</text>\n<text text-anchor=\"middle\" x=\"2368.5\" y=\"-7.8\" font-family=\"Helvetica,sans-Serif\" font-size=\"14.00\" fill=\"#000000\">class = 1</text>\n</g>\n<!-- 82&#45;&gt;83 -->\n<g id=\"edge83\" class=\"edge\">\n<title>82&#45;&gt;83</title>\n<path fill=\"none\" stroke=\"#000000\" d=\"M2404.9029,-103.9815C2400.3612,-95.2504 2395.5598,-86.0202 2390.9863,-77.2281\"/>\n<polygon fill=\"#000000\" stroke=\"#000000\" points=\"2394.0431,-75.52 2386.3233,-68.2637 2387.8331,-78.7504 2394.0431,-75.52\"/>\n</g>\n<!-- 84 -->\n<g id=\"node85\" class=\"node\">\n<title>84</title>\n<path fill=\"#e58139\" stroke=\"#000000\" d=\"M2523,-68C2523,-68 2448,-68 2448,-68 2442,-68 2436,-62 2436,-56 2436,-56 2436,-12 2436,-12 2436,-6 2442,0 2448,0 2448,0 2523,0 2523,0 2529,0 2535,-6 2535,-12 2535,-12 2535,-56 2535,-56 2535,-62 2529,-68 2523,-68\"/>\n<text text-anchor=\"middle\" x=\"2485.5\" y=\"-52.8\" font-family=\"Helvetica,sans-Serif\" font-size=\"14.00\" fill=\"#000000\">gini = 0.0</text>\n<text text-anchor=\"middle\" x=\"2485.5\" y=\"-37.8\" font-family=\"Helvetica,sans-Serif\" font-size=\"14.00\" fill=\"#000000\">samples = 4</text>\n<text text-anchor=\"middle\" x=\"2485.5\" y=\"-22.8\" font-family=\"Helvetica,sans-Serif\" font-size=\"14.00\" fill=\"#000000\">value = [4, 0]</text>\n<text text-anchor=\"middle\" x=\"2485.5\" y=\"-7.8\" font-family=\"Helvetica,sans-Serif\" font-size=\"14.00\" fill=\"#000000\">class = 0</text>\n</g>\n<!-- 82&#45;&gt;84 -->\n<g id=\"edge84\" class=\"edge\">\n<title>82&#45;&gt;84</title>\n<path fill=\"none\" stroke=\"#000000\" d=\"M2448.4694,-103.9815C2453.0895,-95.2504 2457.9736,-86.0202 2462.626,-77.2281\"/>\n<polygon fill=\"#000000\" stroke=\"#000000\" points=\"2465.7859,-78.7395 2467.3694,-68.2637 2459.5987,-75.4655 2465.7859,-78.7395\"/>\n</g>\n<!-- 88 -->\n<g id=\"node89\" class=\"node\">\n<title>88</title>\n<path fill=\"#63b2eb\" stroke=\"#000000\" d=\"M2177.5,-901C2177.5,-901 2085.5,-901 2085.5,-901 2079.5,-901 2073.5,-895 2073.5,-889 2073.5,-889 2073.5,-830 2073.5,-830 2073.5,-824 2079.5,-818 2085.5,-818 2085.5,-818 2177.5,-818 2177.5,-818 2183.5,-818 2189.5,-824 2189.5,-830 2189.5,-830 2189.5,-889 2189.5,-889 2189.5,-895 2183.5,-901 2177.5,-901\"/>\n<text text-anchor=\"middle\" x=\"2131.5\" y=\"-885.8\" font-family=\"Helvetica,sans-Serif\" font-size=\"14.00\" fill=\"#000000\">CCAvg &lt;= 3.95</text>\n<text text-anchor=\"middle\" x=\"2131.5\" y=\"-870.8\" font-family=\"Helvetica,sans-Serif\" font-size=\"14.00\" fill=\"#000000\">gini = 0.291</text>\n<text text-anchor=\"middle\" x=\"2131.5\" y=\"-855.8\" font-family=\"Helvetica,sans-Serif\" font-size=\"14.00\" fill=\"#000000\">samples = 17</text>\n<text text-anchor=\"middle\" x=\"2131.5\" y=\"-840.8\" font-family=\"Helvetica,sans-Serif\" font-size=\"14.00\" fill=\"#000000\">value = [3, 14]</text>\n<text text-anchor=\"middle\" x=\"2131.5\" y=\"-825.8\" font-family=\"Helvetica,sans-Serif\" font-size=\"14.00\" fill=\"#000000\">class = 1</text>\n</g>\n<!-- 87&#45;&gt;88 -->\n<g id=\"edge88\" class=\"edge\">\n<title>87&#45;&gt;88</title>\n<path fill=\"none\" stroke=\"#000000\" d=\"M2102.8891,-936.8796C2105.986,-928.5037 2109.2757,-919.6067 2112.4794,-910.942\"/>\n<polygon fill=\"#000000\" stroke=\"#000000\" points=\"2115.86,-911.8913 2116.0453,-901.2981 2109.2944,-909.4636 2115.86,-911.8913\"/>\n</g>\n<!-- 95 -->\n<g id=\"node96\" class=\"node\">\n<title>95</title>\n<path fill=\"#e58139\" stroke=\"#000000\" d=\"M2295,-893.5C2295,-893.5 2220,-893.5 2220,-893.5 2214,-893.5 2208,-887.5 2208,-881.5 2208,-881.5 2208,-837.5 2208,-837.5 2208,-831.5 2214,-825.5 2220,-825.5 2220,-825.5 2295,-825.5 2295,-825.5 2301,-825.5 2307,-831.5 2307,-837.5 2307,-837.5 2307,-881.5 2307,-881.5 2307,-887.5 2301,-893.5 2295,-893.5\"/>\n<text text-anchor=\"middle\" x=\"2257.5\" y=\"-878.3\" font-family=\"Helvetica,sans-Serif\" font-size=\"14.00\" fill=\"#000000\">gini = 0.0</text>\n<text text-anchor=\"middle\" x=\"2257.5\" y=\"-863.3\" font-family=\"Helvetica,sans-Serif\" font-size=\"14.00\" fill=\"#000000\">samples = 3</text>\n<text text-anchor=\"middle\" x=\"2257.5\" y=\"-848.3\" font-family=\"Helvetica,sans-Serif\" font-size=\"14.00\" fill=\"#000000\">value = [3, 0]</text>\n<text text-anchor=\"middle\" x=\"2257.5\" y=\"-833.3\" font-family=\"Helvetica,sans-Serif\" font-size=\"14.00\" fill=\"#000000\">class = 0</text>\n</g>\n<!-- 87&#45;&gt;95 -->\n<g id=\"edge95\" class=\"edge\">\n<title>87&#45;&gt;95</title>\n<path fill=\"none\" stroke=\"#000000\" d=\"M2141.7256,-940.6959C2159.7938,-928.0845 2180.0225,-913.9489 2198.5,-901 2199.1346,-900.5553 2199.7729,-900.1079 2200.4145,-899.6581\"/>\n<polygon fill=\"#000000\" stroke=\"#000000\" points=\"2202.7165,-902.3185 2208.8926,-893.71 2198.6962,-896.5882 2202.7165,-902.3185\"/>\n</g>\n<!-- 89 -->\n<g id=\"node90\" class=\"node\">\n<title>89</title>\n<path fill=\"#399de5\" stroke=\"#000000\" d=\"M2199,-774.5C2199,-774.5 2116,-774.5 2116,-774.5 2110,-774.5 2104,-768.5 2104,-762.5 2104,-762.5 2104,-718.5 2104,-718.5 2104,-712.5 2110,-706.5 2116,-706.5 2116,-706.5 2199,-706.5 2199,-706.5 2205,-706.5 2211,-712.5 2211,-718.5 2211,-718.5 2211,-762.5 2211,-762.5 2211,-768.5 2205,-774.5 2199,-774.5\"/>\n<text text-anchor=\"middle\" x=\"2157.5\" y=\"-759.3\" font-family=\"Helvetica,sans-Serif\" font-size=\"14.00\" fill=\"#000000\">gini = 0.0</text>\n<text text-anchor=\"middle\" x=\"2157.5\" y=\"-744.3\" font-family=\"Helvetica,sans-Serif\" font-size=\"14.00\" fill=\"#000000\">samples = 12</text>\n<text text-anchor=\"middle\" x=\"2157.5\" y=\"-729.3\" font-family=\"Helvetica,sans-Serif\" font-size=\"14.00\" fill=\"#000000\">value = [0, 12]</text>\n<text text-anchor=\"middle\" x=\"2157.5\" y=\"-714.3\" font-family=\"Helvetica,sans-Serif\" font-size=\"14.00\" fill=\"#000000\">class = 1</text>\n</g>\n<!-- 88&#45;&gt;89 -->\n<g id=\"edge89\" class=\"edge\">\n<title>88&#45;&gt;89</title>\n<path fill=\"none\" stroke=\"#000000\" d=\"M2140.5935,-817.8796C2142.924,-807.2134 2145.439,-795.7021 2147.7988,-784.9015\"/>\n<polygon fill=\"#000000\" stroke=\"#000000\" points=\"2151.2874,-785.3316 2150.0026,-774.8149 2144.4487,-783.8374 2151.2874,-785.3316\"/>\n</g>\n<!-- 90 -->\n<g id=\"node91\" class=\"node\">\n<title>90</title>\n<path fill=\"#f6d5bd\" stroke=\"#000000\" d=\"M2316,-782C2316,-782 2241,-782 2241,-782 2235,-782 2229,-776 2229,-770 2229,-770 2229,-711 2229,-711 2229,-705 2235,-699 2241,-699 2241,-699 2316,-699 2316,-699 2322,-699 2328,-705 2328,-711 2328,-711 2328,-770 2328,-770 2328,-776 2322,-782 2316,-782\"/>\n<text text-anchor=\"middle\" x=\"2278.5\" y=\"-766.8\" font-family=\"Helvetica,sans-Serif\" font-size=\"14.00\" fill=\"#000000\">Age &lt;= 45.5</text>\n<text text-anchor=\"middle\" x=\"2278.5\" y=\"-751.8\" font-family=\"Helvetica,sans-Serif\" font-size=\"14.00\" fill=\"#000000\">gini = 0.48</text>\n<text text-anchor=\"middle\" x=\"2278.5\" y=\"-736.8\" font-family=\"Helvetica,sans-Serif\" font-size=\"14.00\" fill=\"#000000\">samples = 5</text>\n<text text-anchor=\"middle\" x=\"2278.5\" y=\"-721.8\" font-family=\"Helvetica,sans-Serif\" font-size=\"14.00\" fill=\"#000000\">value = [3, 2]</text>\n<text text-anchor=\"middle\" x=\"2278.5\" y=\"-706.8\" font-family=\"Helvetica,sans-Serif\" font-size=\"14.00\" fill=\"#000000\">class = 0</text>\n</g>\n<!-- 88&#45;&gt;90 -->\n<g id=\"edge90\" class=\"edge\">\n<title>88&#45;&gt;90</title>\n<path fill=\"none\" stroke=\"#000000\" d=\"M2182.9135,-817.8796C2195.1385,-807.9831 2208.2623,-797.3591 2220.7496,-787.2503\"/>\n<polygon fill=\"#000000\" stroke=\"#000000\" points=\"2223.2775,-789.707 2228.8478,-780.6946 2218.8731,-784.2663 2223.2775,-789.707\"/>\n</g>\n<!-- 91 -->\n<g id=\"node92\" class=\"node\">\n<title>91</title>\n<path fill=\"#e58139\" stroke=\"#000000\" d=\"M2315,-655.5C2315,-655.5 2240,-655.5 2240,-655.5 2234,-655.5 2228,-649.5 2228,-643.5 2228,-643.5 2228,-599.5 2228,-599.5 2228,-593.5 2234,-587.5 2240,-587.5 2240,-587.5 2315,-587.5 2315,-587.5 2321,-587.5 2327,-593.5 2327,-599.5 2327,-599.5 2327,-643.5 2327,-643.5 2327,-649.5 2321,-655.5 2315,-655.5\"/>\n<text text-anchor=\"middle\" x=\"2277.5\" y=\"-640.3\" font-family=\"Helvetica,sans-Serif\" font-size=\"14.00\" fill=\"#000000\">gini = 0.0</text>\n<text text-anchor=\"middle\" x=\"2277.5\" y=\"-625.3\" font-family=\"Helvetica,sans-Serif\" font-size=\"14.00\" fill=\"#000000\">samples = 2</text>\n<text text-anchor=\"middle\" x=\"2277.5\" y=\"-610.3\" font-family=\"Helvetica,sans-Serif\" font-size=\"14.00\" fill=\"#000000\">value = [2, 0]</text>\n<text text-anchor=\"middle\" x=\"2277.5\" y=\"-595.3\" font-family=\"Helvetica,sans-Serif\" font-size=\"14.00\" fill=\"#000000\">class = 0</text>\n</g>\n<!-- 90&#45;&gt;91 -->\n<g id=\"edge91\" class=\"edge\">\n<title>90&#45;&gt;91</title>\n<path fill=\"none\" stroke=\"#000000\" d=\"M2278.1502,-698.8796C2278.0606,-688.2134 2277.9639,-676.7021 2277.8731,-665.9015\"/>\n<polygon fill=\"#000000\" stroke=\"#000000\" points=\"2281.3724,-665.7851 2277.7884,-655.8149 2274.3726,-665.844 2281.3724,-665.7851\"/>\n</g>\n<!-- 92 -->\n<g id=\"node93\" class=\"node\">\n<title>92</title>\n<path fill=\"#9ccef2\" stroke=\"#000000\" d=\"M2449.5,-663C2449.5,-663 2357.5,-663 2357.5,-663 2351.5,-663 2345.5,-657 2345.5,-651 2345.5,-651 2345.5,-592 2345.5,-592 2345.5,-586 2351.5,-580 2357.5,-580 2357.5,-580 2449.5,-580 2449.5,-580 2455.5,-580 2461.5,-586 2461.5,-592 2461.5,-592 2461.5,-651 2461.5,-651 2461.5,-657 2455.5,-663 2449.5,-663\"/>\n<text text-anchor=\"middle\" x=\"2403.5\" y=\"-647.8\" font-family=\"Helvetica,sans-Serif\" font-size=\"14.00\" fill=\"#000000\">CCAvg &lt;= 4.75</text>\n<text text-anchor=\"middle\" x=\"2403.5\" y=\"-632.8\" font-family=\"Helvetica,sans-Serif\" font-size=\"14.00\" fill=\"#000000\">gini = 0.444</text>\n<text text-anchor=\"middle\" x=\"2403.5\" y=\"-617.8\" font-family=\"Helvetica,sans-Serif\" font-size=\"14.00\" fill=\"#000000\">samples = 3</text>\n<text text-anchor=\"middle\" x=\"2403.5\" y=\"-602.8\" font-family=\"Helvetica,sans-Serif\" font-size=\"14.00\" fill=\"#000000\">value = [1, 2]</text>\n<text text-anchor=\"middle\" x=\"2403.5\" y=\"-587.8\" font-family=\"Helvetica,sans-Serif\" font-size=\"14.00\" fill=\"#000000\">class = 1</text>\n</g>\n<!-- 90&#45;&gt;92 -->\n<g id=\"edge92\" class=\"edge\">\n<title>90&#45;&gt;92</title>\n<path fill=\"none\" stroke=\"#000000\" d=\"M2322.2189,-698.8796C2331.8686,-689.6931 2342.1766,-679.8798 2352.0991,-670.4336\"/>\n<polygon fill=\"#000000\" stroke=\"#000000\" points=\"2354.765,-672.7282 2359.5945,-663.2981 2349.9384,-667.6582 2354.765,-672.7282\"/>\n</g>\n<!-- 93 -->\n<g id=\"node94\" class=\"node\">\n<title>93</title>\n<path fill=\"#399de5\" stroke=\"#000000\" d=\"M2424,-536.5C2424,-536.5 2349,-536.5 2349,-536.5 2343,-536.5 2337,-530.5 2337,-524.5 2337,-524.5 2337,-480.5 2337,-480.5 2337,-474.5 2343,-468.5 2349,-468.5 2349,-468.5 2424,-468.5 2424,-468.5 2430,-468.5 2436,-474.5 2436,-480.5 2436,-480.5 2436,-524.5 2436,-524.5 2436,-530.5 2430,-536.5 2424,-536.5\"/>\n<text text-anchor=\"middle\" x=\"2386.5\" y=\"-521.3\" font-family=\"Helvetica,sans-Serif\" font-size=\"14.00\" fill=\"#000000\">gini = 0.0</text>\n<text text-anchor=\"middle\" x=\"2386.5\" y=\"-506.3\" font-family=\"Helvetica,sans-Serif\" font-size=\"14.00\" fill=\"#000000\">samples = 2</text>\n<text text-anchor=\"middle\" x=\"2386.5\" y=\"-491.3\" font-family=\"Helvetica,sans-Serif\" font-size=\"14.00\" fill=\"#000000\">value = [0, 2]</text>\n<text text-anchor=\"middle\" x=\"2386.5\" y=\"-476.3\" font-family=\"Helvetica,sans-Serif\" font-size=\"14.00\" fill=\"#000000\">class = 1</text>\n</g>\n<!-- 92&#45;&gt;93 -->\n<g id=\"edge93\" class=\"edge\">\n<title>92&#45;&gt;93</title>\n<path fill=\"none\" stroke=\"#000000\" d=\"M2397.5542,-579.8796C2396.0305,-569.2134 2394.386,-557.7021 2392.8431,-546.9015\"/>\n<polygon fill=\"#000000\" stroke=\"#000000\" points=\"2396.2813,-546.2194 2391.4021,-536.8149 2389.3516,-547.2094 2396.2813,-546.2194\"/>\n</g>\n<!-- 94 -->\n<g id=\"node95\" class=\"node\">\n<title>94</title>\n<path fill=\"#e58139\" stroke=\"#000000\" d=\"M2541,-536.5C2541,-536.5 2466,-536.5 2466,-536.5 2460,-536.5 2454,-530.5 2454,-524.5 2454,-524.5 2454,-480.5 2454,-480.5 2454,-474.5 2460,-468.5 2466,-468.5 2466,-468.5 2541,-468.5 2541,-468.5 2547,-468.5 2553,-474.5 2553,-480.5 2553,-480.5 2553,-524.5 2553,-524.5 2553,-530.5 2547,-536.5 2541,-536.5\"/>\n<text text-anchor=\"middle\" x=\"2503.5\" y=\"-521.3\" font-family=\"Helvetica,sans-Serif\" font-size=\"14.00\" fill=\"#000000\">gini = 0.0</text>\n<text text-anchor=\"middle\" x=\"2503.5\" y=\"-506.3\" font-family=\"Helvetica,sans-Serif\" font-size=\"14.00\" fill=\"#000000\">samples = 1</text>\n<text text-anchor=\"middle\" x=\"2503.5\" y=\"-491.3\" font-family=\"Helvetica,sans-Serif\" font-size=\"14.00\" fill=\"#000000\">value = [1, 0]</text>\n<text text-anchor=\"middle\" x=\"2503.5\" y=\"-476.3\" font-family=\"Helvetica,sans-Serif\" font-size=\"14.00\" fill=\"#000000\">class = 0</text>\n</g>\n<!-- 92&#45;&gt;94 -->\n<g id=\"edge94\" class=\"edge\">\n<title>92&#45;&gt;94</title>\n<path fill=\"none\" stroke=\"#000000\" d=\"M2438.4751,-579.8796C2448.0852,-568.4436 2458.5115,-556.0363 2468.1429,-544.575\"/>\n<polygon fill=\"#000000\" stroke=\"#000000\" points=\"2470.91,-546.7225 2474.6639,-536.8149 2465.5509,-542.219 2470.91,-546.7225\"/>\n</g>\n<!-- 97 -->\n<g id=\"node98\" class=\"node\">\n<title>97</title>\n<path fill=\"#e89253\" stroke=\"#000000\" d=\"M2323.5,-1139C2323.5,-1139 2223.5,-1139 2223.5,-1139 2217.5,-1139 2211.5,-1133 2211.5,-1127 2211.5,-1127 2211.5,-1068 2211.5,-1068 2211.5,-1062 2217.5,-1056 2223.5,-1056 2223.5,-1056 2323.5,-1056 2323.5,-1056 2329.5,-1056 2335.5,-1062 2335.5,-1068 2335.5,-1068 2335.5,-1127 2335.5,-1127 2335.5,-1133 2329.5,-1139 2323.5,-1139\"/>\n<text text-anchor=\"middle\" x=\"2273.5\" y=\"-1123.8\" font-family=\"Helvetica,sans-Serif\" font-size=\"14.00\" fill=\"#000000\">Family &lt;= 2.5</text>\n<text text-anchor=\"middle\" x=\"2273.5\" y=\"-1108.8\" font-family=\"Helvetica,sans-Serif\" font-size=\"14.00\" fill=\"#000000\">gini = 0.208</text>\n<text text-anchor=\"middle\" x=\"2273.5\" y=\"-1093.8\" font-family=\"Helvetica,sans-Serif\" font-size=\"14.00\" fill=\"#000000\">samples = 424</text>\n<text text-anchor=\"middle\" x=\"2273.5\" y=\"-1078.8\" font-family=\"Helvetica,sans-Serif\" font-size=\"14.00\" fill=\"#000000\">value = [374, 50]</text>\n<text text-anchor=\"middle\" x=\"2273.5\" y=\"-1063.8\" font-family=\"Helvetica,sans-Serif\" font-size=\"14.00\" fill=\"#000000\">class = 0</text>\n</g>\n<!-- 96&#45;&gt;97 -->\n<g id=\"edge97\" class=\"edge\">\n<title>96&#45;&gt;97</title>\n<path fill=\"none\" stroke=\"#000000\" d=\"M2273.5,-1174.8796C2273.5,-1166.6838 2273.5,-1157.9891 2273.5,-1149.5013\"/>\n<polygon fill=\"#000000\" stroke=\"#000000\" points=\"2277.0001,-1149.298 2273.5,-1139.2981 2270.0001,-1149.2981 2277.0001,-1149.298\"/>\n</g>\n<!-- 100 -->\n<g id=\"node101\" class=\"node\">\n<title>100</title>\n<path fill=\"#3c9ee5\" stroke=\"#000000\" d=\"M2522,-1139C2522,-1139 2421,-1139 2421,-1139 2415,-1139 2409,-1133 2409,-1127 2409,-1127 2409,-1068 2409,-1068 2409,-1062 2415,-1056 2421,-1056 2421,-1056 2522,-1056 2522,-1056 2528,-1056 2534,-1062 2534,-1068 2534,-1068 2534,-1127 2534,-1127 2534,-1133 2528,-1139 2522,-1139\"/>\n<text text-anchor=\"middle\" x=\"2471.5\" y=\"-1123.8\" font-family=\"Helvetica,sans-Serif\" font-size=\"14.00\" fill=\"#000000\">Income &lt;= 116.5</text>\n<text text-anchor=\"middle\" x=\"2471.5\" y=\"-1108.8\" font-family=\"Helvetica,sans-Serif\" font-size=\"14.00\" fill=\"#000000\">gini = 0.026</text>\n<text text-anchor=\"middle\" x=\"2471.5\" y=\"-1093.8\" font-family=\"Helvetica,sans-Serif\" font-size=\"14.00\" fill=\"#000000\">samples = 225</text>\n<text text-anchor=\"middle\" x=\"2471.5\" y=\"-1078.8\" font-family=\"Helvetica,sans-Serif\" font-size=\"14.00\" fill=\"#000000\">value = [3, 222]</text>\n<text text-anchor=\"middle\" x=\"2471.5\" y=\"-1063.8\" font-family=\"Helvetica,sans-Serif\" font-size=\"14.00\" fill=\"#000000\">class = 1</text>\n</g>\n<!-- 96&#45;&gt;100 -->\n<g id=\"edge100\" class=\"edge\">\n<title>96&#45;&gt;100</title>\n<path fill=\"none\" stroke=\"#000000\" d=\"M2339.7064,-1176.7093C2359.0966,-1165.0556 2380.3788,-1152.2648 2400.078,-1140.4253\"/>\n<polygon fill=\"#000000\" stroke=\"#000000\" points=\"2401.94,-1143.3898 2408.7081,-1135.2385 2398.334,-1137.39 2401.94,-1143.3898\"/>\n</g>\n<!-- 98 -->\n<g id=\"node99\" class=\"node\">\n<title>98</title>\n<path fill=\"#e58139\" stroke=\"#000000\" d=\"M2263.5,-1012.5C2263.5,-1012.5 2171.5,-1012.5 2171.5,-1012.5 2165.5,-1012.5 2159.5,-1006.5 2159.5,-1000.5 2159.5,-1000.5 2159.5,-956.5 2159.5,-956.5 2159.5,-950.5 2165.5,-944.5 2171.5,-944.5 2171.5,-944.5 2263.5,-944.5 2263.5,-944.5 2269.5,-944.5 2275.5,-950.5 2275.5,-956.5 2275.5,-956.5 2275.5,-1000.5 2275.5,-1000.5 2275.5,-1006.5 2269.5,-1012.5 2263.5,-1012.5\"/>\n<text text-anchor=\"middle\" x=\"2217.5\" y=\"-997.3\" font-family=\"Helvetica,sans-Serif\" font-size=\"14.00\" fill=\"#000000\">gini = 0.0</text>\n<text text-anchor=\"middle\" x=\"2217.5\" y=\"-982.3\" font-family=\"Helvetica,sans-Serif\" font-size=\"14.00\" fill=\"#000000\">samples = 374</text>\n<text text-anchor=\"middle\" x=\"2217.5\" y=\"-967.3\" font-family=\"Helvetica,sans-Serif\" font-size=\"14.00\" fill=\"#000000\">value = [374, 0]</text>\n<text text-anchor=\"middle\" x=\"2217.5\" y=\"-952.3\" font-family=\"Helvetica,sans-Serif\" font-size=\"14.00\" fill=\"#000000\">class = 0</text>\n</g>\n<!-- 97&#45;&gt;98 -->\n<g id=\"edge98\" class=\"edge\">\n<title>97&#45;&gt;98</title>\n<path fill=\"none\" stroke=\"#000000\" d=\"M2253.9139,-1055.8796C2248.7393,-1044.8835 2243.142,-1032.9893 2237.9242,-1021.9015\"/>\n<polygon fill=\"#000000\" stroke=\"#000000\" points=\"2241.0731,-1020.3728 2233.6482,-1012.8149 2234.7394,-1023.3534 2241.0731,-1020.3728\"/>\n</g>\n<!-- 99 -->\n<g id=\"node100\" class=\"node\">\n<title>99</title>\n<path fill=\"#399de5\" stroke=\"#000000\" d=\"M2389,-1012.5C2389,-1012.5 2306,-1012.5 2306,-1012.5 2300,-1012.5 2294,-1006.5 2294,-1000.5 2294,-1000.5 2294,-956.5 2294,-956.5 2294,-950.5 2300,-944.5 2306,-944.5 2306,-944.5 2389,-944.5 2389,-944.5 2395,-944.5 2401,-950.5 2401,-956.5 2401,-956.5 2401,-1000.5 2401,-1000.5 2401,-1006.5 2395,-1012.5 2389,-1012.5\"/>\n<text text-anchor=\"middle\" x=\"2347.5\" y=\"-997.3\" font-family=\"Helvetica,sans-Serif\" font-size=\"14.00\" fill=\"#000000\">gini = 0.0</text>\n<text text-anchor=\"middle\" x=\"2347.5\" y=\"-982.3\" font-family=\"Helvetica,sans-Serif\" font-size=\"14.00\" fill=\"#000000\">samples = 50</text>\n<text text-anchor=\"middle\" x=\"2347.5\" y=\"-967.3\" font-family=\"Helvetica,sans-Serif\" font-size=\"14.00\" fill=\"#000000\">value = [0, 50]</text>\n<text text-anchor=\"middle\" x=\"2347.5\" y=\"-952.3\" font-family=\"Helvetica,sans-Serif\" font-size=\"14.00\" fill=\"#000000\">class = 1</text>\n</g>\n<!-- 97&#45;&gt;99 -->\n<g id=\"edge99\" class=\"edge\">\n<title>97&#45;&gt;99</title>\n<path fill=\"none\" stroke=\"#000000\" d=\"M2299.3816,-1055.8796C2306.2879,-1044.7735 2313.7639,-1032.7513 2320.7175,-1021.5691\"/>\n<polygon fill=\"#000000\" stroke=\"#000000\" points=\"2323.8527,-1023.1552 2326.1613,-1012.8149 2317.9083,-1019.4587 2323.8527,-1023.1552\"/>\n</g>\n<!-- 101 -->\n<g id=\"node102\" class=\"node\">\n<title>101</title>\n<path fill=\"#8ec7f0\" stroke=\"#000000\" d=\"M2511.5,-1020C2511.5,-1020 2431.5,-1020 2431.5,-1020 2425.5,-1020 2419.5,-1014 2419.5,-1008 2419.5,-1008 2419.5,-949 2419.5,-949 2419.5,-943 2425.5,-937 2431.5,-937 2431.5,-937 2511.5,-937 2511.5,-937 2517.5,-937 2523.5,-943 2523.5,-949 2523.5,-949 2523.5,-1008 2523.5,-1008 2523.5,-1014 2517.5,-1020 2511.5,-1020\"/>\n<text text-anchor=\"middle\" x=\"2471.5\" y=\"-1004.8\" font-family=\"Helvetica,sans-Serif\" font-size=\"14.00\" fill=\"#000000\">Age &lt;= 57.5</text>\n<text text-anchor=\"middle\" x=\"2471.5\" y=\"-989.8\" font-family=\"Helvetica,sans-Serif\" font-size=\"14.00\" fill=\"#000000\">gini = 0.42</text>\n<text text-anchor=\"middle\" x=\"2471.5\" y=\"-974.8\" font-family=\"Helvetica,sans-Serif\" font-size=\"14.00\" fill=\"#000000\">samples = 10</text>\n<text text-anchor=\"middle\" x=\"2471.5\" y=\"-959.8\" font-family=\"Helvetica,sans-Serif\" font-size=\"14.00\" fill=\"#000000\">value = [3, 7]</text>\n<text text-anchor=\"middle\" x=\"2471.5\" y=\"-944.8\" font-family=\"Helvetica,sans-Serif\" font-size=\"14.00\" fill=\"#000000\">class = 1</text>\n</g>\n<!-- 100&#45;&gt;101 -->\n<g id=\"edge101\" class=\"edge\">\n<title>100&#45;&gt;101</title>\n<path fill=\"none\" stroke=\"#000000\" d=\"M2471.5,-1055.8796C2471.5,-1047.6838 2471.5,-1038.9891 2471.5,-1030.5013\"/>\n<polygon fill=\"#000000\" stroke=\"#000000\" points=\"2475.0001,-1030.298 2471.5,-1020.2981 2468.0001,-1030.2981 2475.0001,-1030.298\"/>\n</g>\n<!-- 106 -->\n<g id=\"node107\" class=\"node\">\n<title>106</title>\n<path fill=\"#399de5\" stroke=\"#000000\" d=\"M2645.5,-1012.5C2645.5,-1012.5 2553.5,-1012.5 2553.5,-1012.5 2547.5,-1012.5 2541.5,-1006.5 2541.5,-1000.5 2541.5,-1000.5 2541.5,-956.5 2541.5,-956.5 2541.5,-950.5 2547.5,-944.5 2553.5,-944.5 2553.5,-944.5 2645.5,-944.5 2645.5,-944.5 2651.5,-944.5 2657.5,-950.5 2657.5,-956.5 2657.5,-956.5 2657.5,-1000.5 2657.5,-1000.5 2657.5,-1006.5 2651.5,-1012.5 2645.5,-1012.5\"/>\n<text text-anchor=\"middle\" x=\"2599.5\" y=\"-997.3\" font-family=\"Helvetica,sans-Serif\" font-size=\"14.00\" fill=\"#000000\">gini = 0.0</text>\n<text text-anchor=\"middle\" x=\"2599.5\" y=\"-982.3\" font-family=\"Helvetica,sans-Serif\" font-size=\"14.00\" fill=\"#000000\">samples = 215</text>\n<text text-anchor=\"middle\" x=\"2599.5\" y=\"-967.3\" font-family=\"Helvetica,sans-Serif\" font-size=\"14.00\" fill=\"#000000\">value = [0, 215]</text>\n<text text-anchor=\"middle\" x=\"2599.5\" y=\"-952.3\" font-family=\"Helvetica,sans-Serif\" font-size=\"14.00\" fill=\"#000000\">class = 1</text>\n</g>\n<!-- 100&#45;&gt;106 -->\n<g id=\"edge106\" class=\"edge\">\n<title>100&#45;&gt;106</title>\n<path fill=\"none\" stroke=\"#000000\" d=\"M2516.2682,-1055.8796C2528.8056,-1044.2237 2542.4284,-1031.5587 2554.953,-1019.9148\"/>\n<polygon fill=\"#000000\" stroke=\"#000000\" points=\"2557.6491,-1022.1872 2562.5898,-1012.8149 2552.8828,-1017.0605 2557.6491,-1022.1872\"/>\n</g>\n<!-- 102 -->\n<g id=\"node103\" class=\"node\">\n<title>102</title>\n<path fill=\"#55abe9\" stroke=\"#000000\" d=\"M2489,-901C2489,-901 2382,-901 2382,-901 2376,-901 2370,-895 2370,-889 2370,-889 2370,-830 2370,-830 2370,-824 2376,-818 2382,-818 2382,-818 2489,-818 2489,-818 2495,-818 2501,-824 2501,-830 2501,-830 2501,-889 2501,-889 2501,-895 2495,-901 2489,-901\"/>\n<text text-anchor=\"middle\" x=\"2435.5\" y=\"-885.8\" font-family=\"Helvetica,sans-Serif\" font-size=\"14.00\" fill=\"#000000\">Mortgage &lt;= 94.5</text>\n<text text-anchor=\"middle\" x=\"2435.5\" y=\"-870.8\" font-family=\"Helvetica,sans-Serif\" font-size=\"14.00\" fill=\"#000000\">gini = 0.219</text>\n<text text-anchor=\"middle\" x=\"2435.5\" y=\"-855.8\" font-family=\"Helvetica,sans-Serif\" font-size=\"14.00\" fill=\"#000000\">samples = 8</text>\n<text text-anchor=\"middle\" x=\"2435.5\" y=\"-840.8\" font-family=\"Helvetica,sans-Serif\" font-size=\"14.00\" fill=\"#000000\">value = [1, 7]</text>\n<text text-anchor=\"middle\" x=\"2435.5\" y=\"-825.8\" font-family=\"Helvetica,sans-Serif\" font-size=\"14.00\" fill=\"#000000\">class = 1</text>\n</g>\n<!-- 101&#45;&gt;102 -->\n<g id=\"edge102\" class=\"edge\">\n<title>101&#45;&gt;102</title>\n<path fill=\"none\" stroke=\"#000000\" d=\"M2458.9089,-936.8796C2456.3751,-928.5037 2453.6835,-919.6067 2451.0623,-910.942\"/>\n<polygon fill=\"#000000\" stroke=\"#000000\" points=\"2454.3905,-909.8562 2448.1448,-901.2981 2447.6904,-911.8832 2454.3905,-909.8562\"/>\n</g>\n<!-- 105 -->\n<g id=\"node106\" class=\"node\">\n<title>105</title>\n<path fill=\"#e58139\" stroke=\"#000000\" d=\"M2606,-893.5C2606,-893.5 2531,-893.5 2531,-893.5 2525,-893.5 2519,-887.5 2519,-881.5 2519,-881.5 2519,-837.5 2519,-837.5 2519,-831.5 2525,-825.5 2531,-825.5 2531,-825.5 2606,-825.5 2606,-825.5 2612,-825.5 2618,-831.5 2618,-837.5 2618,-837.5 2618,-881.5 2618,-881.5 2618,-887.5 2612,-893.5 2606,-893.5\"/>\n<text text-anchor=\"middle\" x=\"2568.5\" y=\"-878.3\" font-family=\"Helvetica,sans-Serif\" font-size=\"14.00\" fill=\"#000000\">gini = 0.0</text>\n<text text-anchor=\"middle\" x=\"2568.5\" y=\"-863.3\" font-family=\"Helvetica,sans-Serif\" font-size=\"14.00\" fill=\"#000000\">samples = 2</text>\n<text text-anchor=\"middle\" x=\"2568.5\" y=\"-848.3\" font-family=\"Helvetica,sans-Serif\" font-size=\"14.00\" fill=\"#000000\">value = [2, 0]</text>\n<text text-anchor=\"middle\" x=\"2568.5\" y=\"-833.3\" font-family=\"Helvetica,sans-Serif\" font-size=\"14.00\" fill=\"#000000\">class = 0</text>\n</g>\n<!-- 101&#45;&gt;105 -->\n<g id=\"edge105\" class=\"edge\">\n<title>101&#45;&gt;105</title>\n<path fill=\"none\" stroke=\"#000000\" d=\"M2505.4259,-936.8796C2514.7476,-925.4436 2524.8612,-913.0363 2534.2036,-901.575\"/>\n<polygon fill=\"#000000\" stroke=\"#000000\" points=\"2536.9237,-903.7775 2540.529,-893.8149 2531.4979,-899.3548 2536.9237,-903.7775\"/>\n</g>\n<!-- 103 -->\n<g id=\"node104\" class=\"node\">\n<title>103</title>\n<path fill=\"#399de5\" stroke=\"#000000\" d=\"M2447,-774.5C2447,-774.5 2372,-774.5 2372,-774.5 2366,-774.5 2360,-768.5 2360,-762.5 2360,-762.5 2360,-718.5 2360,-718.5 2360,-712.5 2366,-706.5 2372,-706.5 2372,-706.5 2447,-706.5 2447,-706.5 2453,-706.5 2459,-712.5 2459,-718.5 2459,-718.5 2459,-762.5 2459,-762.5 2459,-768.5 2453,-774.5 2447,-774.5\"/>\n<text text-anchor=\"middle\" x=\"2409.5\" y=\"-759.3\" font-family=\"Helvetica,sans-Serif\" font-size=\"14.00\" fill=\"#000000\">gini = 0.0</text>\n<text text-anchor=\"middle\" x=\"2409.5\" y=\"-744.3\" font-family=\"Helvetica,sans-Serif\" font-size=\"14.00\" fill=\"#000000\">samples = 7</text>\n<text text-anchor=\"middle\" x=\"2409.5\" y=\"-729.3\" font-family=\"Helvetica,sans-Serif\" font-size=\"14.00\" fill=\"#000000\">value = [0, 7]</text>\n<text text-anchor=\"middle\" x=\"2409.5\" y=\"-714.3\" font-family=\"Helvetica,sans-Serif\" font-size=\"14.00\" fill=\"#000000\">class = 1</text>\n</g>\n<!-- 102&#45;&gt;103 -->\n<g id=\"edge103\" class=\"edge\">\n<title>102&#45;&gt;103</title>\n<path fill=\"none\" stroke=\"#000000\" d=\"M2426.4065,-817.8796C2424.076,-807.2134 2421.561,-795.7021 2419.2012,-784.9015\"/>\n<polygon fill=\"#000000\" stroke=\"#000000\" points=\"2422.5513,-783.8374 2416.9974,-774.8149 2415.7126,-785.3316 2422.5513,-783.8374\"/>\n</g>\n<!-- 104 -->\n<g id=\"node105\" class=\"node\">\n<title>104</title>\n<path fill=\"#e58139\" stroke=\"#000000\" d=\"M2564,-774.5C2564,-774.5 2489,-774.5 2489,-774.5 2483,-774.5 2477,-768.5 2477,-762.5 2477,-762.5 2477,-718.5 2477,-718.5 2477,-712.5 2483,-706.5 2489,-706.5 2489,-706.5 2564,-706.5 2564,-706.5 2570,-706.5 2576,-712.5 2576,-718.5 2576,-718.5 2576,-762.5 2576,-762.5 2576,-768.5 2570,-774.5 2564,-774.5\"/>\n<text text-anchor=\"middle\" x=\"2526.5\" y=\"-759.3\" font-family=\"Helvetica,sans-Serif\" font-size=\"14.00\" fill=\"#000000\">gini = 0.0</text>\n<text text-anchor=\"middle\" x=\"2526.5\" y=\"-744.3\" font-family=\"Helvetica,sans-Serif\" font-size=\"14.00\" fill=\"#000000\">samples = 1</text>\n<text text-anchor=\"middle\" x=\"2526.5\" y=\"-729.3\" font-family=\"Helvetica,sans-Serif\" font-size=\"14.00\" fill=\"#000000\">value = [1, 0]</text>\n<text text-anchor=\"middle\" x=\"2526.5\" y=\"-714.3\" font-family=\"Helvetica,sans-Serif\" font-size=\"14.00\" fill=\"#000000\">class = 0</text>\n</g>\n<!-- 102&#45;&gt;104 -->\n<g id=\"edge104\" class=\"edge\">\n<title>102&#45;&gt;104</title>\n<path fill=\"none\" stroke=\"#000000\" d=\"M2467.3274,-817.8796C2475.9884,-806.5536 2485.3781,-794.2748 2494.072,-782.9058\"/>\n<polygon fill=\"#000000\" stroke=\"#000000\" points=\"2496.9649,-784.8846 2500.2592,-774.8149 2491.4044,-780.6324 2496.9649,-784.8846\"/>\n</g>\n</g>\n</svg>\n"
          },
          "metadata": {
            "tags": []
          },
          "execution_count": 42
        }
      ]
    },
    {
      "cell_type": "code",
      "metadata": {
        "id": "bhIJCPIorSPi",
        "colab_type": "code",
        "colab": {
          "base_uri": "https://localhost:8080/",
          "height": 231
        },
        "outputId": "bc0441ce-d1b1-4f82-f241-cde9bcd0d435"
      },
      "source": [
        "#Cross Validation score for decision tree\n",
        "\n",
        "from sklearn.model_selection import cross_val_score\n",
        "\n",
        "scores_tree=cross_val_score(gstree, xtree_train, y_train, \n",
        "                         scoring='accuracy', cv=10)\n",
        "print('CV accuracy: %.3f +/- %.3f' % (np.mean(scores_tree), np.std(scores_tree)))"
      ],
      "execution_count": 43,
      "outputs": [
        {
          "output_type": "error",
          "ename": "NameError",
          "evalue": "ignored",
          "traceback": [
            "\u001b[0;31m---------------------------------------------------------------------------\u001b[0m",
            "\u001b[0;31mNameError\u001b[0m                                 Traceback (most recent call last)",
            "\u001b[0;32m<ipython-input-43-33415afa5d45>\u001b[0m in \u001b[0;36m<module>\u001b[0;34m()\u001b[0m\n\u001b[1;32m      3\u001b[0m \u001b[0;32mfrom\u001b[0m \u001b[0msklearn\u001b[0m\u001b[0;34m.\u001b[0m\u001b[0mmodel_selection\u001b[0m \u001b[0;32mimport\u001b[0m \u001b[0mcross_val_score\u001b[0m\u001b[0;34m\u001b[0m\u001b[0;34m\u001b[0m\u001b[0m\n\u001b[1;32m      4\u001b[0m \u001b[0;34m\u001b[0m\u001b[0m\n\u001b[0;32m----> 5\u001b[0;31m scores_tree=cross_val_score(gstree, xtree_train, y_train, \n\u001b[0m\u001b[1;32m      6\u001b[0m                          scoring='accuracy', cv=10)\n\u001b[1;32m      7\u001b[0m \u001b[0mprint\u001b[0m\u001b[0;34m(\u001b[0m\u001b[0;34m'CV accuracy: %.3f +/- %.3f'\u001b[0m \u001b[0;34m%\u001b[0m \u001b[0;34m(\u001b[0m\u001b[0mnp\u001b[0m\u001b[0;34m.\u001b[0m\u001b[0mmean\u001b[0m\u001b[0;34m(\u001b[0m\u001b[0mscores_tree\u001b[0m\u001b[0;34m)\u001b[0m\u001b[0;34m,\u001b[0m \u001b[0mnp\u001b[0m\u001b[0;34m.\u001b[0m\u001b[0mstd\u001b[0m\u001b[0;34m(\u001b[0m\u001b[0mscores_tree\u001b[0m\u001b[0;34m)\u001b[0m\u001b[0;34m)\u001b[0m\u001b[0;34m)\u001b[0m\u001b[0;34m\u001b[0m\u001b[0;34m\u001b[0m\u001b[0m\n",
            "\u001b[0;31mNameError\u001b[0m: name 'gstree' is not defined"
          ]
        }
      ]
    },
    {
      "cell_type": "markdown",
      "metadata": {
        "id": "C27qXJzhrSPm",
        "colab_type": "text"
      },
      "source": [
        "### KNN"
      ]
    },
    {
      "cell_type": "code",
      "metadata": {
        "id": "0z6VNwAirSPn",
        "colab_type": "code",
        "colab": {}
      },
      "source": [
        "# Standardize for x (both training and test data)\n",
        "\n",
        "from sklearn.preprocessing import StandardScaler\n",
        "\n",
        "sc = StandardScaler()\n",
        "\n",
        "sc.fit(x_train)\n",
        "x_train_std = sc.transform(x_train)\n",
        "x_test_std = sc.transform(x_test)\n",
        "x_std = sc.transform(x)"
      ],
      "execution_count": 52,
      "outputs": []
    },
    {
      "cell_type": "code",
      "metadata": {
        "id": "96khaYhNrSPs",
        "colab_type": "code",
        "colab": {
          "base_uri": "https://localhost:8080/",
          "height": 153
        },
        "outputId": "91900ff5-01d6-4dd5-e8f0-25413e0eb94c"
      },
      "source": [
        "# Use GridSearch to find the best KNN parameters, and fit the training data to apply to test data.\n",
        "\n",
        "from sklearn import neighbors, datasets\n",
        "from sklearn.model_selection import GridSearchCV \n",
        "\n",
        "gsknn = GridSearchCV(estimator=neighbors.KNeighborsClassifier(p=2, \n",
        "                           metric='minkowski'),\n",
        "                  param_grid=[{'n_neighbors': [1,3,5,7,9,11,13,15,17,19,21],\n",
        "                               'weights':['uniform','distance']}],\n",
        "                  scoring='accuracy',\n",
        "                  cv=10,\n",
        "                  n_jobs=4)\n",
        "\n",
        "gsknn_fit = gsknn.fit(x_train_std, y_train)          \n",
        "y_pred_knn = gsknn_fit.predict(x_test_std)\n",
        "\n",
        "## best parameter\n",
        "print(gsknn.best_params_)\n",
        "\n",
        "## best estimator\n",
        "print(\"KNN parameters: \\n\", gsknn_fit.best_estimator_)\n",
        "\n",
        "## best score\n",
        "print(\"Best score: \", gsknn.best_score_)\n",
        "\n",
        "## The overall accuracy on the training set:\n",
        "print(\"Training score: \", gsknn.score(x_train_std, y_train))\n",
        "\n",
        "## The overall accuracy on the test set:\n",
        "print(\"Test accuracy: \", gsknn.score(x_test_std, y_test))"
      ],
      "execution_count": 53,
      "outputs": [
        {
          "output_type": "stream",
          "text": [
            "{'n_neighbors': 1, 'weights': 'uniform'}\n",
            "KNN parameters: \n",
            " KNeighborsClassifier(algorithm='auto', leaf_size=30, metric='minkowski',\n",
            "                     metric_params=None, n_jobs=None, n_neighbors=1, p=2,\n",
            "                     weights='uniform')\n",
            "Best score:  0.9588571428571427\n",
            "Training score:  1.0\n",
            "Test accuracy:  0.966\n"
          ],
          "name": "stdout"
        }
      ]
    },
    {
      "cell_type": "code",
      "metadata": {
        "id": "vTbQCQ8HrSPx",
        "colab_type": "code",
        "colab": {
          "base_uri": "https://localhost:8080/",
          "height": 418
        },
        "outputId": "6dcec5b9-438b-41b4-f177-8477c21bcac2"
      },
      "source": [
        "# Generalization Performance of KNN on test data\n",
        "\n",
        "accuracy = sum(y_pred_knn == y_test)/len(y_test)\n",
        "error = 1 - accuracy\n",
        "print(\"The predictive accuracy is: \", round(accuracy, 2))\n",
        "print(\"The classification error is: \", round(error, 2))\n",
        "print(classification_report(y_test, y_pred_knn))\n",
        "\n",
        "# Confusion matrix\n",
        "cnf_matrix = pd.DataFrame(confusion_matrix(y_test, y_pred_knn), columns = ['Predict 0', 'Predict 1'], index = ['Actual 0', 'Actual 1'])\n",
        "print(\"The Confusion matrix: \\n\", cnf_matrix)"
      ],
      "execution_count": 54,
      "outputs": [
        {
          "output_type": "stream",
          "text": [
            "The predictive accuracy is:  0.97\n",
            "The classification error is:  0.03\n",
            "              precision    recall  f1-score   support\n",
            "\n",
            "           0       0.98      0.99      0.98      1356\n",
            "           1       0.87      0.76      0.81       144\n",
            "\n",
            "    accuracy                           0.97      1500\n",
            "   macro avg       0.92      0.88      0.90      1500\n",
            "weighted avg       0.96      0.97      0.97      1500\n",
            "\n"
          ],
          "name": "stdout"
        },
        {
          "output_type": "error",
          "ename": "NameError",
          "evalue": "ignored",
          "traceback": [
            "\u001b[0;31m---------------------------------------------------------------------------\u001b[0m",
            "\u001b[0;31mNameError\u001b[0m                                 Traceback (most recent call last)",
            "\u001b[0;32m<ipython-input-54-c14df5825f5b>\u001b[0m in \u001b[0;36m<module>\u001b[0;34m()\u001b[0m\n\u001b[1;32m      8\u001b[0m \u001b[0;34m\u001b[0m\u001b[0m\n\u001b[1;32m      9\u001b[0m \u001b[0;31m# Confusion matrix\u001b[0m\u001b[0;34m\u001b[0m\u001b[0;34m\u001b[0m\u001b[0;34m\u001b[0m\u001b[0m\n\u001b[0;32m---> 10\u001b[0;31m \u001b[0mcnf_matrix\u001b[0m \u001b[0;34m=\u001b[0m \u001b[0mpd\u001b[0m\u001b[0;34m.\u001b[0m\u001b[0mDataFrame\u001b[0m\u001b[0;34m(\u001b[0m\u001b[0mconfusion_matrix\u001b[0m\u001b[0;34m(\u001b[0m\u001b[0my_test\u001b[0m\u001b[0;34m,\u001b[0m \u001b[0my_pred_knn\u001b[0m\u001b[0;34m)\u001b[0m\u001b[0;34m,\u001b[0m \u001b[0mcolumns\u001b[0m \u001b[0;34m=\u001b[0m \u001b[0;34m[\u001b[0m\u001b[0;34m'Predict 0'\u001b[0m\u001b[0;34m,\u001b[0m \u001b[0;34m'Predict 1'\u001b[0m\u001b[0;34m]\u001b[0m\u001b[0;34m,\u001b[0m \u001b[0mindex\u001b[0m \u001b[0;34m=\u001b[0m \u001b[0;34m[\u001b[0m\u001b[0;34m'Actual 0'\u001b[0m\u001b[0;34m,\u001b[0m \u001b[0;34m'Actual 1'\u001b[0m\u001b[0;34m]\u001b[0m\u001b[0;34m)\u001b[0m\u001b[0;34m\u001b[0m\u001b[0;34m\u001b[0m\u001b[0m\n\u001b[0m\u001b[1;32m     11\u001b[0m \u001b[0mprint\u001b[0m\u001b[0;34m(\u001b[0m\u001b[0;34m\"The Confusion matrix: \\n\"\u001b[0m\u001b[0;34m,\u001b[0m \u001b[0mcnf_matrix\u001b[0m\u001b[0;34m)\u001b[0m\u001b[0;34m\u001b[0m\u001b[0;34m\u001b[0m\u001b[0m\n",
            "\u001b[0;31mNameError\u001b[0m: name 'confusion_matrix' is not defined"
          ]
        }
      ]
    },
    {
      "cell_type": "code",
      "metadata": {
        "id": "gHKuAKI9rSP1",
        "colab_type": "code",
        "colab": {
          "base_uri": "https://localhost:8080/",
          "height": 34
        },
        "outputId": "a8dedb8b-c227-4540-eab8-bc32adaab30e"
      },
      "source": [
        "# Cross Validation score for KNN model\n",
        "\n",
        "scores_knn =cross_val_score(gsknn, x_train_std, y_train, \n",
        "                         scoring='accuracy', cv=10)\n",
        "print('CV accuracy: %.3f +/- %.3f' % (np.mean(scores_knn), np.std(scores_knn)))"
      ],
      "execution_count": 55,
      "outputs": [
        {
          "output_type": "stream",
          "text": [
            "CV accuracy: 0.958 +/- 0.011\n"
          ],
          "name": "stdout"
        }
      ]
    },
    {
      "cell_type": "markdown",
      "metadata": {
        "id": "rx6kcXavrSP9",
        "colab_type": "text"
      },
      "source": [
        "### Logistic Regression"
      ]
    },
    {
      "cell_type": "code",
      "metadata": {
        "id": "yKGGZtRdrSQA",
        "colab_type": "code",
        "colab": {}
      },
      "source": [
        "# Use GridSearch to find the best logistic regression parameters, and fit the training data to apply to test data.\n",
        "\n",
        "from sklearn.linear_model import LogisticRegression \n",
        "\n",
        "gslr = GridSearchCV(estimator=LogisticRegression(random_state=0),\n",
        "                  param_grid=[{'C': [ 0.00001, 0.0001, 0.001, 0.01, 0.1 ,1 ,10 ,100, 1000, 10000, 100000, 1000000, 10000000],\n",
        "                             'penalty':['l1','l2']}],\n",
        "                  scoring='accuracy',\n",
        "                  cv=10)\n",
        "\n",
        "gslr_fit = gslr.fit(x_train, y_train)          \n",
        "y_pred_lr = gslr_fit.predict(x_test)\n",
        "\n",
        "## best parameter\n",
        "print(gslr.best_params_)\n",
        "\n",
        "## best estimator\n",
        "print(\"Logistic parameters: \\n\", gslr_fit.best_estimator_)\n",
        "\n",
        "## best score\n",
        "print(\"Best score: \", gslr.best_score_)\n",
        "\n",
        "## The overall accuracy on the training set:\n",
        "print(\"Training score: \", gslr.score(x_train, y_train))\n",
        "\n",
        "## The overall accuracy on the test set:\n",
        "print(\"Test accuracy: \", gslr.score(x_test, y_test))"
      ],
      "execution_count": null,
      "outputs": []
    },
    {
      "cell_type": "code",
      "metadata": {
        "id": "_lEXhc5rrSQD",
        "colab_type": "code",
        "colab": {
          "base_uri": "https://localhost:8080/",
          "height": 418
        },
        "outputId": "bf77e540-c987-435e-a38f-d7e3718703b7"
      },
      "source": [
        "# Generalization Performance of logistic regression on test data\n",
        "\n",
        "accuracy = sum(y_pred_lr == y_test)/len(y_test)\n",
        "error = 1 - accuracy\n",
        "print(\"The predictive accuracy is: \", round(accuracy, 2))\n",
        "print(\"The classification error is: \", round(error, 2))\n",
        "print(classification_report(y_test, y_pred_lr))\n",
        "\n",
        "# Confusion matrix\n",
        "\n",
        "cnf_matrix = pd.DataFrame(confusion_matrix(y_test, y_pred_lr), columns = ['Predict 0', 'Predict 1'], index = ['Actual 0', 'Actual 1'])\n",
        "print(\"The Confusion matrix: \\n\", cnf_matrix)"
      ],
      "execution_count": 57,
      "outputs": [
        {
          "output_type": "stream",
          "text": [
            "The predictive accuracy is:  0.96\n",
            "The classification error is:  0.04\n",
            "              precision    recall  f1-score   support\n",
            "\n",
            "           0       0.97      0.99      0.98      1356\n",
            "           1       0.85      0.67      0.75       144\n",
            "\n",
            "    accuracy                           0.96      1500\n",
            "   macro avg       0.91      0.83      0.86      1500\n",
            "weighted avg       0.95      0.96      0.95      1500\n",
            "\n"
          ],
          "name": "stdout"
        },
        {
          "output_type": "error",
          "ename": "NameError",
          "evalue": "ignored",
          "traceback": [
            "\u001b[0;31m---------------------------------------------------------------------------\u001b[0m",
            "\u001b[0;31mNameError\u001b[0m                                 Traceback (most recent call last)",
            "\u001b[0;32m<ipython-input-57-f26390f4ac67>\u001b[0m in \u001b[0;36m<module>\u001b[0;34m()\u001b[0m\n\u001b[1;32m      9\u001b[0m \u001b[0;31m# Confusion matrix\u001b[0m\u001b[0;34m\u001b[0m\u001b[0;34m\u001b[0m\u001b[0;34m\u001b[0m\u001b[0m\n\u001b[1;32m     10\u001b[0m \u001b[0;34m\u001b[0m\u001b[0m\n\u001b[0;32m---> 11\u001b[0;31m \u001b[0mcnf_matrix\u001b[0m \u001b[0;34m=\u001b[0m \u001b[0mpd\u001b[0m\u001b[0;34m.\u001b[0m\u001b[0mDataFrame\u001b[0m\u001b[0;34m(\u001b[0m\u001b[0mconfusion_matrix\u001b[0m\u001b[0;34m(\u001b[0m\u001b[0my_test\u001b[0m\u001b[0;34m,\u001b[0m \u001b[0my_pred_lr\u001b[0m\u001b[0;34m)\u001b[0m\u001b[0;34m,\u001b[0m \u001b[0mcolumns\u001b[0m \u001b[0;34m=\u001b[0m \u001b[0;34m[\u001b[0m\u001b[0;34m'Predict 0'\u001b[0m\u001b[0;34m,\u001b[0m \u001b[0;34m'Predict 1'\u001b[0m\u001b[0;34m]\u001b[0m\u001b[0;34m,\u001b[0m \u001b[0mindex\u001b[0m \u001b[0;34m=\u001b[0m \u001b[0;34m[\u001b[0m\u001b[0;34m'Actual 0'\u001b[0m\u001b[0;34m,\u001b[0m \u001b[0;34m'Actual 1'\u001b[0m\u001b[0;34m]\u001b[0m\u001b[0;34m)\u001b[0m\u001b[0;34m\u001b[0m\u001b[0;34m\u001b[0m\u001b[0m\n\u001b[0m\u001b[1;32m     12\u001b[0m \u001b[0mprint\u001b[0m\u001b[0;34m(\u001b[0m\u001b[0;34m\"The Confusion matrix: \\n\"\u001b[0m\u001b[0;34m,\u001b[0m \u001b[0mcnf_matrix\u001b[0m\u001b[0;34m)\u001b[0m\u001b[0;34m\u001b[0m\u001b[0;34m\u001b[0m\u001b[0m\n",
            "\u001b[0;31mNameError\u001b[0m: name 'confusion_matrix' is not defined"
          ]
        }
      ]
    },
    {
      "cell_type": "code",
      "metadata": {
        "id": "0IE_dqsurSQF",
        "colab_type": "code",
        "colab": {
          "base_uri": "https://localhost:8080/",
          "height": 34
        },
        "outputId": "fbf87958-5a08-44ae-fbdc-b19ed91a6a7a"
      },
      "source": [
        "# Cross validation performance for logistic regression \n",
        "\n",
        "scores_lr =cross_val_score(gslr, x_train, y_train, \n",
        "                         scoring='accuracy', cv=10)\n",
        "print('CV accuracy: %.3f +/- %.3f' % (np.mean(scores_lr),np.std(scores_knn)))"
      ],
      "execution_count": 58,
      "outputs": [
        {
          "output_type": "stream",
          "text": [
            "CV accuracy: 0.960 +/- 0.011\n"
          ],
          "name": "stdout"
        }
      ]
    },
    {
      "cell_type": "markdown",
      "metadata": {
        "id": "ux84wZTBrSQH",
        "colab_type": "text"
      },
      "source": [
        "### ROC Graph"
      ]
    },
    {
      "cell_type": "code",
      "metadata": {
        "scrolled": true,
        "id": "UOl_2g3_rSQI",
        "colab_type": "code",
        "colab": {
          "base_uri": "https://localhost:8080/",
          "height": 364
        },
        "outputId": "fac2e9f1-3a18-48b7-8179-2bcf3039a457"
      },
      "source": [
        "# ROC graph containing roc curve for decision tree, KNN, and logistic regression models\n",
        "\n",
        "np.random.seed(0)\n",
        "from sklearn.neighbors import KNeighborsClassifier \n",
        "from sklearn.model_selection import cross_val_score\n",
        "from sklearn.metrics import roc_curve\n",
        "from sklearn.metrics import auc\n",
        "\n",
        "## Decision Tree Classifier\n",
        "clf1 = DecisionTreeClassifier(class_weight=None, criterion='gini', max_depth=20,\n",
        "            max_features=10, max_leaf_nodes=None,\n",
        "            min_impurity_decrease=0.0, min_impurity_split=None,\n",
        "            min_samples_leaf=1, min_samples_split=3,\n",
        "            min_weight_fraction_leaf=0.0, presort=False, random_state=0,\n",
        "            splitter='best')\n",
        "\n",
        "## kNN Classifier\n",
        "clf2 = KNeighborsClassifier(algorithm='auto', leaf_size=30, metric='minkowski',\n",
        "           metric_params=None, n_jobs=1, n_neighbors=1, p=2,\n",
        "           weights='uniform')\n",
        "\n",
        "## Logistic Regression Classifier\n",
        "clf3 = LogisticRegression(C=1, class_weight=None, dual=False, fit_intercept=True,\n",
        "          intercept_scaling=1, max_iter=100, multi_class='ovr', n_jobs=1,\n",
        "          penalty='l1', random_state=0, solver='liblinear', tol=0.0001,\n",
        "          verbose=0, warm_start=False)\n",
        "\n",
        "# Label the classifiers\n",
        "clf_labels = ['Decision tree',  'KNN', 'Logistic regression',]\n",
        "all_clf = [clf1, clf2, clf3]\n",
        "\n",
        "print('10-fold cross validation:\\n')\n",
        "for clf, label in zip([clf1, clf2, clf3], clf_labels): #For all classifiers \n",
        "    if clf == clf1:\n",
        "        scores = cross_val_score(estimator=clf,  #Estimate AUC based on cross validation\n",
        "                             X=xtree_train,\n",
        "                             y=y_train,\n",
        "                             cv=10,\n",
        "                             scoring='roc_auc')\n",
        "\n",
        "    elif clf == clf2:\n",
        "        scores = cross_val_score(estimator=clf,  #Estimate AUC based on cross validation\n",
        "                             X=x_train_std,\n",
        "                             y=y_train,\n",
        "                             cv=10,\n",
        "                             scoring='roc_auc')\n",
        "\n",
        "    else:\n",
        "        scores = cross_val_score(estimator=clf,  #Estimate AUC based on cross validation\n",
        "                             X=x_train,\n",
        "                             y=y_train,\n",
        "                             cv=10,\n",
        "                             scoring='roc_auc')\n",
        "    print(\"ROC AUC: %0.2f (+/- %0.2f) [%s]\" #Print peformance statistics based on cross-validation\n",
        "      % (scores.mean(), scores.std(), label))\n",
        "\n",
        "colors = ['red', 'blue', 'green']      #Colors for visualization\n",
        "linestyles = [':', '--', '-.', '-']        #Line styles for visualization\n",
        "for clf, label, clr, ls in zip(all_clf,\n",
        "               clf_labels, colors, linestyles):\n",
        "\n",
        "    # assuming the label of the positive class is 1 and data is normalized\n",
        "    if clf == clf1:\n",
        "        y_pred = clf.fit(xtree_train,\n",
        "                         y_train).predict_proba(xtree_test)[:, 1] # Make predictions based on the classifiers\n",
        "        \n",
        "    elif clf == clf2:\n",
        "        y_pred = clf.fit(x_train_std,\n",
        "                         y_train).predict_proba(x_test_std)[:, 1] # Make predictions based on the classifiers\n",
        "        \n",
        "    else:\n",
        "        y_pred = clf.fit(x_train,\n",
        "                         y_train).predict_proba(x_test)[:, 1] # Make predictions based on the classifiers\n",
        "    fpr, tpr, thresholds = roc_curve(y_true=y_test, # Build ROC curve\n",
        "                                     y_score=y_pred)\n",
        "    roc_auc = auc(x=fpr, y=tpr)                # Compute Area Under the Curve (AUC) \n",
        "    plt.plot(fpr, tpr,                         # Plot ROC Curve and create label with AUC values\n",
        "             color=clr,\n",
        "             linestyle=ls,\n",
        "             label='%s (auc = %0.2f)' % (label, roc_auc))\n",
        "\n",
        "plt.legend(loc='lower right')    # Where to place the legend\n",
        "plt.plot([0, 1], [0, 1], # Visualize random classifier\n",
        "         linestyle='--',\n",
        "         color='gray',\n",
        "         linewidth=2)\n",
        "\n",
        "plt.xlim([-0.1, 1.1])   #limits for x axis\n",
        "plt.ylim([-0.1, 1.1])   #limits for y axis\n",
        "plt.grid(alpha=0.5)\n",
        "plt.xlabel('False positive rate (FPR)')\n",
        "plt.ylabel('True positive rate (TPR)')\n",
        "\n",
        "\n",
        "#plt.savefig('ROC_all_classifiers', dpi=300)\n",
        "plt.show()"
      ],
      "execution_count": 59,
      "outputs": [
        {
          "output_type": "stream",
          "text": [
            "10-fold cross validation:\n",
            "\n",
            "ROC AUC: 0.95 (+/- 0.02) [Decision tree]\n",
            "ROC AUC: 0.83 (+/- 0.05) [KNN]\n",
            "ROC AUC: 0.96 (+/- 0.02) [Logistic regression]\n"
          ],
          "name": "stdout"
        },
        {
          "output_type": "display_data",
          "data": {
            "image/png": "[encoded data removed]",
            "text/plain": [
              "<Figure size 432x288 with 1 Axes>"
            ]
          },
          "metadata": {
            "tags": [],
            "needs_background": "light"
          }
        }
      ]
    },
    {
      "cell_type": "markdown",
      "metadata": {
        "id": "3llL6ayGrSQM",
        "colab_type": "text"
      },
      "source": [
        "## Modling & Evalutaion (Resampling)"
      ]
    },
    {
      "cell_type": "markdown",
      "metadata": {
        "id": "zQzT0RjCrSQM",
        "colab_type": "text"
      },
      "source": [
        "### Resampling"
      ]
    },
    {
      "cell_type": "code",
      "metadata": {
        "id": "r_C0VURQrSQN",
        "colab_type": "code",
        "colab": {}
      },
      "source": [
        "# The dataset is imbalanced, we resample the rare class to the same amount of the larger class to get 50%:50% ratio.\n",
        "# We only resample for the training dataset, excluding test data\n",
        "\n",
        "from sklearn.utils import resample\n",
        "\n",
        "## resample for KNN and logistic regression\n",
        "x_train_resampled, y_train_resampled = resample(x_train[ y_train == 1],\n",
        "                                    y_train[y_train == 1],\n",
        "                                    replace=True, \n",
        "                                    n_samples=x_train[y_train == 0].shape[0], \n",
        "                                    random_state=0)\n",
        "\n",
        "xtree_train_resampled, y_train_resampled = resample(xtree_train[y_train == 1],\n",
        "                                    y_train[y_train == 1],\n",
        "                                    replace=True, \n",
        "                                    n_samples=xtree_train[y_train == 0].shape[0], \n",
        "                                    random_state=0)"
      ],
      "execution_count": 62,
      "outputs": []
    },
    {
      "cell_type": "code",
      "metadata": {
        "id": "B_P0ZDearSQR",
        "colab_type": "code",
        "colab": {}
      },
      "source": [
        "## resample for decision tree\n",
        "\n",
        "x_train_zero = x_train[y_train == 0]\n",
        "x_train_resample = pd.concat([x_train_resampled, x_train_zero])\n",
        "\n",
        "xtree_train_zero = xtree_train[y_train == 0]\n",
        "xtree_train_resample = pd.concat([xtree_train_resampled, xtree_train_zero])\n",
        "\n",
        "y_train_zero = y_train[y_train == 0]\n",
        "y_train_resample = pd.concat([y_train_resampled, y_train_zero])"
      ],
      "execution_count": 63,
      "outputs": []
    },
    {
      "cell_type": "markdown",
      "metadata": {
        "id": "zxoH9zWhrSQV",
        "colab_type": "text"
      },
      "source": [
        "### Decision Tree (Resampling)"
      ]
    },
    {
      "cell_type": "code",
      "metadata": {
        "scrolled": true,
        "id": "U7EdsJ7VrSQW",
        "colab_type": "code",
        "colab": {
          "base_uri": "https://localhost:8080/",
          "height": 204
        },
        "outputId": "aecce6e5-d233-49b1-e551-e8f7cca16656"
      },
      "source": [
        "# Use GridSearch to find the best decision tree parameters after resampling, and fit the training data to apply to test data\n",
        "from sklearn import tree\n",
        "#import sklearn.grid_search as gs\n",
        "from sklearn.model_selection import GridSearchCV\n",
        "from sklearn.tree import DecisionTreeClassifier \n",
        "\n",
        "gstree_resample = GridSearchCV(estimator=DecisionTreeClassifier(random_state=0),\n",
        "                                   param_grid= [{\"criterion\": [\"gini\", \"entropy\"],\n",
        "                                                 'max_depth': [1, 2, 3, 4, 5, 6, 7, 8, 9, 10, 20, 30, 40, 50],\n",
        "                                                 \"max_features\": list(range(1, 11)),\n",
        "                                                 'min_samples_leaf':[1,2,3,4,5],\n",
        "                                                 'min_samples_split':[2,3,4,5]\n",
        "                                                }],\n",
        "                                   cv = 10,\n",
        "                                   n_jobs = 4,\n",
        "                                   scoring='accuracy')\n",
        "gstree_resample_fit = gstree_resample.fit(xtree_train_resample, y_train_resample)\n",
        "y_pred_tree_resample = gstree_resample_fit.predict(xtree_test)\n",
        "\n",
        "## best parameter\n",
        "print(gstree_resample.best_params_)\n",
        "\n",
        "## best estimator\n",
        "print(\"Tree parameters: \\n\", gstree_resample_fit.best_estimator_)\n",
        "\n",
        "## best score\n",
        "print(\"Best score: \", gstree_resample.best_score_)\n",
        "\n",
        "## The overall accuracy on the training set:\n",
        "print(\"Training score: \", gstree_resample.score(xtree_train_resample, y_train_resample))\n",
        "\n",
        "## The overall accuracy on the test set:\n",
        "print(\"Test accuracy: \", gstree_resample.score(xtree_test, y_test))"
      ],
      "execution_count": 82,
      "outputs": [
        {
          "output_type": "stream",
          "text": [
            "{'criterion': 'entropy', 'max_depth': 20, 'max_features': 10, 'min_samples_leaf': 1, 'min_samples_split': 2}\n",
            "Tree parameters: \n",
            " DecisionTreeClassifier(ccp_alpha=0.0, class_weight=None, criterion='entropy',\n",
            "                       max_depth=20, max_features=10, max_leaf_nodes=None,\n",
            "                       min_impurity_decrease=0.0, min_impurity_split=None,\n",
            "                       min_samples_leaf=1, min_samples_split=2,\n",
            "                       min_weight_fraction_leaf=0.0, presort='deprecated',\n",
            "                       random_state=0, splitter='best')\n",
            "Best score:  0.9963647589337492\n",
            "Training score:  1.0\n",
            "Test accuracy:  0.9793333333333333\n"
          ],
          "name": "stdout"
        }
      ]
    },
    {
      "cell_type": "code",
      "metadata": {
        "id": "9LA69O3lrSQa",
        "colab_type": "code",
        "colab": {
          "base_uri": "https://localhost:8080/",
          "height": 68
        },
        "outputId": "f79f4837-5f60-474b-dcfb-34dbbe99997c"
      },
      "source": [
        "tree = DecisionTreeClassifier(class_weight=None, criterion='entropy', max_depth=20,\n",
        "            max_features=10, max_leaf_nodes=None,\n",
        "            min_impurity_decrease=0.0, min_impurity_split=None,\n",
        "            min_samples_leaf=1, min_samples_split=2,\n",
        "            min_weight_fraction_leaf=0.0, presort=False, random_state=0,\n",
        "            splitter='best').fit(xtree_train_resample, y_train_resample)\n",
        "tree.feature_importances_"
      ],
      "execution_count": 65,
      "outputs": [
        {
          "output_type": "execute_result",
          "data": {
            "text/plain": [
              "array([0.01643771, 0.56408001, 0.12789856, 0.1685135 , 0.1051462 ,\n",
              "       0.00524273, 0.        , 0.00445837, 0.        , 0.        ,\n",
              "       0.00822292])"
            ]
          },
          "metadata": {
            "tags": []
          },
          "execution_count": 65
        }
      ]
    },
    {
      "cell_type": "code",
      "metadata": {
        "scrolled": true,
        "id": "kelmCD4srSQb",
        "colab_type": "code",
        "colab": {
          "base_uri": "https://localhost:8080/",
          "height": 68
        },
        "outputId": "da22caf3-f8a4-4a66-db34-fb6881302178"
      },
      "source": [
        "xtree_train_resample.columns"
      ],
      "execution_count": 66,
      "outputs": [
        {
          "output_type": "execute_result",
          "data": {
            "text/plain": [
              "Index(['Age', 'Income', 'Family', 'CCAvg', 'Education', 'Mortgage',\n",
              "       'Securities Account', 'CD Account', 'Online', 'CreditCard', 'Area'],\n",
              "      dtype='object')"
            ]
          },
          "metadata": {
            "tags": []
          },
          "execution_count": 66
        }
      ]
    },
    {
      "cell_type": "code",
      "metadata": {
        "id": "PVMDOmQnrSQe",
        "colab_type": "code",
        "colab": {}
      },
      "source": [
        "feature_importance = pd.DataFrame({'features': list(xtree_train_resample.columns), 'importance': list(tree.feature_importances_)})"
      ],
      "execution_count": 67,
      "outputs": []
    },
    {
      "cell_type": "code",
      "metadata": {
        "id": "0IUTZ9BErSQg",
        "colab_type": "code",
        "colab": {
          "base_uri": "https://localhost:8080/",
          "height": 379
        },
        "outputId": "85093290-14f3-41fc-b53b-de5a703e524e"
      },
      "source": [
        "tmp = feature_importance.sort_values('importance', ascending = False)\n",
        "tmp.plot('features', 'importance', kind = 'bar', color = 'black', legend = None)\n",
        "plt.xlabel('Features')\n",
        "plt.ylabel('Importance')"
      ],
      "execution_count": 68,
      "outputs": [
        {
          "output_type": "execute_result",
          "data": {
            "text/plain": [
              "Text(0, 0.5, 'Importance')"
            ]
          },
          "metadata": {
            "tags": []
          },
          "execution_count": 68
        },
        {
          "output_type": "display_data",
          "data": {
            "image/png": "[encoded data removed]",
            "text/plain": [
              "<Figure size 432x288 with 1 Axes>"
            ]
          },
          "metadata": {
            "tags": [],
            "needs_background": "light"
          }
        }
      ]
    },
    {
      "cell_type": "code",
      "metadata": {
        "scrolled": true,
        "id": "yMuMRFsBrSQj",
        "colab_type": "code",
        "colab": {
          "base_uri": "https://localhost:8080/",
          "height": 231
        },
        "outputId": "2d8e036b-e829-464d-807b-1c5e7b23e066"
      },
      "source": [
        "# Generalization Performance of decision tree after resampling on test data\n",
        "\n",
        "from sklearn.metrics import accuracy_score, precision_score, recall_score, classification_report\n",
        "\n",
        "accuracy = sum(y_pred_tree_resample == y_test)/len(y_test)\n",
        "error = 1 - accuracy\n",
        "print(\"The predictive accuracy is: \", round(accuracy, 2))\n",
        "print(\"The classification error is: \", round(error, 2))\n",
        "print(classification_report(y_test, y_pred_tree_resample))\n",
        "\n",
        "# Confusion matrix\n",
        "from sklearn.metrics import confusion_matrix\n",
        "\n",
        "cnf_matrix = pd.DataFrame(confusion_matrix(y_test, y_pred_tree_resample), columns = ['Predict 0', 'Predict 1'], index = ['Actual 0', 'Actual 1'])\n",
        "print(\"The Confusion matrix: \\n\", cnf_matrix)"
      ],
      "execution_count": 69,
      "outputs": [
        {
          "output_type": "error",
          "ename": "NameError",
          "evalue": "ignored",
          "traceback": [
            "\u001b[0;31m---------------------------------------------------------------------------\u001b[0m",
            "\u001b[0;31mNameError\u001b[0m                                 Traceback (most recent call last)",
            "\u001b[0;32m<ipython-input-69-02ad2ca627a1>\u001b[0m in \u001b[0;36m<module>\u001b[0;34m()\u001b[0m\n\u001b[1;32m      3\u001b[0m \u001b[0;32mfrom\u001b[0m \u001b[0msklearn\u001b[0m\u001b[0;34m.\u001b[0m\u001b[0mmetrics\u001b[0m \u001b[0;32mimport\u001b[0m \u001b[0maccuracy_score\u001b[0m\u001b[0;34m,\u001b[0m \u001b[0mprecision_score\u001b[0m\u001b[0;34m,\u001b[0m \u001b[0mrecall_score\u001b[0m\u001b[0;34m,\u001b[0m \u001b[0mclassification_report\u001b[0m\u001b[0;34m\u001b[0m\u001b[0;34m\u001b[0m\u001b[0m\n\u001b[1;32m      4\u001b[0m \u001b[0;34m\u001b[0m\u001b[0m\n\u001b[0;32m----> 5\u001b[0;31m \u001b[0maccuracy\u001b[0m \u001b[0;34m=\u001b[0m \u001b[0msum\u001b[0m\u001b[0;34m(\u001b[0m\u001b[0my_pred_tree_resample\u001b[0m \u001b[0;34m==\u001b[0m \u001b[0my_test\u001b[0m\u001b[0;34m)\u001b[0m\u001b[0;34m/\u001b[0m\u001b[0mlen\u001b[0m\u001b[0;34m(\u001b[0m\u001b[0my_test\u001b[0m\u001b[0;34m)\u001b[0m\u001b[0;34m\u001b[0m\u001b[0;34m\u001b[0m\u001b[0m\n\u001b[0m\u001b[1;32m      6\u001b[0m \u001b[0merror\u001b[0m \u001b[0;34m=\u001b[0m \u001b[0;36m1\u001b[0m \u001b[0;34m-\u001b[0m \u001b[0maccuracy\u001b[0m\u001b[0;34m\u001b[0m\u001b[0;34m\u001b[0m\u001b[0m\n\u001b[1;32m      7\u001b[0m \u001b[0mprint\u001b[0m\u001b[0;34m(\u001b[0m\u001b[0;34m\"The predictive accuracy is: \"\u001b[0m\u001b[0;34m,\u001b[0m \u001b[0mround\u001b[0m\u001b[0;34m(\u001b[0m\u001b[0maccuracy\u001b[0m\u001b[0;34m,\u001b[0m \u001b[0;36m2\u001b[0m\u001b[0;34m)\u001b[0m\u001b[0;34m)\u001b[0m\u001b[0;34m\u001b[0m\u001b[0;34m\u001b[0m\u001b[0m\n",
            "\u001b[0;31mNameError\u001b[0m: name 'y_pred_tree_resample' is not defined"
          ]
        }
      ]
    },
    {
      "cell_type": "code",
      "metadata": {
        "id": "R__A23r6rSQm",
        "colab_type": "code",
        "colab": {}
      },
      "source": [
        "# Where to save the figures\n",
        "PROJECT_ROOT_DIR = \".\"\n",
        "\n",
        "def image_path(fig_id):\n",
        "    return os.path.join(PROJECT_ROOT_DIR, \"images\", fig_id)\n",
        "\n",
        "def save_fig(fig_id, tight_layout=True):\n",
        "    print(\"Saving figure\", fig_id)\n",
        "    if tight_layout:\n",
        "        plt.tight_layout()\n",
        "    plt.savefig(image_path(fig_id) + \".png\", format='png', dpi=300)"
      ],
      "execution_count": 70,
      "outputs": []
    },
    {
      "cell_type": "code",
      "metadata": {
        "id": "zXIWMKtSrSQp",
        "colab_type": "code",
        "colab": {
          "base_uri": "https://localhost:8080/",
          "height": 384
        },
        "outputId": "bf0c7c26-2694-4b7a-fa33-36e810053030"
      },
      "source": [
        "# Graph for the best decision tree model\n",
        "\n",
        "from sklearn import tree\n",
        "import graphviz \n",
        "from sklearn.tree import export_graphviz\n",
        "\n",
        "model =  DecisionTreeClassifier(class_weight=None, criterion='entropy', max_depth=20,\n",
        "            max_features=10, max_leaf_nodes=None,\n",
        "            min_impurity_decrease=0.0, min_impurity_split=None,\n",
        "            min_samples_leaf=1, min_samples_split=2,\n",
        "            min_weight_fraction_leaf=0.0, presort=False, random_state=0,\n",
        "            splitter='best')\n",
        "model = model.fit(xtree_train_resample, y_train_resample)\n",
        "\n",
        "dot_data = tree.export_graphviz(model, out_file=image_path(\"of_tree.dot\"), \n",
        "                                feature_names = [ 'Age', 'Income', 'Family', 'CCAvg', 'Education', 'Mortgage', \n",
        "                                                 'Securities Account', 'CD Account', 'Online', 'CreditCard', 'Area'],\n",
        "                                class_names = ['0','1'],\n",
        "                                filled = True, \n",
        "                                rounded = True)\n",
        "                                                   \n",
        "graph = graphviz.Source(dot_data) "
      ],
      "execution_count": 71,
      "outputs": [
        {
          "output_type": "error",
          "ename": "FileNotFoundError",
          "evalue": "ignored",
          "traceback": [
            "\u001b[0;31m---------------------------------------------------------------------------\u001b[0m",
            "\u001b[0;31mFileNotFoundError\u001b[0m                         Traceback (most recent call last)",
            "\u001b[0;32m<ipython-input-71-3d0202fb3ca9>\u001b[0m in \u001b[0;36m<module>\u001b[0;34m()\u001b[0m\n\u001b[1;32m     18\u001b[0m                                 \u001b[0mclass_names\u001b[0m \u001b[0;34m=\u001b[0m \u001b[0;34m[\u001b[0m\u001b[0;34m'0'\u001b[0m\u001b[0;34m,\u001b[0m\u001b[0;34m'1'\u001b[0m\u001b[0;34m]\u001b[0m\u001b[0;34m,\u001b[0m\u001b[0;34m\u001b[0m\u001b[0;34m\u001b[0m\u001b[0m\n\u001b[1;32m     19\u001b[0m                                 \u001b[0mfilled\u001b[0m \u001b[0;34m=\u001b[0m \u001b[0;32mTrue\u001b[0m\u001b[0;34m,\u001b[0m\u001b[0;34m\u001b[0m\u001b[0;34m\u001b[0m\u001b[0m\n\u001b[0;32m---> 20\u001b[0;31m                                 rounded = True)\n\u001b[0m\u001b[1;32m     21\u001b[0m \u001b[0;34m\u001b[0m\u001b[0m\n\u001b[1;32m     22\u001b[0m \u001b[0mgraph\u001b[0m \u001b[0;34m=\u001b[0m \u001b[0mgraphviz\u001b[0m\u001b[0;34m.\u001b[0m\u001b[0mSource\u001b[0m\u001b[0;34m(\u001b[0m\u001b[0mdot_data\u001b[0m\u001b[0;34m)\u001b[0m\u001b[0;34m\u001b[0m\u001b[0;34m\u001b[0m\u001b[0m\n",
            "\u001b[0;32m/usr/local/lib/python3.6/dist-packages/sklearn/tree/_export.py\u001b[0m in \u001b[0;36mexport_graphviz\u001b[0;34m(decision_tree, out_file, max_depth, feature_names, class_names, label, filled, leaves_parallel, impurity, node_ids, proportion, rotate, rounded, special_characters, precision)\u001b[0m\n\u001b[1;32m    748\u001b[0m     \u001b[0;32mtry\u001b[0m\u001b[0;34m:\u001b[0m\u001b[0;34m\u001b[0m\u001b[0;34m\u001b[0m\u001b[0m\n\u001b[1;32m    749\u001b[0m         \u001b[0;32mif\u001b[0m \u001b[0misinstance\u001b[0m\u001b[0;34m(\u001b[0m\u001b[0mout_file\u001b[0m\u001b[0;34m,\u001b[0m \u001b[0mstr\u001b[0m\u001b[0;34m)\u001b[0m\u001b[0;34m:\u001b[0m\u001b[0;34m\u001b[0m\u001b[0;34m\u001b[0m\u001b[0m\n\u001b[0;32m--> 750\u001b[0;31m             \u001b[0mout_file\u001b[0m \u001b[0;34m=\u001b[0m \u001b[0mopen\u001b[0m\u001b[0;34m(\u001b[0m\u001b[0mout_file\u001b[0m\u001b[0;34m,\u001b[0m \u001b[0;34m\"w\"\u001b[0m\u001b[0;34m,\u001b[0m \u001b[0mencoding\u001b[0m\u001b[0;34m=\u001b[0m\u001b[0;34m\"utf-8\"\u001b[0m\u001b[0;34m)\u001b[0m\u001b[0;34m\u001b[0m\u001b[0;34m\u001b[0m\u001b[0m\n\u001b[0m\u001b[1;32m    751\u001b[0m             \u001b[0mown_file\u001b[0m \u001b[0;34m=\u001b[0m \u001b[0;32mTrue\u001b[0m\u001b[0;34m\u001b[0m\u001b[0;34m\u001b[0m\u001b[0m\n\u001b[1;32m    752\u001b[0m \u001b[0;34m\u001b[0m\u001b[0m\n",
            "\u001b[0;31mFileNotFoundError\u001b[0m: [Errno 2] No such file or directory: './images/of_tree.dot'"
          ]
        }
      ]
    },
    {
      "cell_type": "code",
      "metadata": {
        "id": "1cpc9zUdrSQr",
        "colab_type": "code",
        "colab": {
          "base_uri": "https://localhost:8080/",
          "height": 197
        },
        "outputId": "dbec044c-e842-4f9b-e5a2-001e7b969561"
      },
      "source": [
        "# Converting .dot file to PNG Example: Run command \"dot -Tpng of_tree.dot -o of_tree.png\" in the terminal after installing graphviz package \n",
        "# and making sure you are in the right directory (same directory as the .dot file)\n",
        "path_png = os.path.join(PROJECT_ROOT_DIR, \"images\", \"of_tree.png\")\n",
        "Image(path_png)"
      ],
      "execution_count": 72,
      "outputs": [
        {
          "output_type": "error",
          "ename": "NameError",
          "evalue": "ignored",
          "traceback": [
            "\u001b[0;31m---------------------------------------------------------------------------\u001b[0m",
            "\u001b[0;31mNameError\u001b[0m                                 Traceback (most recent call last)",
            "\u001b[0;32m<ipython-input-72-ac7275b470da>\u001b[0m in \u001b[0;36m<module>\u001b[0;34m()\u001b[0m\n\u001b[1;32m      2\u001b[0m \u001b[0;31m# and making sure you are in the right directory (same directory as the .dot file)\u001b[0m\u001b[0;34m\u001b[0m\u001b[0;34m\u001b[0m\u001b[0;34m\u001b[0m\u001b[0m\n\u001b[1;32m      3\u001b[0m \u001b[0mpath_png\u001b[0m \u001b[0;34m=\u001b[0m \u001b[0mos\u001b[0m\u001b[0;34m.\u001b[0m\u001b[0mpath\u001b[0m\u001b[0;34m.\u001b[0m\u001b[0mjoin\u001b[0m\u001b[0;34m(\u001b[0m\u001b[0mPROJECT_ROOT_DIR\u001b[0m\u001b[0;34m,\u001b[0m \u001b[0;34m\"images\"\u001b[0m\u001b[0;34m,\u001b[0m \u001b[0;34m\"of_tree.png\"\u001b[0m\u001b[0;34m)\u001b[0m\u001b[0;34m\u001b[0m\u001b[0;34m\u001b[0m\u001b[0m\n\u001b[0;32m----> 4\u001b[0;31m \u001b[0mImage\u001b[0m\u001b[0;34m(\u001b[0m\u001b[0mpath_png\u001b[0m\u001b[0;34m)\u001b[0m\u001b[0;34m\u001b[0m\u001b[0;34m\u001b[0m\u001b[0m\n\u001b[0m",
            "\u001b[0;31mNameError\u001b[0m: name 'Image' is not defined"
          ]
        }
      ]
    },
    {
      "cell_type": "code",
      "metadata": {
        "id": "MGnFQMOrrSQv",
        "colab_type": "code",
        "colab": {}
      },
      "source": [
        "# Cross Validation score for decision tree after resampling \n",
        "\n",
        "from sklearn.model_selection import cross_val_score\n",
        "\n",
        "scores_tree_resample=cross_val_score(gstree, xtree_train_resample, y_train_resample, \n",
        "                         scoring='accuracy', cv=10)\n",
        "print('CV accuracy: %.3f +/- %.3f' % (np.mean(scores_tree_resample), np.std(scores_tree_resample)))"
      ],
      "execution_count": null,
      "outputs": []
    },
    {
      "cell_type": "markdown",
      "metadata": {
        "id": "VE-1yN88rSQy",
        "colab_type": "text"
      },
      "source": [
        "### KNN (Resampling)"
      ]
    },
    {
      "cell_type": "code",
      "metadata": {
        "id": "b6ijI-HcrSQy",
        "colab_type": "code",
        "colab": {}
      },
      "source": [
        "# Standardize for all x after resampling\n",
        "\n",
        "sc.fit(x_train_resample)\n",
        "x_train_resample_std = sc.transform(x_train_resample)\n",
        "x_test_std = sc.transform(x_test)"
      ],
      "execution_count": 73,
      "outputs": []
    },
    {
      "cell_type": "code",
      "metadata": {
        "id": "-lQa169lrSQ4",
        "colab_type": "code",
        "colab": {
          "base_uri": "https://localhost:8080/",
          "height": 153
        },
        "outputId": "d0d0354f-dd33-474f-ab86-c85e4e9e4e42"
      },
      "source": [
        "# Use GridSearch to find the best KNN parameters after resampling, and fit the training data to apply to test data\n",
        "\n",
        "gsknn_resample = GridSearchCV(estimator=neighbors.KNeighborsClassifier(p=2, \n",
        "                           metric='minkowski'),\n",
        "                  param_grid=[{'n_neighbors': [1,3,5,7,9,11,13,15,17,19,21],\n",
        "                               'weights':['uniform','distance']}],\n",
        "                  scoring='accuracy',\n",
        "                  cv=10,\n",
        "                  n_jobs=4)\n",
        "\n",
        "gsknn_resample_fit = gsknn_resample.fit(x_train_resample_std, y_train_resample)          \n",
        "y_pred_knn_resample = gsknn_resample_fit.predict(x_test_std)\n",
        "\n",
        "## best parameter\n",
        "print(gsknn_resample.best_params_)\n",
        "\n",
        "## best estimator\n",
        "print(\"KNN parameters: \\n\", gsknn_resample_fit.best_estimator_)\n",
        "\n",
        "## best score\n",
        "print(\"Best score: \", gsknn_resample.best_score_)\n",
        "\n",
        "## The overall accuracy on the training set:\n",
        "print(\"Training score: \", gsknn_resample.score(x_train_resample_std, y_train_resample))\n",
        "\n",
        "## The overall accuracy on the test set:\n",
        "print(\"Test accuracy: \", gsknn_resample.score(x_test_std, y_test))"
      ],
      "execution_count": 74,
      "outputs": [
        {
          "output_type": "stream",
          "text": [
            "{'n_neighbors': 1, 'weights': 'uniform'}\n",
            "KNN parameters: \n",
            " KNeighborsClassifier(algorithm='auto', leaf_size=30, metric='minkowski',\n",
            "                     metric_params=None, n_jobs=None, n_neighbors=1, p=2,\n",
            "                     weights='uniform')\n",
            "Best score:  0.9941523186753856\n",
            "Training score:  1.0\n",
            "Test accuracy:  0.964\n"
          ],
          "name": "stdout"
        }
      ]
    },
    {
      "cell_type": "code",
      "metadata": {
        "id": "XTCgXOMarSQ7",
        "colab_type": "code",
        "colab": {
          "base_uri": "https://localhost:8080/",
          "height": 272
        },
        "outputId": "927dd352-8b33-404d-c284-eb530f6ed0bd"
      },
      "source": [
        "# Generalization Performance of KNN after resampling on test data\n",
        "\n",
        "accuracy = sum(y_pred_knn_resample == y_test)/len(y_test)\n",
        "error = 1 - accuracy\n",
        "print(\"The predictive accuracy is: \", round(accuracy, 2))\n",
        "print(\"The classification error is: \", round(error, 2))\n",
        "print(classification_report(y_test, y_pred_knn_resample))\n",
        "\n",
        "# Confusion matrix\n",
        "from sklearn.metrics import confusion_matrix\n",
        "\n",
        "cnf_matrix = pd.DataFrame(confusion_matrix(y_test, y_pred_knn_resample), columns = ['Predict 0', 'Predict 1'], index = ['Actual 0', 'Actual 1'])\n",
        "print(\"The Confusion matrix: \\n\", cnf_matrix)"
      ],
      "execution_count": 75,
      "outputs": [
        {
          "output_type": "stream",
          "text": [
            "The predictive accuracy is:  0.96\n",
            "The classification error is:  0.04\n",
            "              precision    recall  f1-score   support\n",
            "\n",
            "           0       0.97      0.99      0.98      1356\n",
            "           1       0.87      0.74      0.80       144\n",
            "\n",
            "    accuracy                           0.96      1500\n",
            "   macro avg       0.92      0.86      0.89      1500\n",
            "weighted avg       0.96      0.96      0.96      1500\n",
            "\n",
            "The Confusion matrix: \n",
            "           Predict 0  Predict 1\n",
            "Actual 0       1340         16\n",
            "Actual 1         38        106\n"
          ],
          "name": "stdout"
        }
      ]
    },
    {
      "cell_type": "code",
      "metadata": {
        "id": "YG3ansuYrSQ-",
        "colab_type": "code",
        "colab": {
          "base_uri": "https://localhost:8080/",
          "height": 34
        },
        "outputId": "eea95727-c9ef-4205-bcba-47974531adb4"
      },
      "source": [
        "# Cross validaiton score for KNN after resampling\n",
        "\n",
        "scores_knn_resample =cross_val_score(gsknn_resample, x_train_resample_std, y_train_resample, \n",
        "                         scoring='accuracy', cv=10)\n",
        "print('CV accuracy: %.3f +/- %.3f' % (np.mean(scores_knn_resample), np.std(scores_knn_resample)))"
      ],
      "execution_count": 76,
      "outputs": [
        {
          "output_type": "stream",
          "text": [
            "CV accuracy: 0.994 +/- 0.003\n"
          ],
          "name": "stdout"
        }
      ]
    },
    {
      "cell_type": "markdown",
      "metadata": {
        "id": "B1euwzhhrSRB",
        "colab_type": "text"
      },
      "source": [
        "### Logistic Regression (Resampling)"
      ]
    },
    {
      "cell_type": "code",
      "metadata": {
        "id": "BZo0Ae7_rSRB",
        "colab_type": "code",
        "colab": {
          "base_uri": "https://localhost:8080/",
          "height": 187
        },
        "outputId": "be090e8b-d756-46ac-91bc-0b80fb340e0a"
      },
      "source": [
        "# Use GridSearch to find the best logistic regression parameters after resampling, and fit the training data to apply to test data.\n",
        "\n",
        "gslr_resample = GridSearchCV(estimator=LogisticRegression(random_state=0),\n",
        "                  param_grid=[{'C': [ 0.00001, 0.0001, 0.001, 0.01, 0.1 ,1 ,10 ,100, 1000, 10000, 100000, 1000000, 10000000],\n",
        "                             'penalty':['l1','l2']}],\n",
        "                  scoring='accuracy',\n",
        "                  cv=10)\n",
        "\n",
        "gslr_resample_fit = gslr_resample.fit(x_train_resample, y_train_resample)          \n",
        "y_pred_lr_resample = gslr_resample_fit.predict(x_test)\n",
        "\n",
        "## best parameter\n",
        "print(gslr_resample.best_params_)\n",
        "\n",
        "## best estimator\n",
        "print(\"Logistic parameters: \\n\", gslr_resample_fit.best_estimator_)\n",
        "\n",
        "## best score\n",
        "print(\"Best score: \", gslr_resample.best_score_)\n",
        "\n",
        "## The overall accuracy on the training set:\n",
        "print(\"Training score: \", gslr_resample.score(x_train_resample, y_train_resample))\n",
        "\n",
        "## The overall accuracy on the test set:\n",
        "print(\"Test accuracy: \", gslr_resample.score(x_test, y_test))"
      ],
      "execution_count": 77,
      "outputs": [
        {
          "output_type": "stream",
          "text": [
            "{'C': 0.1, 'penalty': 'l2'}\n",
            "Logistic parameters: \n",
            " LogisticRegression(C=0.1, class_weight=None, dual=False, fit_intercept=True,\n",
            "                   intercept_scaling=1, l1_ratio=None, max_iter=100,\n",
            "                   multi_class='auto', n_jobs=None, penalty='l2',\n",
            "                   random_state=0, solver='lbfgs', tol=0.0001, verbose=0,\n",
            "                   warm_start=False)\n",
            "Best score:  0.9026581278620993\n",
            "Training score:  0.9037610619469026\n",
            "Test accuracy:  0.908\n"
          ],
          "name": "stdout"
        }
      ]
    },
    {
      "cell_type": "code",
      "metadata": {
        "id": "i3RsaIyYrSRE",
        "colab_type": "code",
        "colab": {
          "base_uri": "https://localhost:8080/",
          "height": 272
        },
        "outputId": "d3c3f675-cd13-4467-925a-4e7237bdfd49"
      },
      "source": [
        "# Generalization Performance of logistic regression after resampling on test data\n",
        "\n",
        "accuracy = sum(y_pred_lr_resample == y_test)/len(y_test)\n",
        "error = 1 - accuracy\n",
        "print(\"The predictive accuracy is: \", round(accuracy, 2))\n",
        "print(\"The classification error is: \", round(error, 2))\n",
        "print(classification_report(y_test, y_pred_lr_resample))\n",
        "\n",
        "# Confusion matrix\n",
        "from sklearn.metrics import confusion_matrix\n",
        "\n",
        "cnf_matrix = pd.DataFrame(confusion_matrix(y_test, y_pred_lr_resample), columns = ['Predict 0', 'Predict 1'], index = ['Actual 0', 'Actual 1'])\n",
        "print(\"The Confusion matrix: \\n\", cnf_matrix)"
      ],
      "execution_count": 78,
      "outputs": [
        {
          "output_type": "stream",
          "text": [
            "The predictive accuracy is:  0.91\n",
            "The classification error is:  0.09\n",
            "              precision    recall  f1-score   support\n",
            "\n",
            "           0       0.99      0.91      0.95      1356\n",
            "           1       0.51      0.90      0.65       144\n",
            "\n",
            "    accuracy                           0.91      1500\n",
            "   macro avg       0.75      0.91      0.80      1500\n",
            "weighted avg       0.94      0.91      0.92      1500\n",
            "\n",
            "The Confusion matrix: \n",
            "           Predict 0  Predict 1\n",
            "Actual 0       1232        124\n",
            "Actual 1         14        130\n"
          ],
          "name": "stdout"
        }
      ]
    },
    {
      "cell_type": "code",
      "metadata": {
        "id": "WLd-H6-PrSRG",
        "colab_type": "code",
        "colab": {
          "base_uri": "https://localhost:8080/",
          "height": 34
        },
        "outputId": "ae427b32-9c88-40be-ca58-7b39b6c8dca5"
      },
      "source": [
        "# Cross validation score for logisitc regression after resampling\n",
        "\n",
        "scores_lr_resample =cross_val_score(gslr_resample, x_train_resample, y_train_resample, \n",
        "                                    scoring='accuracy', cv=10)\n",
        "print('CV accuracy: %.3f +/- %.3f' % (np.mean(scores_lr_resample), np.std(scores_lr_resample)))"
      ],
      "execution_count": 79,
      "outputs": [
        {
          "output_type": "stream",
          "text": [
            "CV accuracy: 0.900 +/- 0.010\n"
          ],
          "name": "stdout"
        }
      ]
    },
    {
      "cell_type": "markdown",
      "metadata": {
        "id": "lL87LQKprSRJ",
        "colab_type": "text"
      },
      "source": [
        "### ROC Graph (Resampling)"
      ]
    },
    {
      "cell_type": "code",
      "metadata": {
        "id": "u7C9aMglrSRJ",
        "colab_type": "code",
        "colab": {
          "base_uri": "https://localhost:8080/",
          "height": 364
        },
        "outputId": "0b7f0be7-b216-4ecf-f7ed-acac957b766a"
      },
      "source": [
        "# ROC graph containing roc curve for decision tree, KNN, and logistic regression models after resampling\n",
        "\n",
        "np.random.seed(0)\n",
        "\n",
        "## Decision Tree Classifier\n",
        "clf1_resample = DecisionTreeClassifier(class_weight=None, criterion='entropy', max_depth=20,\n",
        "            max_features=10, max_leaf_nodes=None,\n",
        "            min_impurity_decrease=0.0, min_impurity_split=None,\n",
        "            min_samples_leaf=1, min_samples_split=2,\n",
        "            min_weight_fraction_leaf=0.0, presort=False, random_state=0,\n",
        "            splitter='best')\n",
        "\n",
        "## kNN Classifier\n",
        "clf2_resample = KNeighborsClassifier(algorithm='auto', leaf_size=30, metric='minkowski',\n",
        "           metric_params=None, n_jobs=1, n_neighbors=1, p=2,\n",
        "           weights='uniform')\n",
        "\n",
        "## Logistic Regression Classifier\n",
        "clf3_resample = LogisticRegression(C=0.1, class_weight=None, dual=False, fit_intercept=True,\n",
        "          intercept_scaling=1, max_iter=100, multi_class='ovr', n_jobs=1,\n",
        "          penalty='l1', random_state=0, solver='liblinear', tol=0.0001,\n",
        "          verbose=0, warm_start=False)\n",
        "\n",
        "# Label the classifiers\n",
        "clf_labels = ['Decision tree',  'KNN', 'Logistic regression',]\n",
        "all_clf = [clf1_resample, clf2_resample, clf3_resample]\n",
        "\n",
        "print('10-fold cross validation:\\n')\n",
        "for clf, label in zip([clf1_resample, clf2_resample, clf3_resample], clf_labels): #For all classifiers \n",
        "    if clf == clf1_resample:\n",
        "        scores = cross_val_score(estimator=clf,  #Estimate AUC based on cross validation\n",
        "                             X=xtree_train_resample,\n",
        "                             y=y_train_resample,\n",
        "                             cv=10,\n",
        "                             scoring='roc_auc')\n",
        "    elif clf == clf2_resample:\n",
        "        scores = cross_val_score(estimator=clf,  #Estimate AUC based on cross validation\n",
        "                             X=x_train_resample_std,\n",
        "                             y=y_train_resample,\n",
        "                             cv=10,\n",
        "                             scoring='roc_auc')\n",
        "\n",
        "    else:\n",
        "        scores = cross_val_score(estimator=clf,  #Estimate AUC based on cross validation\n",
        "                             X=x_train_resample,\n",
        "                             y=y_train_resample,\n",
        "                             cv=10,\n",
        "                             scoring='roc_auc')\n",
        "    print(\"ROC AUC: %0.2f (+/- %0.2f) [%s]\" #Print peformance statistics based on cross-validation\n",
        "      % (scores.mean(), scores.std(), label))\n",
        "\n",
        "colors = ['red', 'blue', 'green']      #Colors for visualization\n",
        "linestyles = [':', '--', '-.', '-']        #Line styles for visualization\n",
        "for clf, label, clr, ls in zip(all_clf,\n",
        "               clf_labels, colors, linestyles):\n",
        "\n",
        "    # assuming the label of the positive class is 1 and data is normalized\n",
        "    if clf == clf1_resample:\n",
        "        y_pred = clf.fit(xtree_train_resample,\n",
        "                         y_train_resample).predict_proba(xtree_test)[:, 1] # Make predictions based on the classifiers\n",
        "        \n",
        "    elif clf == clf2_resample:\n",
        "        y_pred = clf.fit(x_train_resample_std,\n",
        "                         y_train_resample).predict_proba(x_test_std)[:, 1] # Make predictions based on the classifiers\n",
        "\n",
        "    else:\n",
        "        y_pred = clf.fit(x_train_resample,\n",
        "                         y_train_resample).predict_proba(x_test)[:, 1] # Make predictions based on the classifiers\n",
        "    fpr, tpr, thresholds = roc_curve(y_true=y_test, # Build ROC curve\n",
        "                                     y_score=y_pred)\n",
        "    roc_auc = auc(x=fpr, y=tpr)                # Compute Area Under the Curve (AUC) \n",
        "    plt.plot(fpr, tpr,                         # Plot ROC Curve and create label with AUC values\n",
        "             color=clr,\n",
        "             linestyle=ls,\n",
        "             label='%s (auc = %0.2f)' % (label, roc_auc))\n",
        "\n",
        "plt.legend(loc='lower right')    # Where to place the legend\n",
        "plt.plot([0, 1], [0, 1], # Visualize random classifier\n",
        "         linestyle='--',\n",
        "         color='gray',\n",
        "         linewidth=2)\n",
        "\n",
        "plt.xlim([-0.1, 1.1])   #limits for x axis\n",
        "plt.ylim([-0.1, 1.1])   #limits for y axis\n",
        "plt.grid(alpha=0.5)\n",
        "plt.xlabel('False positive rate (FPR)')\n",
        "plt.ylabel('True positive rate (TPR)')\n",
        "\n",
        "#plt.savefig('ROC_all_classifiers', dpi=300)\n",
        "plt.show()"
      ],
      "execution_count": 80,
      "outputs": [
        {
          "output_type": "stream",
          "text": [
            "10-fold cross validation:\n",
            "\n",
            "ROC AUC: 1.00 (+/- 0.00) [Decision tree]\n",
            "ROC AUC: 0.99 (+/- 0.00) [KNN]\n",
            "ROC AUC: 0.97 (+/- 0.01) [Logistic regression]\n"
          ],
          "name": "stdout"
        },
        {
          "output_type": "display_data",
          "data": {
            "image/png": "[encoded data removed]",
            "text/plain": [
              "<Figure size 432x288 with 1 Axes>"
            ]
          },
          "metadata": {
            "tags": [],
            "needs_background": "light"
          }
        }
      ]
    }
  ]
}